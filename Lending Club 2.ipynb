{
 "cells": [
  {
   "cell_type": "markdown",
   "metadata": {},
   "source": [
    "# Lending Club loan data "
   ]
  },
  {
   "cell_type": "code",
   "execution_count": 6,
   "metadata": {},
   "outputs": [],
   "source": [
    "import pandas as pd\n",
    "import numpy as np\n",
    "import matplotlib.pyplot as plt\n",
    "%matplotlib inline\n",
    "import seaborn as sns\n",
    "\n"
   ]
  },
  {
   "cell_type": "markdown",
   "metadata": {},
   "source": [
    "### Loan_2017 data"
   ]
  },
  {
   "cell_type": "code",
   "execution_count": 4,
   "metadata": {},
   "outputs": [
    {
     "name": "stderr",
     "output_type": "stream",
     "text": [
      "C:\\Users\\nadel\\AppData\\Local\\Temp\\ipykernel_3752\\801609636.py:2: DtypeWarning: Columns (50) have mixed types. Specify dtype option on import or set low_memory=False.\n",
      "  df = pd.read_csv('loan_2017.csv')\n"
     ]
    },
    {
     "name": "stdout",
     "output_type": "stream",
     "text": [
      "<class 'pandas.core.frame.DataFrame'>\n",
      "RangeIndex: 443579 entries, 0 to 443578\n",
      "Columns: 108 entries, secappopenactil to loanstatus\n",
      "dtypes: float64(88), int64(1), object(19)\n",
      "memory usage: 365.5+ MB\n"
     ]
    }
   ],
   "source": [
    "# Load the 2017 data\n",
    "df = pd.read_csv('loan_2017.csv') \n",
    "df.info()"
   ]
  },
  {
   "cell_type": "code",
   "execution_count": 14,
   "metadata": {
    "scrolled": true
   },
   "outputs": [
    {
     "data": {
      "text/plain": [
       "array(['secappopenactil', 'bcopentobuy', 'initialliststatus',\n",
       "       'numactvbctl', 'grade', 'mthssincelastrecord', 'totcurbal',\n",
       "       'secappnumrevaccts', 'secappmthssincelastmajorderog', 'subgrade',\n",
       "       'secappcollections12mthsexmed', 'mosinrcnttl', 'openrv12m',\n",
       "       'inqlast12m', 'mortacc', 'mthssincelastdelinq',\n",
       "       'verificationstatusjoint', 'numactvrevtl', 'tothicredlim',\n",
       "       'revolbaljoint', 'ficorangehigh', 'maxbalbc', 'openil24m',\n",
       "       'numbctl', 'totalrevhilim', 'totcollamt', 'secappopenacc',\n",
       "       'numtl120dpd2m', 'secappficorangelow', 'totalbalexmort',\n",
       "       'annualincjoint', 'earliestcrline', 'memberid', 'applicationtype',\n",
       "       'intrate', 'ficorangelow', 'totalacc', 'desc', 'term',\n",
       "       'mthssincerecentbcdlq', 'homeownership', 'installment',\n",
       "       'numrevaccts', 'pubrec', 'accopenpast24mths', 'numoprevtl',\n",
       "       'avgcurbal', 'secappmortacc', 'openactil', 'addrstate',\n",
       "       'secappearliestcrline', 'dti', 'openacc6m', 'totalbalil',\n",
       "       'delinq2yrs', 'fundedamnt', 'mosinoldilacct', 'annualinc',\n",
       "       'revolutil', 'inqfi', 'numtl30dpd', 'loanamnt', 'numsats',\n",
       "       'mthssincerecentrevoldelinq', 'mthssincerecentbc', 'id',\n",
       "       'secappchargeoffwithin12mths', 'revolbal', 'inqlast6mths',\n",
       "       'mthssincercntil', 'openrv24m', 'zipcode', 'verificationstatus',\n",
       "       'secapprevolutil', 'emptitle', 'totalilhighcreditlimit',\n",
       "       'collections12mthsexmed', 'chargeoffwithin12mths',\n",
       "       'numtl90gdpd24m', 'delinqamnt', 'mosinoldrevtlop',\n",
       "       'secappficorangehigh', 'taxliens', 'numbcsats', 'totalbclimit',\n",
       "       'dtijoint', 'numacctsever120pd', 'accnowdelinq', 'openil12m',\n",
       "       'pcttlnvrdlq', 'emplength', 'bcutil', 'mthssincerecentinq',\n",
       "       'numiltl', 'mosinrcntrevtlop', 'allutil', 'openacc',\n",
       "       'numrevtlbalgt0', 'totalcutl', 'mthssincelastmajorderog',\n",
       "       'numtloppast12m', 'percentbcgt75', 'pubrecbankruptcies', 'ilutil',\n",
       "       'secappinqlast6mths', 'purpose', 'issued', 'loanstatus'],\n",
       "      dtype=object)"
      ]
     },
     "execution_count": 14,
     "metadata": {},
     "output_type": "execute_result"
    }
   ],
   "source": [
    "cols=df.columns.values\n",
    "cols"
   ]
  },
  {
   "cell_type": "markdown",
   "metadata": {},
   "source": [
    "### Find all_null_feature, num_feature, ob_feature"
   ]
  },
  {
   "cell_type": "code",
   "execution_count": 15,
   "metadata": {
    "scrolled": true
   },
   "outputs": [
    {
     "name": "stdout",
     "output_type": "stream",
     "text": [
      "id is int\n"
     ]
    }
   ],
   "source": [
    "all_null_feature=[]\n",
    "num_feature=[]\n",
    "ob_feature=[]\n",
    "for col in cols:\n",
    "    if df[col].isnull().sum()==df.shape[0]:\n",
    "        all_null_feature.append(col)\n",
    "    else:\n",
    "        if df[col].dtype == 'object':\n",
    "            ob_feature.append(col)\n",
    "        else:\n",
    "            num_feature.append(col)\n",
    "            if df[col].dtype == 'int64':\n",
    "                print (col + \" is int\")\n",
    "    "
   ]
  },
  {
   "cell_type": "code",
   "execution_count": 16,
   "metadata": {},
   "outputs": [
    {
     "name": "stdout",
     "output_type": "stream",
     "text": [
      "87 19\n",
      "2\n"
     ]
    }
   ],
   "source": [
    "print (len(num_feature), len(ob_feature))\n",
    "print (len(all_null_feature))"
   ]
  },
  {
   "cell_type": "code",
   "execution_count": 17,
   "metadata": {},
   "outputs": [
    {
     "data": {
      "text/plain": [
       "['memberid', 'desc']"
      ]
     },
     "execution_count": 17,
     "metadata": {},
     "output_type": "execute_result"
    }
   ],
   "source": [
    "all_null_feature"
   ]
  },
  {
   "cell_type": "code",
   "execution_count": 18,
   "metadata": {},
   "outputs": [
    {
     "data": {
      "text/plain": [
       "['secappopenactil',\n",
       " 'bcopentobuy',\n",
       " 'numactvbctl',\n",
       " 'mthssincelastrecord',\n",
       " 'totcurbal',\n",
       " 'secappnumrevaccts',\n",
       " 'secappmthssincelastmajorderog',\n",
       " 'secappcollections12mthsexmed',\n",
       " 'mosinrcnttl',\n",
       " 'openrv12m',\n",
       " 'inqlast12m',\n",
       " 'mortacc',\n",
       " 'mthssincelastdelinq',\n",
       " 'numactvrevtl',\n",
       " 'tothicredlim',\n",
       " 'revolbaljoint',\n",
       " 'ficorangehigh',\n",
       " 'maxbalbc',\n",
       " 'openil24m',\n",
       " 'numbctl',\n",
       " 'totalrevhilim',\n",
       " 'totcollamt',\n",
       " 'secappopenacc',\n",
       " 'numtl120dpd2m',\n",
       " 'secappficorangelow',\n",
       " 'totalbalexmort',\n",
       " 'annualincjoint',\n",
       " 'ficorangelow',\n",
       " 'totalacc',\n",
       " 'mthssincerecentbcdlq',\n",
       " 'installment',\n",
       " 'numrevaccts',\n",
       " 'pubrec',\n",
       " 'accopenpast24mths',\n",
       " 'numoprevtl',\n",
       " 'avgcurbal',\n",
       " 'secappmortacc',\n",
       " 'openactil',\n",
       " 'dti',\n",
       " 'openacc6m',\n",
       " 'totalbalil',\n",
       " 'delinq2yrs',\n",
       " 'fundedamnt',\n",
       " 'mosinoldilacct',\n",
       " 'annualinc',\n",
       " 'inqfi',\n",
       " 'numtl30dpd',\n",
       " 'loanamnt',\n",
       " 'numsats',\n",
       " 'mthssincerecentrevoldelinq',\n",
       " 'mthssincerecentbc',\n",
       " 'id',\n",
       " 'secappchargeoffwithin12mths',\n",
       " 'revolbal',\n",
       " 'inqlast6mths',\n",
       " 'mthssincercntil',\n",
       " 'openrv24m',\n",
       " 'secapprevolutil',\n",
       " 'totalilhighcreditlimit',\n",
       " 'collections12mthsexmed',\n",
       " 'chargeoffwithin12mths',\n",
       " 'numtl90gdpd24m',\n",
       " 'delinqamnt',\n",
       " 'mosinoldrevtlop',\n",
       " 'secappficorangehigh',\n",
       " 'taxliens',\n",
       " 'numbcsats',\n",
       " 'totalbclimit',\n",
       " 'dtijoint',\n",
       " 'numacctsever120pd',\n",
       " 'accnowdelinq',\n",
       " 'openil12m',\n",
       " 'pcttlnvrdlq',\n",
       " 'bcutil',\n",
       " 'mthssincerecentinq',\n",
       " 'numiltl',\n",
       " 'mosinrcntrevtlop',\n",
       " 'allutil',\n",
       " 'openacc',\n",
       " 'numrevtlbalgt0',\n",
       " 'totalcutl',\n",
       " 'mthssincelastmajorderog',\n",
       " 'numtloppast12m',\n",
       " 'percentbcgt75',\n",
       " 'pubrecbankruptcies',\n",
       " 'ilutil',\n",
       " 'secappinqlast6mths']"
      ]
     },
     "execution_count": 18,
     "metadata": {},
     "output_type": "execute_result"
    }
   ],
   "source": [
    "num_feature"
   ]
  },
  {
   "cell_type": "code",
   "execution_count": 19,
   "metadata": {
    "scrolled": true
   },
   "outputs": [
    {
     "data": {
      "text/plain": [
       "['initialliststatus',\n",
       " 'grade',\n",
       " 'subgrade',\n",
       " 'verificationstatusjoint',\n",
       " 'earliestcrline',\n",
       " 'applicationtype',\n",
       " 'intrate',\n",
       " 'term',\n",
       " 'homeownership',\n",
       " 'addrstate',\n",
       " 'secappearliestcrline',\n",
       " 'revolutil',\n",
       " 'zipcode',\n",
       " 'verificationstatus',\n",
       " 'emptitle',\n",
       " 'emplength',\n",
       " 'purpose',\n",
       " 'issued',\n",
       " 'loanstatus']"
      ]
     },
     "execution_count": 19,
     "metadata": {},
     "output_type": "execute_result"
    }
   ],
   "source": [
    "ob_feature"
   ]
  },
  {
   "cell_type": "code",
   "execution_count": 20,
   "metadata": {},
   "outputs": [
    {
     "name": "stdout",
     "output_type": "stream",
     "text": [
      "initialliststatus\n"
     ]
    }
   ],
   "source": [
    "i=0\n",
    "feat = ob_feature[i]\n",
    "print (feat)"
   ]
  },
  {
   "cell_type": "code",
   "execution_count": 21,
   "metadata": {},
   "outputs": [
    {
     "name": "stdout",
     "output_type": "stream",
     "text": [
      "Missing value count 0\n"
     ]
    },
    {
     "data": {
      "text/plain": [
       "w    344010\n",
       "f     99569\n",
       "Name: initialliststatus, dtype: int64"
      ]
     },
     "execution_count": 21,
     "metadata": {},
     "output_type": "execute_result"
    }
   ],
   "source": [
    "print (\"Missing value count\", df[feat].isnull().sum())\n",
    "df[feat].value_counts()"
   ]
  },
  {
   "cell_type": "code",
   "execution_count": 22,
   "metadata": {},
   "outputs": [
    {
     "name": "stdout",
     "output_type": "stream",
     "text": [
      "grade\n",
      "Missing value count 0\n"
     ]
    },
    {
     "data": {
      "text/plain": [
       "C    145144\n",
       "B    133127\n",
       "A     78796\n",
       "D     56646\n",
       "E     20167\n",
       "F      6242\n",
       "G      3457\n",
       "Name: grade, dtype: int64"
      ]
     },
     "execution_count": 22,
     "metadata": {},
     "output_type": "execute_result"
    }
   ],
   "source": [
    "i=1\n",
    "feat = ob_feature[i]\n",
    "print (feat)\n",
    "print (\"Missing value count\", df[feat].isnull().sum())\n",
    "df[feat].value_counts()"
   ]
  },
  {
   "cell_type": "code",
   "execution_count": 23,
   "metadata": {},
   "outputs": [
    {
     "name": "stdout",
     "output_type": "stream",
     "text": [
      "subgrade\n",
      "Missing value count 0\n"
     ]
    },
    {
     "data": {
      "text/plain": [
       "C1    32542\n",
       "B5    31216\n",
       "C5    29806\n",
       "C4    28256\n",
       "B1    27863\n",
       "C3    27454\n",
       "C2    27086\n",
       "B3    26113\n",
       "B2    24552\n",
       "B4    23383\n",
       "A5    19661\n",
       "A1    16266\n",
       "A4    14964\n",
       "A3    14447\n",
       "D1    14015\n",
       "A2    13458\n",
       "D3    13347\n",
       "D2    13304\n",
       "D4     8623\n",
       "D5     7357\n",
       "E2     4705\n",
       "E5     4694\n",
       "E1     3837\n",
       "E3     3527\n",
       "E4     3404\n",
       "F1     1818\n",
       "F3     1231\n",
       "F2     1147\n",
       "F5     1039\n",
       "F4     1007\n",
       "G1      972\n",
       "G5      659\n",
       "G4      657\n",
       "G3      589\n",
       "G2      580\n",
       "Name: subgrade, dtype: int64"
      ]
     },
     "execution_count": 23,
     "metadata": {},
     "output_type": "execute_result"
    }
   ],
   "source": [
    "i=2\n",
    "feat = ob_feature[i]\n",
    "print (feat)\n",
    "print (\"Missing value count\",df[feat].isnull().sum())\n",
    "df[feat].value_counts()"
   ]
  },
  {
   "cell_type": "code",
   "execution_count": 24,
   "metadata": {},
   "outputs": [
    {
     "name": "stdout",
     "output_type": "stream",
     "text": [
      "verificationstatusjoint\n",
      "Missing value count 401160\n"
     ]
    },
    {
     "data": {
      "text/plain": [
       "Not Verified       19805\n",
       "Source Verified    12994\n",
       "Verified            9620\n",
       "Name: verificationstatusjoint, dtype: int64"
      ]
     },
     "execution_count": 24,
     "metadata": {},
     "output_type": "execute_result"
    }
   ],
   "source": [
    "\n",
    "i=3\n",
    "feat = ob_feature[i]\n",
    "print (feat)\n",
    "# print (\"Missing value count\", df[feat].isnull().sum()*1.0/df.shape[0])\n",
    "print (\"Missing value count\", df[feat].isnull().sum())\n",
    "df[feat].value_counts()"
   ]
  },
  {
   "cell_type": "code",
   "execution_count": 25,
   "metadata": {},
   "outputs": [
    {
     "name": "stdout",
     "output_type": "stream",
     "text": [
      "earliestcrline\n",
      "Missing value count 0\n"
     ]
    },
    {
     "data": {
      "text/plain": [
       "Sep-2005    3561\n",
       "Aug-2006    3454\n",
       "Sep-2004    3426\n",
       "Aug-2005    3399\n",
       "Aug-2004    3306\n",
       "            ... \n",
       "May-1960       1\n",
       "Aug-1962       1\n",
       "Nov-1952       1\n",
       "Aug-1958       1\n",
       "Feb-1958       1\n",
       "Name: earliestcrline, Length: 683, dtype: int64"
      ]
     },
     "execution_count": 25,
     "metadata": {},
     "output_type": "execute_result"
    }
   ],
   "source": [
    "\n",
    "i=4\n",
    "feat = ob_feature[i]\n",
    "print (feat)\n",
    "print (\"Missing value count\", df[feat].isnull().sum())\n",
    "df[feat].value_counts()"
   ]
  },
  {
   "cell_type": "code",
   "execution_count": 26,
   "metadata": {},
   "outputs": [
    {
     "name": "stdout",
     "output_type": "stream",
     "text": [
      "applicationtype\n",
      "Missing value count 0\n"
     ]
    },
    {
     "data": {
      "text/plain": [
       "Individual    401154\n",
       "Joint App      42425\n",
       "Name: applicationtype, dtype: int64"
      ]
     },
     "execution_count": 26,
     "metadata": {},
     "output_type": "execute_result"
    }
   ],
   "source": [
    "\n",
    "i=5\n",
    "feat = ob_feature[i]\n",
    "print (feat)\n",
    "print (\"Missing value count\", df[feat].isnull().sum())\n",
    "df[feat].value_counts()"
   ]
  },
  {
   "cell_type": "code",
   "execution_count": 27,
   "metadata": {},
   "outputs": [
    {
     "name": "stdout",
     "output_type": "stream",
     "text": [
      "intrate\n",
      "Missing value count 0\n"
     ]
    },
    {
     "data": {
      "text/plain": [
       " 16.02%    20504\n",
       " 11.99%    19739\n",
       " 12.62%    19659\n",
       " 10.42%    19229\n",
       "  9.44%    18916\n",
       "           ...  \n",
       " 29.49%      505\n",
       " 29.99%      431\n",
       " 30.49%      338\n",
       " 30.74%      293\n",
       "  6.00%      220\n",
       "Name: intrate, Length: 67, dtype: int64"
      ]
     },
     "execution_count": 27,
     "metadata": {},
     "output_type": "execute_result"
    }
   ],
   "source": [
    "i=6\n",
    "feat = ob_feature[i]\n",
    "print (feat)\n",
    "print (\"Missing value count\", df[feat].isnull().sum())\n",
    "df[feat].value_counts()"
   ]
  },
  {
   "cell_type": "code",
   "execution_count": 28,
   "metadata": {},
   "outputs": [
    {
     "name": "stdout",
     "output_type": "stream",
     "text": [
      "term\n",
      "Missing value count 0\n",
      " 36 months    0.722349\n",
      " 60 months    0.277651\n",
      "Name: term, dtype: float64\n"
     ]
    },
    {
     "data": {
      "text/plain": [
       " 36 months    320419\n",
       " 60 months    123160\n",
       "Name: term, dtype: int64"
      ]
     },
     "execution_count": 28,
     "metadata": {},
     "output_type": "execute_result"
    }
   ],
   "source": [
    "# only use 36 months data for our project\n",
    "i=7\n",
    "feat = ob_feature[i]\n",
    "print (feat)\n",
    "print (\"Missing value count\", df[feat].isnull().sum())\n",
    "print (df.term.value_counts(normalize=True))\n",
    "df[feat].value_counts()"
   ]
  },
  {
   "cell_type": "code",
   "execution_count": 29,
   "metadata": {},
   "outputs": [
    {
     "name": "stdout",
     "output_type": "stream",
     "text": [
      "homeownership\n",
      "Missing value count 0\n"
     ]
    },
    {
     "data": {
      "text/plain": [
       "MORTGAGE    217123\n",
       "RENT        173643\n",
       "OWN          52414\n",
       "ANY            395\n",
       "NONE             4\n",
       "Name: homeownership, dtype: int64"
      ]
     },
     "execution_count": 29,
     "metadata": {},
     "output_type": "execute_result"
    }
   ],
   "source": [
    "\n",
    "i=8\n",
    "feat = ob_feature[i]\n",
    "print (feat)\n",
    "print (\"Missing value count\", df[feat].isnull().sum())\n",
    "df[feat].value_counts()"
   ]
  },
  {
   "cell_type": "code",
   "execution_count": 30,
   "metadata": {},
   "outputs": [
    {
     "name": "stdout",
     "output_type": "stream",
     "text": [
      "addrstate\n",
      "Missing value count 0\n",
      "50 CA    59851\n",
      "TX    37259\n",
      "NY    37200\n",
      "FL    31936\n",
      "IL    18307\n",
      "NJ    16175\n",
      "PA    15045\n",
      "OH    14464\n",
      "GA    14253\n",
      "NC    12096\n",
      "VA    12050\n",
      "MI    11585\n",
      "MD    10849\n",
      "AZ    10754\n",
      "MA    10173\n",
      "CO     9466\n",
      "WA     9044\n",
      "MN     7770\n",
      "IN     7689\n",
      "CT     7505\n",
      "TN     7131\n",
      "MO     7066\n",
      "NV     6433\n",
      "WI     5951\n",
      "SC     5450\n",
      "OR     5193\n",
      "AL     5147\n",
      "LA     4991\n",
      "KY     4311\n",
      "OK     3947\n",
      "KS     3681\n",
      "AR     3289\n",
      "MS     2860\n",
      "UT     2772\n",
      "NH     2281\n",
      "NM     2214\n",
      "NE     2132\n",
      "HI     1998\n",
      "RI     1965\n",
      "ME     1438\n",
      "ID     1325\n",
      "DE     1246\n",
      "MT     1223\n",
      "VT     1042\n",
      "ND     1011\n",
      "DC      982\n",
      "AK      970\n",
      "SD      867\n",
      "WY      823\n",
      "WV      369\n",
      "Name: addrstate, dtype: int64\n"
     ]
    }
   ],
   "source": [
    "\n",
    "i=9\n",
    "feat = ob_feature[i]\n",
    "print (feat)\n",
    "print (\"Missing value count\", df[feat].isnull().sum())\n",
    "print (len(df[feat].value_counts()),  df[feat].value_counts())"
   ]
  },
  {
   "cell_type": "code",
   "execution_count": 31,
   "metadata": {},
   "outputs": [
    {
     "name": "stdout",
     "output_type": "stream",
     "text": [
      "secappearliestcrline\n",
      "Missing value count 0.9119976373994261\n",
      "599 Aug-2006    357\n",
      "Sep-2006    341\n",
      "Sep-2005    335\n",
      "Aug-2004    328\n",
      "Aug-2005    322\n",
      "           ... \n",
      "Jan-1971      1\n",
      "Jan-1974      1\n",
      "Aug-1966      1\n",
      "Jul-1958      1\n",
      "Sep-1963      1\n",
      "Name: secappearliestcrline, Length: 599, dtype: int64\n"
     ]
    }
   ],
   "source": [
    "# secondary applicant \n",
    "i=10\n",
    "feat = ob_feature[i]\n",
    "print (feat)\n",
    "print (\"Missing value count\", df[feat].isnull().sum()*1.0/df.shape[0])\n",
    "print (len(df[feat].value_counts()), df[feat].value_counts())"
   ]
  },
  {
   "cell_type": "code",
   "execution_count": 32,
   "metadata": {},
   "outputs": [
    {
     "name": "stdout",
     "output_type": "stream",
     "text": [
      "revolutil\n",
      "Missing value count 444\n",
      "1156\n",
      "0%     2759\n",
      "60%     902\n",
      "42%     882\n",
      "54%     879\n",
      "53%     876\n",
      "Name: revolutil, dtype: int64\n"
     ]
    }
   ],
   "source": [
    "\n",
    "i=11\n",
    "feat = ob_feature[i]\n",
    "print (feat)\n",
    "print (\"Missing value count\", df[feat].isnull().sum())\n",
    "print (len(df[feat].value_counts()) )\n",
    "print (df[feat].value_counts()[:5])"
   ]
  },
  {
   "cell_type": "code",
   "execution_count": 33,
   "metadata": {},
   "outputs": [
    {
     "name": "stdout",
     "output_type": "stream",
     "text": [
      "zipcode\n",
      "Missing value count 1\n",
      "905 112xx    4856\n",
      "750xx    4683\n",
      "945xx    4613\n",
      "606xx    4038\n",
      "300xx    4001\n",
      "Name: zipcode, dtype: int64 901xx    1\n",
      "854xx    1\n",
      "964xx    1\n",
      "698xx    1\n",
      "205xx    1\n",
      "Name: zipcode, dtype: int64\n"
     ]
    }
   ],
   "source": [
    "\n",
    "i=12\n",
    "feat = ob_feature[i]\n",
    "print (feat)\n",
    "print (\"Missing value count\", df[feat].isnull().sum())\n",
    "print (len(df[feat].value_counts()), df[feat].value_counts()[:5], df[feat].value_counts()[-5:])"
   ]
  },
  {
   "cell_type": "code",
   "execution_count": 34,
   "metadata": {},
   "outputs": [
    {
     "name": "stdout",
     "output_type": "stream",
     "text": [
      "verificationstatus\n",
      "Missing value count 0\n",
      "3 Source Verified    171644\n",
      "Not Verified       158655\n",
      "Verified           113280\n",
      "Name: verificationstatus, dtype: int64\n"
     ]
    }
   ],
   "source": [
    "i=13\n",
    "feat = ob_feature[i]\n",
    "print (feat)\n",
    "print (\"Missing value count\", df[feat].isnull().sum())\n",
    "print (len(df[feat].value_counts()) , df[feat].value_counts()[:5] )"
   ]
  },
  {
   "cell_type": "code",
   "execution_count": 35,
   "metadata": {},
   "outputs": [
    {
     "name": "stdout",
     "output_type": "stream",
     "text": [
      "emptitle\n",
      "Missing value count 32344\n",
      "120656 Teacher                     8425\n",
      "Manager                     7647\n",
      "Owner                       6113\n",
      "Driver                      3616\n",
      "Registered Nurse            3328\n",
      "RN                          3118\n",
      "Supervisor                  3030\n",
      "Sales                       3023\n",
      "Project Manager             2310\n",
      "Director                    2028\n",
      "Office Manager              2023\n",
      "owner                       1990\n",
      "General Manager             1978\n",
      "President                   1708\n",
      "Engineer                    1517\n",
      "Operations Manager          1328\n",
      "Nurse                       1291\n",
      "manager                     1275\n",
      "teacher                     1246\n",
      "Sales Manager               1206\n",
      "Vice President              1182\n",
      "Accountant                  1140\n",
      "Attorney                    1129\n",
      "Truck Driver                1080\n",
      "Supervisor                  1061\n",
      "Administrative Assistant    1060\n",
      "Technician                  1030\n",
      "Account Manager              988\n",
      "Server                       943\n",
      "driver                       929\n",
      "Name: emptitle, dtype: int64\n"
     ]
    }
   ],
   "source": [
    "\n",
    "i=14\n",
    "feat = ob_feature[i]\n",
    "print (feat)\n",
    "print (\"Missing value count\", df[feat].isnull().sum())\n",
    "print (len(df[feat].value_counts()) , df[feat].value_counts()[:30])"
   ]
  },
  {
   "cell_type": "code",
   "execution_count": 36,
   "metadata": {},
   "outputs": [
    {
     "name": "stdout",
     "output_type": "stream",
     "text": [
      "emplength\n",
      "Missing value count 31871\n",
      "11 10+ years    146057\n",
      "< 1 year      43835\n",
      "2 years       40456\n",
      "3 years       35362\n",
      "1 year        28985\n",
      "4 years       26993\n",
      "5 years       26660\n",
      "6 years       19043\n",
      "7 years       15932\n",
      "9 years       15229\n",
      "8 years       13156\n",
      "Name: emplength, dtype: int64\n"
     ]
    }
   ],
   "source": [
    "\n",
    "i=15\n",
    "feat = ob_feature[i]\n",
    "print (feat)\n",
    "print (\"Missing value count\", df[feat].isnull().sum())\n",
    "print (len(df[feat].value_counts()) , df[feat].value_counts()[:12])\n"
   ]
  },
  {
   "cell_type": "code",
   "execution_count": 38,
   "metadata": {},
   "outputs": [
    {
     "name": "stdout",
     "output_type": "stream",
     "text": [
      "purpose\n",
      "Missing value count 0\n",
      "14 debt_consolidation    245083\n",
      "credit_card            91466\n",
      "home_improvement       34693\n",
      "other                  33057\n",
      "major_purchase         11140\n",
      "medical                 6885\n",
      "car                     5357\n",
      "small_business          4938\n",
      "vacation                4026\n",
      "moving                  3644\n",
      "house                   2997\n",
      "renewable_energy         291\n",
      "wedding                    1\n",
      "educational                1\n",
      "Name: purpose, dtype: int64\n"
     ]
    }
   ],
   "source": [
    "\n",
    "i=16\n",
    "feat = ob_feature[i]\n",
    "print (feat)\n",
    "print (\"Missing value count\", df[feat].isnull().sum())\n",
    "print (len(df[feat].value_counts()) , df[feat].value_counts()[:15] )"
   ]
  },
  {
   "cell_type": "code",
   "execution_count": 39,
   "metadata": {},
   "outputs": [
    {
     "name": "stdout",
     "output_type": "stream",
     "text": [
      "issued\n",
      "Missing value count 0\n",
      "12 Aug-2017    43573\n",
      "Nov-2017    42343\n",
      "Sep-2017    39713\n",
      "Jul-2017    39415\n",
      "Dec-2017    38154\n",
      "Oct-2017    38151\n",
      "Jun-2017    38087\n",
      "May-2017    37681\n",
      "Mar-2017    37181\n",
      "Jan-2017    31835\n",
      "Apr-2017    29683\n",
      "Feb-2017    27763\n",
      "Name: issued, dtype: int64\n"
     ]
    }
   ],
   "source": [
    "i=17\n",
    "feat = ob_feature[i]\n",
    "print (feat)\n",
    "print (\"Missing value count\",df[feat].isnull().sum())\n",
    "print (len(df[feat].value_counts()) , df[feat].value_counts()[:15] )"
   ]
  },
  {
   "cell_type": "markdown",
   "metadata": {},
   "source": [
    "### For an issued loan, fundedamnt=loanamnt, drop fundedamnt"
   ]
  },
  {
   "cell_type": "code",
   "execution_count": 40,
   "metadata": {
    "scrolled": true
   },
   "outputs": [
    {
     "name": "stderr",
     "output_type": "stream",
     "text": [
      "C:\\Users\\nadel\\AppData\\Local\\Temp\\ipykernel_44780\\1928708605.py:1: UserWarning: Pandas doesn't allow columns to be created via a new attribute name - see https://pandas.pydata.org/pandas-docs/stable/indexing.html#attribute-access\n",
      "  df.ratio=df.fundedamnt/df.loanamnt.astype(float,3)\n"
     ]
    },
    {
     "data": {
      "text/html": [
       "<div>\n",
       "<style scoped>\n",
       "    .dataframe tbody tr th:only-of-type {\n",
       "        vertical-align: middle;\n",
       "    }\n",
       "\n",
       "    .dataframe tbody tr th {\n",
       "        vertical-align: top;\n",
       "    }\n",
       "\n",
       "    .dataframe thead th {\n",
       "        text-align: right;\n",
       "    }\n",
       "</style>\n",
       "<table border=\"1\" class=\"dataframe\">\n",
       "  <thead>\n",
       "    <tr style=\"text-align: right;\">\n",
       "      <th></th>\n",
       "      <th>fundedamnt</th>\n",
       "      <th>loanamnt</th>\n",
       "    </tr>\n",
       "  </thead>\n",
       "  <tbody>\n",
       "    <tr>\n",
       "      <th>0</th>\n",
       "      <td>7100.0</td>\n",
       "      <td>7100.0</td>\n",
       "    </tr>\n",
       "    <tr>\n",
       "      <th>1</th>\n",
       "      <td>6800.0</td>\n",
       "      <td>6800.0</td>\n",
       "    </tr>\n",
       "    <tr>\n",
       "      <th>2</th>\n",
       "      <td>9900.0</td>\n",
       "      <td>9900.0</td>\n",
       "    </tr>\n",
       "    <tr>\n",
       "      <th>3</th>\n",
       "      <td>14000.0</td>\n",
       "      <td>14000.0</td>\n",
       "    </tr>\n",
       "    <tr>\n",
       "      <th>4</th>\n",
       "      <td>15400.0</td>\n",
       "      <td>15400.0</td>\n",
       "    </tr>\n",
       "    <tr>\n",
       "      <th>5</th>\n",
       "      <td>10000.0</td>\n",
       "      <td>10000.0</td>\n",
       "    </tr>\n",
       "    <tr>\n",
       "      <th>6</th>\n",
       "      <td>10000.0</td>\n",
       "      <td>10000.0</td>\n",
       "    </tr>\n",
       "    <tr>\n",
       "      <th>7</th>\n",
       "      <td>3025.0</td>\n",
       "      <td>3025.0</td>\n",
       "    </tr>\n",
       "    <tr>\n",
       "      <th>8</th>\n",
       "      <td>9000.0</td>\n",
       "      <td>9000.0</td>\n",
       "    </tr>\n",
       "    <tr>\n",
       "      <th>9</th>\n",
       "      <td>12000.0</td>\n",
       "      <td>12000.0</td>\n",
       "    </tr>\n",
       "  </tbody>\n",
       "</table>\n",
       "</div>"
      ],
      "text/plain": [
       "   fundedamnt  loanamnt\n",
       "0      7100.0    7100.0\n",
       "1      6800.0    6800.0\n",
       "2      9900.0    9900.0\n",
       "3     14000.0   14000.0\n",
       "4     15400.0   15400.0\n",
       "5     10000.0   10000.0\n",
       "6     10000.0   10000.0\n",
       "7      3025.0    3025.0\n",
       "8      9000.0    9000.0\n",
       "9     12000.0   12000.0"
      ]
     },
     "execution_count": 40,
     "metadata": {},
     "output_type": "execute_result"
    },
    {
     "data": {
      "image/png": "[encoded data removed]",
      "text/plain": [
       "<Figure size 432x288 with 1 Axes>"
      ]
     },
     "metadata": {
      "needs_background": "light"
     },
     "output_type": "display_data"
    }
   ],
   "source": [
    "df.ratio=df.fundedamnt/df.loanamnt.astype(float,3)\n",
    "df.ratio.hist(bins=100)\n",
    "df[['fundedamnt','loanamnt']][:10]"
   ]
  },
  {
   "cell_type": "markdown",
   "metadata": {},
   "source": [
    "##### Histogram"
   ]
  },
  {
   "cell_type": "code",
   "execution_count": 41,
   "metadata": {},
   "outputs": [
    {
     "data": {
      "text/plain": [
       "<AxesSubplot:>"
      ]
     },
     "execution_count": 41,
     "metadata": {},
     "output_type": "execute_result"
    },
    {
     "data": {
      "image/png": "[encoded data removed]",
      "text/plain": [
       "<Figure size 432x288 with 1 Axes>"
      ]
     },
     "metadata": {
      "needs_background": "light"
     },
     "output_type": "display_data"
    }
   ],
   "source": [
    "df.installment.hist(bins=100)"
   ]
  },
  {
   "cell_type": "markdown",
   "metadata": {},
   "source": [
    "##### Mean response"
   ]
  },
  {
   "cell_type": "code",
   "execution_count": 42,
   "metadata": {},
   "outputs": [
    {
     "data": {
      "text/plain": [
       "320419"
      ]
     },
     "execution_count": 42,
     "metadata": {},
     "output_type": "execute_result"
    }
   ],
   "source": [
    "# only take 36 months term data\n",
    "df = df.query(\"term ==' 36 months'\")\n",
    "len(df)"
   ]
  },
  {
   "cell_type": "code",
   "execution_count": 43,
   "metadata": {},
   "outputs": [],
   "source": [
    "df = df.query(\"loanstatus == 'Fully Paid' or loanstatus == 'Charged Off' \")"
   ]
  },
  {
   "cell_type": "code",
   "execution_count": 44,
   "metadata": {},
   "outputs": [],
   "source": [
    "df['loanstatus'] = df.loanstatus.map({\"Charged Off\": 1, \"Fully Paid\": 0})"
   ]
  },
  {
   "cell_type": "code",
   "execution_count": 45,
   "metadata": {},
   "outputs": [
    {
     "data": {
      "text/plain": [
       "0    214502\n",
       "1     43274\n",
       "Name: loanstatus, dtype: int64"
      ]
     },
     "execution_count": 45,
     "metadata": {},
     "output_type": "execute_result"
    }
   ],
   "source": [
    "df['loanstatus'].value_counts()"
   ]
  },
  {
   "cell_type": "code",
   "execution_count": 46,
   "metadata": {},
   "outputs": [
    {
     "data": {
      "text/plain": [
       "0    0.832126\n",
       "1    0.167874\n",
       "Name: loanstatus, dtype: float64"
      ]
     },
     "execution_count": 46,
     "metadata": {},
     "output_type": "execute_result"
    }
   ],
   "source": [
    "df['loanstatus'].value_counts(normalize = True)"
   ]
  },
  {
   "cell_type": "code",
   "execution_count": 47,
   "metadata": {},
   "outputs": [
    {
     "data": {
      "text/plain": [
       "11"
      ]
     },
     "execution_count": 47,
     "metadata": {},
     "output_type": "execute_result"
    }
   ],
   "source": [
    "dummy_list = [ \"emplength\", \"verificationstatus\", \"delinq2yrs\", \"addrstate\", 'homeownership', \n",
    "              \"grade\", \"subgrade\", \"openacc\", 'applicationtype', 'initialliststatus', \"issued\"]\n",
    "n = len(dummy_list)\n",
    "n"
   ]
  },
  {
   "cell_type": "code",
   "execution_count": 48,
   "metadata": {},
   "outputs": [
    {
     "data": {
      "text/plain": [
       "<AxesSubplot:xlabel='emplength', ylabel='loanstatus'>"
      ]
     },
     "execution_count": 48,
     "metadata": {},
     "output_type": "execute_result"
    },
    {
     "data": {
      "image/png": "[encoded data removed]",
      "text/plain": [
       "<Figure size 432x288 with 1 Axes>"
      ]
     },
     "metadata": {
      "needs_background": "light"
     },
     "output_type": "display_data"
    }
   ],
   "source": [
    "sns.barplot(x=dummy_list[0], y='loanstatus', data=df)"
   ]
  },
  {
   "cell_type": "code",
   "execution_count": 49,
   "metadata": {},
   "outputs": [
    {
     "data": {
      "text/plain": [
       "<AxesSubplot:xlabel='verificationstatus', ylabel='loanstatus'>"
      ]
     },
     "execution_count": 49,
     "metadata": {},
     "output_type": "execute_result"
    },
    {
     "data": {
      "image/png": "[encoded data removed]",
      "text/plain": [
       "<Figure size 432x288 with 1 Axes>"
      ]
     },
     "metadata": {
      "needs_background": "light"
     },
     "output_type": "display_data"
    }
   ],
   "source": [
    "\n",
    "\n",
    "sns.barplot(x=dummy_list[1], y='loanstatus', data=df)"
   ]
  },
  {
   "cell_type": "code",
   "execution_count": 50,
   "metadata": {},
   "outputs": [
    {
     "data": {
      "text/plain": [
       "<AxesSubplot:xlabel='delinq2yrs', ylabel='loanstatus'>"
      ]
     },
     "execution_count": 50,
     "metadata": {},
     "output_type": "execute_result"
    },
    {
     "data": {
      "image/png": "[encoded data removed]",
      "text/plain": [
       "<Figure size 432x288 with 1 Axes>"
      ]
     },
     "metadata": {
      "needs_background": "light"
     },
     "output_type": "display_data"
    }
   ],
   "source": [
    "sns.barplot(x=dummy_list[2], y='loanstatus', data=df)"
   ]
  },
  {
   "cell_type": "code",
   "execution_count": 51,
   "metadata": {},
   "outputs": [
    {
     "data": {
      "text/plain": [
       "<AxesSubplot:xlabel='addrstate', ylabel='loanstatus'>"
      ]
     },
     "execution_count": 51,
     "metadata": {},
     "output_type": "execute_result"
    },
    {
     "data": {
      "image/png": "[encoded data removed]",
      "text/plain": [
       "<Figure size 432x288 with 1 Axes>"
      ]
     },
     "metadata": {
      "needs_background": "light"
     },
     "output_type": "display_data"
    }
   ],
   "source": [
    "sns.barplot(x=dummy_list[3], y='loanstatus', data=df)"
   ]
  },
  {
   "cell_type": "code",
   "execution_count": 52,
   "metadata": {},
   "outputs": [
    {
     "data": {
      "text/plain": [
       "<AxesSubplot:xlabel='homeownership', ylabel='loanstatus'>"
      ]
     },
     "execution_count": 52,
     "metadata": {},
     "output_type": "execute_result"
    },
    {
     "data": {
      "image/png": "[encoded data removed]",
      "text/plain": [
       "<Figure size 432x288 with 1 Axes>"
      ]
     },
     "metadata": {
      "needs_background": "light"
     },
     "output_type": "display_data"
    }
   ],
   "source": [
    "sns.barplot(x=dummy_list[4], y='loanstatus', data=df)"
   ]
  },
  {
   "cell_type": "code",
   "execution_count": 53,
   "metadata": {
    "scrolled": true
   },
   "outputs": [
    {
     "data": {
      "text/plain": [
       "<AxesSubplot:xlabel='grade', ylabel='loanstatus'>"
      ]
     },
     "execution_count": 53,
     "metadata": {},
     "output_type": "execute_result"
    },
    {
     "data": {
      "image/png": "[encoded data removed]",
      "text/plain": [
       "<Figure size 432x288 with 1 Axes>"
      ]
     },
     "metadata": {
      "needs_background": "light"
     },
     "output_type": "display_data"
    }
   ],
   "source": [
    "sns.barplot(x=dummy_list[5], y='loanstatus', data=df, order = ['A', 'B', 'C', 'D', 'E', 'F', 'G'])"
   ]
  },
  {
   "cell_type": "code",
   "execution_count": 54,
   "metadata": {},
   "outputs": [
    {
     "data": {
      "text/plain": [
       "array(['A1', 'A2', 'A3', 'A4', 'A5', 'B1', 'B2', 'B3', 'B4', 'B5', 'C1',\n",
       "       'C2', 'C3', 'C4', 'C5', 'D1', 'D2', 'D3', 'D4', 'D5', 'E1', 'E2',\n",
       "       'E3', 'E4', 'E5', 'F1', 'F2', 'F3', 'F4', 'F5', 'G1', 'G2', 'G3',\n",
       "       'G4', 'G5'], dtype=object)"
      ]
     },
     "execution_count": 54,
     "metadata": {},
     "output_type": "execute_result"
    }
   ],
   "source": [
    "np.sort(df.subgrade.unique())"
   ]
  },
  {
   "cell_type": "code",
   "execution_count": 55,
   "metadata": {},
   "outputs": [
    {
     "data": {
      "text/plain": [
       "<AxesSubplot:xlabel='subgrade', ylabel='loanstatus'>"
      ]
     },
     "execution_count": 55,
     "metadata": {},
     "output_type": "execute_result"
    },
    {
     "data": {
      "image/png": "[encoded data removed]",
      "text/plain": [
       "<Figure size 432x288 with 1 Axes>"
      ]
     },
     "metadata": {
      "needs_background": "light"
     },
     "output_type": "display_data"
    }
   ],
   "source": [
    "sns.barplot(x=dummy_list[6], y='loanstatus', data=df, order = np.sort(df.subgrade.unique()))"
   ]
  },
  {
   "cell_type": "code",
   "execution_count": 56,
   "metadata": {
    "scrolled": true
   },
   "outputs": [
    {
     "data": {
      "text/plain": [
       "<AxesSubplot:xlabel='openacc', ylabel='loanstatus'>"
      ]
     },
     "execution_count": 56,
     "metadata": {},
     "output_type": "execute_result"
    },
    {
     "data": {
      "image/png": "[encoded data removed]",
      "text/plain": [
       "<Figure size 432x288 with 1 Axes>"
      ]
     },
     "metadata": {
      "needs_background": "light"
     },
     "output_type": "display_data"
    }
   ],
   "source": [
    "sns.barplot(x=dummy_list[7], y='loanstatus', data=df)"
   ]
  },
  {
   "cell_type": "code",
   "execution_count": 57,
   "metadata": {},
   "outputs": [
    {
     "data": {
      "text/plain": [
       "<AxesSubplot:>"
      ]
     },
     "execution_count": 57,
     "metadata": {},
     "output_type": "execute_result"
    },
    {
     "data": {
      "image/png": "[encoded data removed]",
      "text/plain": [
       "<Figure size 432x288 with 1 Axes>"
      ]
     },
     "metadata": {
      "needs_background": "light"
     },
     "output_type": "display_data"
    }
   ],
   "source": [
    "df.openacc.hist(bins=20)"
   ]
  },
  {
   "cell_type": "code",
   "execution_count": 58,
   "metadata": {},
   "outputs": [
    {
     "data": {
      "text/plain": [
       "<AxesSubplot:xlabel='applicationtype', ylabel='loanstatus'>"
      ]
     },
     "execution_count": 58,
     "metadata": {},
     "output_type": "execute_result"
    },
    {
     "data": {
      "image/png": "[encoded data removed]",
      "text/plain": [
       "<Figure size 432x288 with 1 Axes>"
      ]
     },
     "metadata": {
      "needs_background": "light"
     },
     "output_type": "display_data"
    }
   ],
   "source": [
    "sns.barplot(x=dummy_list[8], y='loanstatus', data=df)"
   ]
  },
  {
   "cell_type": "code",
   "execution_count": 59,
   "metadata": {},
   "outputs": [
    {
     "data": {
      "text/plain": [
       "<AxesSubplot:xlabel='initialliststatus', ylabel='loanstatus'>"
      ]
     },
     "execution_count": 59,
     "metadata": {},
     "output_type": "execute_result"
    },
    {
     "data": {
      "image/png": "[encoded data removed]",
      "text/plain": [
       "<Figure size 432x288 with 1 Axes>"
      ]
     },
     "metadata": {
      "needs_background": "light"
     },
     "output_type": "display_data"
    }
   ],
   "source": [
    "sns.barplot(x=dummy_list[9], y='loanstatus', data=df)"
   ]
  },
  {
   "cell_type": "code",
   "execution_count": 60,
   "metadata": {},
   "outputs": [
    {
     "data": {
      "text/plain": [
       "<AxesSubplot:xlabel='issued', ylabel='loanstatus'>"
      ]
     },
     "execution_count": 60,
     "metadata": {},
     "output_type": "execute_result"
    },
    {
     "data": {
      "image/png": "[encoded data removed]",
      "text/plain": [
       "<Figure size 432x288 with 1 Axes>"
      ]
     },
     "metadata": {
      "needs_background": "light"
     },
     "output_type": "display_data"
    }
   ],
   "source": [
    "sns.barplot(x=dummy_list[10], y='loanstatus', data=df, order = ['Jan-2017','Feb-2017','Mar-2017','Apr-2017','May-2017','Jun-2017','Jul-2017','Aug-2017','Sep-2017','Oct-2017','Nov-2017','Dec-2017'])"
   ]
  },
  {
   "cell_type": "code",
   "execution_count": 65,
   "metadata": {},
   "outputs": [],
   "source": [
    "def countinuous_variable_plot(feat_name):\n",
    "    sns.set_style(\"whitegrid\", {'axes.edgecolor': '0'})\n",
    "    factor = pd.qcut(df[feat_name], 5, labels = False) #groups the data act on groups                                                               #seperately\n",
    "    table = df.groupby([factor, 'loanstatus']).size() #gets group size counts, hashed by the two variables\n",
    "    table = table.unstack('loanstatus') #splits the data into 2 columns, 0, 1, each indexed by the\n",
    "    normedtable = table.div(table.sum(1), axis=0) #divides the counts by the totals\n",
    "    fig, ax = plt.subplots(1, 1, figsize=(12,6))\n",
    "    normedtable.iloc[:, 1].plot(kind = 'bar', alpha=0.9, color =\"#FD2C10\", ax = ax )\n",
    "    ax.set_xlabel(\"%s percentile\" % feat_name , fontsize = 20)\n",
    "    ax.set_ylabel('Default Rate', fontsize = 20)\n",
    "    x = range(5)\n",
    "    labels = ['20%tile', '40%tile', '60%tile', '80%tile', '100%tile']\n",
    "    plt.xticks(x, labels, rotation='0', fontsize = 18)\n",
    "    sns.despine()\n",
    "    ax.set_title(\"Loan Performance with respect to %s\" % feat_name )\n",
    "    fig.savefig('age.jpg')"
   ]
  },
  {
   "cell_type": "code",
   "execution_count": 66,
   "metadata": {},
   "outputs": [
    {
     "data": {
      "image/png": "[encoded data removed]",
      "text/plain": [
       "<Figure size 864x432 with 1 Axes>"
      ]
     },
     "metadata": {},
     "output_type": "display_data"
    }
   ],
   "source": [
    "countinuous_variable_plot('annualinc')"
   ]
  },
  {
   "cell_type": "code",
   "execution_count": 67,
   "metadata": {},
   "outputs": [
    {
     "data": {
      "image/png": "[encoded data removed]",
      "text/plain": [
       "<Figure size 864x432 with 1 Axes>"
      ]
     },
     "metadata": {},
     "output_type": "display_data"
    }
   ],
   "source": [
    "countinuous_variable_plot('dti')"
   ]
  },
  {
   "cell_type": "code",
   "execution_count": 68,
   "metadata": {},
   "outputs": [
    {
     "data": {
      "image/png": "[encoded data removed]",
      "text/plain": [
       "<Figure size 864x432 with 1 Axes>"
      ]
     },
     "metadata": {},
     "output_type": "display_data"
    }
   ],
   "source": [
    "countinuous_variable_plot('revolbal')"
   ]
  },
  {
   "cell_type": "code",
   "execution_count": 69,
   "metadata": {},
   "outputs": [
    {
     "data": {
      "image/png": "[encoded data removed]",
      "text/plain": [
       "<Figure size 864x432 with 1 Axes>"
      ]
     },
     "metadata": {},
     "output_type": "display_data"
    }
   ],
   "source": [
    "countinuous_variable_plot('tothicredlim')"
   ]
  },
  {
   "cell_type": "code",
   "execution_count": 70,
   "metadata": {},
   "outputs": [
    {
     "data": {
      "image/png": "[encoded data removed]",
      "text/plain": [
       "<Figure size 864x432 with 1 Axes>"
      ]
     },
     "metadata": {},
     "output_type": "display_data"
    }
   ],
   "source": [
    "countinuous_variable_plot('totalbalexmort')"
   ]
  },
  {
   "cell_type": "code",
   "execution_count": 71,
   "metadata": {},
   "outputs": [
    {
     "data": {
      "image/png": "[encoded data removed]",
      "text/plain": [
       "<Figure size 864x432 with 1 Axes>"
      ]
     },
     "metadata": {},
     "output_type": "display_data"
    }
   ],
   "source": [
    "countinuous_variable_plot('totalbclimit')"
   ]
  },
  {
   "cell_type": "code",
   "execution_count": 72,
   "metadata": {},
   "outputs": [
    {
     "data": {
      "image/png": "[encoded data removed]",
      "text/plain": [
       "<Figure size 864x432 with 1 Axes>"
      ]
     },
     "metadata": {},
     "output_type": "display_data"
    }
   ],
   "source": [
    "countinuous_variable_plot('totalilhighcreditlimit')"
   ]
  },
  {
   "cell_type": "code",
   "execution_count": 73,
   "metadata": {},
   "outputs": [],
   "source": []
  },
  {
   "cell_type": "code",
   "execution_count": null,
   "metadata": {},
   "outputs": [],
   "source": []
  }
 ],
 "metadata": {
  "anaconda-cloud": {},
  "kernelspec": {
   "display_name": "Python 3 (ipykernel)",
   "language": "python",
   "name": "python3"
  },
  "language_info": {
   "codemirror_mode": {
    "name": "ipython",
    "version": 3
   },
   "file_extension": ".py",
   "mimetype": "text/x-python",
   "name": "python",
   "nbconvert_exporter": "python",
   "pygments_lexer": "ipython3",
   "version": "3.9.12"
  }
 },
 "nbformat": 4,
 "nbformat_minor": 1
}
