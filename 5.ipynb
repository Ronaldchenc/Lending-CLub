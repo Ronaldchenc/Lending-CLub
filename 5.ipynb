{
 "cells": [
  {
   "cell_type": "code",
   "execution_count": 1,
   "id": "026fa427",
   "metadata": {},
   "outputs": [],
   "source": [
    "\n",
    "import os\n",
    "import pickle\n",
    "import pandas as pd\n",
    "import pandas as pd\n",
    "import numpy as np\n",
    "import matplotlib.pyplot as plt\n",
    "%matplotlib inline\n",
    "import xgboost as xgb\n",
    "import seaborn as sns\n",
    "import math\n",
    "import ipysheet\n",
    "import ipywidgets"
   ]
  },
  {
   "cell_type": "code",
   "execution_count": 2,
   "id": "a822818b",
   "metadata": {},
   "outputs": [],
   "source": [
    "feat=['secappopenactil', 'bcopentobuy', 'numactvbctl', 'mthssincelastrecord', 'totcurbal', 'secappnumrevaccts', 'secappmthssincelastmajorderog', 'secappcollections12mthsexmed', 'mosinrcnttl', 'openrv12m', 'inqlast12m', 'mortacc', 'mthssincelastdelinq', 'numactvrevtl', 'tothicredlim', 'revolbaljoint', 'ficorangehigh', 'maxbalbc', 'openil24m', 'numbctl', 'totalrevhilim', 'totcollamt', 'secappopenacc', 'numtl120dpd2m', 'secappficorangelow', 'totalbalexmort', 'annualincjoint', 'ficorangelow', 'totalacc', 'mthssincerecentbcdlq', 'installment', 'numrevaccts', 'pubrec', 'accopenpast24mths', 'numoprevtl', 'avgcurbal', 'secappmortacc', 'openactil', 'dti', 'openacc6m', 'totalbalil', 'delinq2yrs', 'mosinoldilacct', 'annualinc', 'inqfi', 'numtl30dpd', 'loanamnt', 'numsats', 'mthssincerecentrevoldelinq', 'mthssincerecentbc', 'secappchargeoffwithin12mths', 'revolbal', 'inqlast6mths', 'mthssincercntil', 'openrv24m', 'secapprevolutil', 'totalilhighcreditlimit', 'collections12mthsexmed', 'chargeoffwithin12mths', 'numtl90gdpd24m', 'delinqamnt', 'mosinoldrevtlop', 'secappficorangehigh', 'taxliens', 'numbcsats', 'totalbclimit', 'dtijoint', 'numacctsever120pd', 'accnowdelinq', 'openil12m', 'pcttlnvrdlq', 'bcutil', 'mthssincerecentinq', 'numiltl', 'mosinrcntrevtlop', 'allutil', 'openacc', 'numrevtlbalgt0', 'totalcutl', 'mthssincelastmajorderog', 'numtloppast12m', 'percentbcgt75', 'pubrecbankruptcies', 'ilutil', 'secappinqlast6mths', 'earliestcrline_month', 'secappearliestcrline_month', 'emplength', 'intrate', 'revolutil', 'grade', 'subgrade', 'zipcode', 'zipcode_freq', 'emptitle_freq', 'addrstate_freq', 'homeownership_ANY', 'homeownership_MORTGAGE', 'homeownership_NONE', 'homeownership_OWN', 'homeownership_RENT', 'verificationstatus_Not Verified', 'verificationstatus_Source Verified', 'verificationstatus_Verified', 'verificationstatusjoint_Not Verified', 'verificationstatusjoint_Source Verified', 'verificationstatusjoint_Verified', 'purpose_car', 'purpose_credit_card', 'purpose_debt_consolidation', 'purpose_educational', 'purpose_home_improvement', 'purpose_house', 'purpose_major_purchase', 'purpose_medical', 'purpose_moving', 'purpose_other', 'purpose_renewable_energy', 'purpose_small_business', 'purpose_vacation', 'applicationtype_Individual', 'applicationtype_Joint App', 'initialliststatus_f', 'initialliststatus_w']"
   ]
  },
  {
   "cell_type": "code",
   "execution_count": 3,
   "id": "12550559",
   "metadata": {},
   "outputs": [],
   "source": [
    "#import Model from saved pickle \n",
    "def import_model():\n",
    "    scores = {} # scores is an empty dict already\n",
    "    path = \"C:\\\\Users\\\\nadel\\\\Desktop\\\\4100 Applied Project\\\\Project\\\\model.pkl\"\n",
    "\n",
    "    if os.path.getsize(path) > 0:      \n",
    "        with open(path, \"rb\") as f:\n",
    "            unpickler = pickle.Unpickler(f)\n",
    "            # if file is not empty scores will be equal\n",
    "            # to the value unpickled\n",
    "            scores = unpickler.load()\n",
    "    return scores"
   ]
  },
  {
   "cell_type": "code",
   "execution_count": 4,
   "id": "c4312eb8",
   "metadata": {},
   "outputs": [],
   "source": [
    "#Get loan information \n",
    "def get_data():\n",
    "    info=[]\n",
    "    for i in range(len(feat)):\n",
    "        x=input('{}:'.format(feat[i]))\n",
    "        \n",
    "        info.append(x)\n",
    "        i+=1\n",
    "        \n",
    "    return info\n"
   ]
  },
  {
   "cell_type": "code",
   "execution_count": 5,
   "id": "618f9ce7",
   "metadata": {},
   "outputs": [],
   "source": [
    "#Convert Input information into DataFrame\n",
    "def convert_df(information,feat):\n",
    "    df1 = pd.DataFrame([information],columns=feat)\n",
    "    df = df1.applymap(lambda x: pd.to_numeric(x, errors='coerce'))\n",
    "    #'coerce' will convert any value error to NaN\n",
    "    return df"
   ]
  },
  {
   "cell_type": "code",
   "execution_count": 6,
   "id": "7ac9f7c0",
   "metadata": {},
   "outputs": [],
   "source": [
    "#Predict loan risk probability\n",
    "def predict(df_test1,scores):\n",
    "    dmatrix_data1 = xgb.DMatrix(df_test1)\n",
    "    # Make predictions using the DMatrix object\n",
    "    predictions1 = scores.predict(dmatrix_data1)\n",
    "    \n",
    "    prediction = float(predictions1)\n",
    "\n",
    "    prediction={'high risk': round(prediction, 2),\n",
    "                        'safe': round(1 - prediction, 2),\n",
    "                        }\n",
    "    return prediction"
   ]
  },
  {
   "cell_type": "code",
   "execution_count": 7,
   "id": "0e1659e2",
   "metadata": {},
   "outputs": [],
   "source": [
    "#Show Result in Excel sheet\n",
    "def excel_output(df_test1,prediction):\n",
    "    sheet = ipysheet.sheet(columns=df_test1.shape[1], column_headers=list(df_test1.columns))\n",
    "    for row_idx in range(df_test1.shape[0]):\n",
    "        for col_idx in range(df_test1.shape[1]):\n",
    "            value = df_test1.iloc[row_idx, col_idx]\n",
    "            ipysheet.cell(row_idx, col_idx, value)\n",
    "    cell1=ipysheet.cell(2,0,\"High risk\")\n",
    "    cell2=ipysheet.cell(3,0,\"Safe\")\n",
    "    cell3=ipysheet.cell(3,1,prediction['safe'])\n",
    "    cell3=ipysheet.cell(2,1,prediction['high risk'])\n",
    "    sheet\n",
    "    return sheet"
   ]
  },
  {
   "cell_type": "code",
   "execution_count": 8,
   "id": "56e42a5a",
   "metadata": {
    "collapsed": true
   },
   "outputs": [
    {
     "name": "stdout",
     "output_type": "stream",
     "text": [
      "secappopenactil:2\n",
      "bcopentobuy:2\n",
      "numactvbctl:3\n",
      "mthssincelastrecord:4\n",
      "totcurbal:15\n",
      "secappnumrevaccts:124\n",
      "secappmthssincelastmajorderog:1241\n",
      "secappcollections12mthsexmed:23\n",
      "mosinrcnttl:14\n",
      "openrv12m:123\n",
      "inqlast12m:1\n",
      "mortacc:414\n",
      "mthssincelastdelinq:12\n",
      "numactvrevtl:41\n",
      "tothicredlim:41\n",
      "revolbaljoint:41\n",
      "ficorangehigh:124\n",
      "maxbalbc:124\n",
      "openil24m:1\n",
      "numbctl:321\n",
      "totalrevhilim:41\n",
      "totcollamt:123\n",
      "secappopenacc:1\n",
      "numtl120dpd2m:1\n",
      "secappficorangelow:3\n",
      "totalbalexmort:4\n",
      "annualincjoint:1\n",
      "ficorangelow:51\n",
      "totalacc:3\n",
      "mthssincerecentbcdlq:4\n",
      "installment:4\n",
      "numrevaccts:15\n",
      "pubrec:1\n",
      "accopenpast24mths:31\n",
      "numoprevtl:1\n",
      "avgcurbal:541\n",
      "secappmortacc:41\n",
      "openactil:1\n",
      "dti:414\n",
      "openacc6m:15\n",
      "totalbalil:1\n",
      "delinq2yrs:41\n",
      "mosinoldilacct:415\n",
      "annualinc:145\n",
      "inqfi:14\n",
      "numtl30dpd:1\n",
      "loanamnt:414\n",
      "numsats:241\n",
      "mthssincerecentrevoldelinq:312\n",
      "mthssincerecentbc:31\n",
      "secappchargeoffwithin12mths:312\n",
      "revolbal:31\n",
      "inqlast6mths:4\n",
      "mthssincercntil:124\n",
      "openrv24m:14\n",
      "secapprevolutil:1\n",
      "totalilhighcreditlimit:4\n",
      "collections12mthsexmed:124\n",
      "chargeoffwithin12mths:14\n",
      "numtl90gdpd24m:21\n",
      "delinqamnt:41\n",
      "mosinoldrevtlop:42\n",
      "secappficorangehigh:14\n",
      "taxliens:1\n",
      "numbcsats:1\n",
      "totalbclimit:41\n",
      "dtijoint:24\n",
      "numacctsever120pd:123\n",
      "accnowdelinq:1\n",
      "openil12m:41\n",
      "pcttlnvrdlq:4\n",
      "bcutil:14\n",
      "mthssincerecentinq:14\n",
      "numiltl:2\n",
      "mosinrcntrevtlop:31\n",
      "allutil:31\n",
      "openacc:3\n",
      "numrevtlbalgt0:124\n",
      "totalcutl:12\n",
      "mthssincelastmajorderog:41\n",
      "numtloppast12m:24\n",
      "percentbcgt75:123\n",
      "pubrecbankruptcies:12\n",
      "ilutil:31\n",
      "secappinqlast6mths:41\n",
      "earliestcrline_month:24\n",
      "secappearliestcrline_month:1\n",
      "emplength:31\n",
      "intrate:24\n",
      "revolutil:124\n",
      "grade:124\n",
      "subgrade:12\n",
      "zipcode:412\n",
      "zipcode_freq:4\n",
      "emptitle_freq:124\n",
      "addrstate_freq:123\n",
      "homeownership_ANY:12\n",
      "homeownership_MORTGAGE:1\n",
      "homeownership_NONE:1\n",
      "homeownership_OWN:0\n",
      "homeownership_RENT:0\n",
      "verificationstatus_Not Verified:0\n",
      "verificationstatus_Source Verified:01\n",
      "verificationstatus_Verified:1\n",
      "verificationstatusjoint_Not Verified:1\n",
      "verificationstatusjoint_Source Verified:1\n",
      "verificationstatusjoint_Verified:1\n",
      "purpose_car:0\n",
      "purpose_credit_card:1\n",
      "purpose_debt_consolidation:01\n",
      "purpose_educational:0\n",
      "purpose_home_improvement:1\n",
      "purpose_house:0\n",
      "purpose_major_purchase:1\n",
      "purpose_medical:0\n",
      "purpose_moving:1\n",
      "purpose_other:1\n",
      "purpose_renewable_energy:0\n",
      "purpose_small_business:1\n",
      "purpose_vacation:0\n",
      "applicationtype_Individual:1\n",
      "applicationtype_Joint App:0\n",
      "initialliststatus_f:0\n",
      "initialliststatus_w:1\n"
     ]
    }
   ],
   "source": [
    "if __name__ == '__main__':\n",
    "    scores=import_model()\n",
    "    info=get_data()\n",
    "    df=convert_df(info,feat)\n",
    "    prediction=predict(df,scores)\n",
    "    sheet=excel_output(df,prediction)\n",
    "    sheet"
   ]
  },
  {
   "cell_type": "code",
   "execution_count": 9,
   "id": "8e2340f1",
   "metadata": {},
   "outputs": [
    {
     "data": {
      "application/vnd.jupyter.widget-view+json": {
       "model_id": "f1854c59525846b9bc0c275adc788c4a",
       "version_major": 2,
       "version_minor": 0
      },
      "text/plain": [
       "Sheet(cells=(Cell(column_end=0, column_start=0, row_end=0, row_start=0, type='numeric', value=2), Cell(column_…"
      ]
     },
     "metadata": {},
     "output_type": "display_data"
    }
   ],
   "source": [
    "sheet"
   ]
  },
  {
   "cell_type": "code",
   "execution_count": 8,
   "id": "35d343e1",
   "metadata": {},
   "outputs": [],
   "source": [
    "from pyxll import xl_macro, XLCell\n",
    "\n",
    "@xl_macro\n",
    "def range_test():\n",
    "    cells = XLCell.from_range(\"A1:DT2\")\n",
    "    value = cells.options(type=\"dataframe\").value\n",
    "    return value"
   ]
  },
  {
   "cell_type": "code",
   "execution_count": 9,
   "id": "9580cc60",
   "metadata": {},
   "outputs": [
    {
     "data": {
      "text/plain": [
       "(1, 124)"
      ]
     },
     "execution_count": 9,
     "metadata": {},
     "output_type": "execute_result"
    }
   ],
   "source": [
    "value=range_test()\n",
    "value.shape"
   ]
  },
  {
   "cell_type": "code",
   "execution_count": 10,
   "id": "6fb6c0ba",
   "metadata": {},
   "outputs": [],
   "source": [
    "scores=import_model()"
   ]
  },
  {
   "cell_type": "code",
   "execution_count": 11,
   "id": "10f0acc4",
   "metadata": {},
   "outputs": [
    {
     "data": {
      "text/plain": [
       "array([0.5440122], dtype=float32)"
      ]
     },
     "execution_count": 11,
     "metadata": {},
     "output_type": "execute_result"
    }
   ],
   "source": [
    "df = value.applymap(lambda x: pd.to_numeric(x, errors='coerce'))\n",
    "dmatrix_data = xgb.DMatrix(df[feat])\n",
    "predictions = scores.predict(dmatrix_data)\n",
    "predictions"
   ]
  },
  {
   "cell_type": "code",
   "execution_count": 12,
   "id": "ec636263",
   "metadata": {},
   "outputs": [],
   "source": [
    "from pyxll import xl_func\n",
    "@xl_func\n",
    "def excels(predictions):\n",
    "    # Round the predictions and calculate the complement (1 - predictions)\n",
    "    high_risk = np.round(predictions, 2)\n",
    "    safe = np.round(1 - predictions, 2)\n",
    "    \n",
    "    # Create the prediction dictionary\n",
    "    prediction = {\n",
    "        'high risk': high_risk,\n",
    "        'safe': safe,\n",
    "    }\n",
    "    \n",
    "    return prediction"
   ]
  },
  {
   "cell_type": "code",
   "execution_count": 13,
   "id": "fedf115e",
   "metadata": {},
   "outputs": [],
   "source": [
    "prediction=excels(predictions)"
   ]
  },
  {
   "cell_type": "code",
   "execution_count": 14,
   "id": "74ee640a",
   "metadata": {},
   "outputs": [
    {
     "data": {
      "text/plain": [
       "{'high risk': array([0.54], dtype=float32),\n",
       " 'safe': array([0.46], dtype=float32)}"
      ]
     },
     "execution_count": 14,
     "metadata": {},
     "output_type": "execute_result"
    }
   ],
   "source": [
    "prediction"
   ]
  },
  {
   "cell_type": "code",
   "execution_count": 15,
   "id": "e86daa47",
   "metadata": {},
   "outputs": [],
   "source": [
    "@xl_func\n",
    "def pre():\n",
    "    scores = {} # scores is an empty dict already\n",
    "    path = \"C:\\\\Users\\\\nadel\\\\Desktop\\\\4100 Applied Project\\\\Project\\\\model.pkl\"\n",
    "\n",
    "    if os.path.getsize(path) > 0:      \n",
    "        with open(path, \"rb\") as f:\n",
    "            unpickler = pickle.Unpickler(f)\n",
    "            # if file is not empty scores will be equal\n",
    "            # to the value unpickled\n",
    "            scores = unpickler.load()\n",
    "    cells = XLCell.from_range(\"A1:DT2\")\n",
    "    value = cells.options(type=\"dataframe\").value\n",
    "    df = value.applymap(lambda x: pd.to_numeric(x, errors='coerce'))\n",
    "    dmatrix_data = xgb.DMatrix(df[feat])\n",
    "    predictions = scores.predict(dmatrix_data)\n",
    "    return predictions"
   ]
  },
  {
   "cell_type": "code",
   "execution_count": 75,
   "id": "13c68723",
   "metadata": {},
   "outputs": [],
   "source": [
    "predictions=pre()"
   ]
  },
  {
   "cell_type": "code",
   "execution_count": 76,
   "id": "336a72e1",
   "metadata": {},
   "outputs": [
    {
     "data": {
      "text/plain": [
       "array([0.2623986], dtype=float32)"
      ]
     },
     "execution_count": 76,
     "metadata": {},
     "output_type": "execute_result"
    }
   ],
   "source": [
    "predictions"
   ]
  },
  {
   "cell_type": "code",
   "execution_count": null,
   "id": "5f869fc8",
   "metadata": {},
   "outputs": [],
   "source": []
  }
 ],
 "metadata": {
  "kernelspec": {
   "display_name": "Python 3 (ipykernel)",
   "language": "python",
   "name": "python3"
  },
  "language_info": {
   "codemirror_mode": {
    "name": "ipython",
    "version": 3
   },
   "file_extension": ".py",
   "mimetype": "text/x-python",
   "name": "python",
   "nbconvert_exporter": "python",
   "pygments_lexer": "ipython3",
   "version": "3.7.12"
  }
 },
 "nbformat": 4,
 "nbformat_minor": 5
}
