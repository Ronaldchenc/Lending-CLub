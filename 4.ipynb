{
 "cells": [
  {
   "cell_type": "code",
   "execution_count": 1,
   "id": "1eba78d9",
   "metadata": {},
   "outputs": [],
   "source": [
    "import os\n",
    "import pickle\n",
    "import pandas as pd\n",
    "import pandas as pd\n",
    "import numpy as np\n",
    "import matplotlib.pyplot as plt\n",
    "%matplotlib inline\n",
    "import xgboost as xgb\n",
    "import seaborn as sns\n",
    "import math\n"
   ]
  },
  {
   "cell_type": "code",
   "execution_count": 6,
   "id": "ff1c60ee",
   "metadata": {},
   "outputs": [],
   "source": [
    "scores = {} # scores is an empty dict already\n",
    "\n",
    "if os.path.getsize('model.pkl') > 0:      \n",
    "    with open('model.pkl', \"rb\") as f:\n",
    "        unpickler = pickle.Unpickler(f)\n",
    "        # if file is not empty scores will be equal\n",
    "        # to the value unpickled\n",
    "        scores = unpickler.load()"
   ]
  },
  {
   "cell_type": "code",
   "execution_count": 4,
   "id": "4c6db9fc",
   "metadata": {},
   "outputs": [],
   "source": [
    "feat=['secappopenactil', 'bcopentobuy', 'numactvbctl', 'mthssincelastrecord', 'totcurbal', 'secappnumrevaccts', 'secappmthssincelastmajorderog', 'secappcollections12mthsexmed', 'mosinrcnttl', 'openrv12m', 'inqlast12m', 'mortacc', 'mthssincelastdelinq', 'numactvrevtl', 'tothicredlim', 'revolbaljoint', 'ficorangehigh', 'maxbalbc', 'openil24m', 'numbctl', 'totalrevhilim', 'totcollamt', 'secappopenacc', 'numtl120dpd2m', 'secappficorangelow', 'totalbalexmort', 'annualincjoint', 'ficorangelow', 'totalacc', 'mthssincerecentbcdlq', 'installment', 'numrevaccts', 'pubrec', 'accopenpast24mths', 'numoprevtl', 'avgcurbal', 'secappmortacc', 'openactil', 'dti', 'openacc6m', 'totalbalil', 'delinq2yrs', 'mosinoldilacct', 'annualinc', 'inqfi', 'numtl30dpd', 'loanamnt', 'numsats', 'mthssincerecentrevoldelinq', 'mthssincerecentbc', 'secappchargeoffwithin12mths', 'revolbal', 'inqlast6mths', 'mthssincercntil', 'openrv24m', 'secapprevolutil', 'totalilhighcreditlimit', 'collections12mthsexmed', 'chargeoffwithin12mths', 'numtl90gdpd24m', 'delinqamnt', 'mosinoldrevtlop', 'secappficorangehigh', 'taxliens', 'numbcsats', 'totalbclimit', 'dtijoint', 'numacctsever120pd', 'accnowdelinq', 'openil12m', 'pcttlnvrdlq', 'bcutil', 'mthssincerecentinq', 'numiltl', 'mosinrcntrevtlop', 'allutil', 'openacc', 'numrevtlbalgt0', 'totalcutl', 'mthssincelastmajorderog', 'numtloppast12m', 'percentbcgt75', 'pubrecbankruptcies', 'ilutil', 'secappinqlast6mths', 'earliestcrline_month', 'secappearliestcrline_month', 'emplength', 'intrate', 'revolutil', 'grade', 'subgrade', 'zipcode', 'zipcode_freq', 'emptitle_freq', 'addrstate_freq', 'homeownership_ANY', 'homeownership_MORTGAGE', 'homeownership_NONE', 'homeownership_OWN', 'homeownership_RENT', 'verificationstatus_Not Verified', 'verificationstatus_Source Verified', 'verificationstatus_Verified', 'verificationstatusjoint_Not Verified', 'verificationstatusjoint_Source Verified', 'verificationstatusjoint_Verified', 'purpose_car', 'purpose_credit_card', 'purpose_debt_consolidation', 'purpose_educational', 'purpose_home_improvement', 'purpose_house', 'purpose_major_purchase', 'purpose_medical', 'purpose_moving', 'purpose_other', 'purpose_renewable_energy', 'purpose_small_business', 'purpose_vacation', 'applicationtype_Individual', 'applicationtype_Joint App', 'initialliststatus_f', 'initialliststatus_w']"
   ]
  },
  {
   "cell_type": "code",
   "execution_count": 2,
   "id": "0b07e396",
   "metadata": {},
   "outputs": [],
   "source": [
    "df1 = pd.read_csv('dataframe.csv')"
   ]
  },
  {
   "cell_type": "code",
   "execution_count": 7,
   "id": "af2d5bca",
   "metadata": {},
   "outputs": [
    {
     "name": "stdout",
     "output_type": "stream",
     "text": [
      "[0.2623986]\n"
     ]
    }
   ],
   "source": [
    "# Convert the DataFrame to a DMatrix object\n",
    "dmatrix_data = xgb.DMatrix(df1[feat])\n",
    "\n",
    "# Make predictions using the DMatrix object\n",
    "predictions = scores.predict(dmatrix_data)\n",
    "\n",
    "# Print the predictions\n",
    "print(predictions)"
   ]
  },
  {
   "cell_type": "code",
   "execution_count": 92,
   "id": "6a1078c2",
   "metadata": {},
   "outputs": [],
   "source": [
    "df3=pd.read_csv('df1[feat].csv')\n",
    "\n",
    "    "
   ]
  },
  {
   "cell_type": "code",
   "execution_count": 93,
   "id": "0d4cf06a",
   "metadata": {},
   "outputs": [
    {
     "name": "stdout",
     "output_type": "stream",
     "text": [
      "[0.2623986]\n"
     ]
    }
   ],
   "source": [
    "# Convert the DataFrame to a DMatrix object\n",
    "dmatrix_data = xgb.DMatrix(df3)\n",
    "\n",
    "# Make predictions using the DMatrix object\n",
    "predictions = scores.predict(dmatrix_data)\n",
    "\n",
    "# Print the predictions\n",
    "print(predictions)"
   ]
  },
  {
   "cell_type": "code",
   "execution_count": 152,
   "id": "6cb5247d",
   "metadata": {},
   "outputs": [
    {
     "name": "stdout",
     "output_type": "stream",
     "text": [
      "nan\n"
     ]
    }
   ],
   "source": [
    "print(df3.iloc[0]['mthssincelastrecord'])"
   ]
  },
  {
   "cell_type": "code",
   "execution_count": 158,
   "id": "631e8a50",
   "metadata": {},
   "outputs": [
    {
     "data": {
      "text/plain": [
       "0   NaN\n",
       "Name: secappopenactil, dtype: float64"
      ]
     },
     "execution_count": 158,
     "metadata": {},
     "output_type": "execute_result"
    }
   ],
   "source": [
    "df3['secappopenactil']"
   ]
  },
  {
   "cell_type": "code",
   "execution_count": 15,
   "id": "e8974806",
   "metadata": {},
   "outputs": [],
   "source": [
    "def get_info():\n",
    "    info=[]\n",
    "    intrate=input('int_rate=')\n",
    "    loanamnt=input('loan_amnt')\n",
    "    term=input('term')\n",
    "    bcopentobuy=input('bc_open_to_buy')\n",
    "    totalilhighcreditlimit=input('total_il_high_credit_limit')\n",
    "    dti=input('dti')\n",
    "    annualinc=input('annual_inc')\n",
    "    bcutil=input('bc_util')\n",
    "    info.append(int_rate)\n",
    "    info.append(loan_amnt)\n",
    "    info.append(term)\n",
    "    info.append(bc_open_to_buy)\n",
    "    info.append(total_il_high_credit_limit)\n",
    "    info.append(dti)\n",
    "    info.append(annual_inc)\n",
    "    info.append(bc_util)\n",
    "    return info"
   ]
  },
  {
   "cell_type": "code",
   "execution_count": 79,
   "id": "bb4a5808",
   "metadata": {},
   "outputs": [
    {
     "name": "stdout",
     "output_type": "stream",
     "text": [
      "secappopenactil:\n",
      "bcopentobuy:2661\n",
      "numactvbctl:1\n",
      "mthssincelastrecord:\n",
      "totcurbal:20805\n",
      "secappnumrevaccts:\n",
      "secappmthssincelastmajorderog:\n",
      "secappcollections12mthsexmed:\n",
      "mosinrcnttl:13\n",
      "openrv12m:0\n",
      "inqlast12m:0\n",
      "mortacc:0\n",
      "mthssincelastdelinq:\n",
      "numactvrevtl:5\n",
      "tothicredlim:45619\n",
      "revolbaljoint:\n",
      "ficorangehigh:714\n",
      "maxbalbc:9739\n",
      "openil24m:1\n",
      "numbctl:4\n",
      "totalrevhilim:31700\n",
      "totcollamt:1096\n",
      "secappopenacc:\n",
      "numtl120dpd2m:0\n",
      "secappficorangelow:\n",
      "totalbalexmort:20805\n",
      "annualincjoint:\n",
      "ficorangelow:710\n",
      "totalacc:15\n",
      "mthssincerecentbcdlq:\n",
      "installment:233.76\n",
      "numrevaccts:12\n",
      "pubrec:0\n",
      "accopenpast24mths:3\n",
      "numoprevtl:7\n",
      "avgcurbal:2312\n",
      "secappmortacc:\n",
      "openactil:1\n",
      "dti:22.44\n",
      "openacc6m:0\n",
      "totalbalil:3535\n",
      "delinq2yrs:0\n",
      "mosinoldilacct:97\n",
      "annualinc:32160\n",
      "inqfi:0\n",
      "numtl30dpd:0\n",
      "loanamnt:7100\n",
      "numsats:8\n",
      "mthssincerecentrevoldelinq:8\n",
      "mthssincerecentbc:162\n",
      "secappchargeoffwithin12mths:\n",
      "revolbal:13224\n",
      "inqlast6mths:0\n",
      "mthssincercntil:21\n",
      "openrv24m:2\n",
      "secapprevolutil:7100\n",
      "totalilhighcreditlimit:0\n",
      "collections12mthsexmed:0\n",
      "chargeoffwithin12mths:0\n",
      "numtl90gdpd24m:0\n",
      "delinqamnt:0\n",
      "mosinoldrevtlop:521\n",
      "secappficorangehigh:\n",
      "taxliens:0\n",
      "numbcsats:1\n",
      "totalbclimit:12400\n",
      "dtijoint:0\n",
      "numacctsever120pd:0\n",
      "accnowdelinq:0\n",
      "openil12m:0\n",
      "pcttlnvrdlq:100\n",
      "bcutil:78.5\n",
      "mthssincerecentinq:13\n",
      "numiltl:2\n",
      "mosinrcntrevtlop:13\n",
      "allutil:46\n",
      "openacc:9\n",
      "numrevtlbalgt0:5\n",
      "totalcutl:0\n",
      "mthssincelastmajorderog:\n",
      "numtloppast12m:0\n",
      "percentbcgt75:100\n",
      "pubrecbankruptcies:0\n",
      "ilutil:50\n",
      "secappinqlast6mths:\n",
      "earliestcrline_month:536\n",
      "secappearliestcrline_month:-36\n",
      "emplength:-999\n",
      "intrate:11.39\n",
      "revolutil:41.7\n",
      "grade:3\n",
      "subgrade:3\n",
      "zipcode:329\n",
      "zipcode_freq:281\n",
      "emptitle_freq:\n",
      "addrstate_freq:19042\n",
      "homeownership_ANY:0\n",
      "homeownership_MORTGAGE:0\n",
      "homeownership_NONE:0\n",
      "homeownership_OWN:0\n",
      "homeownership_RENT:1\n",
      "verificationstatus_Not Verified:1\n",
      "verificationstatus_Source Verified:0\n",
      "verificationstatus_Verified:0\n",
      "verificationstatusjoint_Not Verified:0\n",
      "verificationstatusjoint_Source Verified:0\n",
      "verificationstatusjoint_Verified:0\n",
      "purpose_car:0\n",
      "purpose_credit_card:0\n",
      "purpose_debt_consolidation:1\n",
      "purpose_educational:0\n",
      "purpose_home_improvement:1\n",
      "purpose_house:0\n",
      "purpose_major_purchase:0\n",
      "purpose_medical:0\n",
      "purpose_moving:1\n",
      "purpose_other:0\n",
      "purpose_renewable_energy:0\n",
      "purpose_small_business:1\n",
      "purpose_vacation:0\n",
      "applicationtype_Individual:1\n",
      "applicationtype_Joint App:0\n",
      "initialliststatus_f:0\n",
      "initialliststatus_w:1\n"
     ]
    }
   ],
   "source": [
    "def get_data():\n",
    "    info=[]\n",
    "    for i in range(len(feat)):\n",
    "        x=input('{}:'.format(feat[i]))\n",
    "        \n",
    "        info.append(x)\n",
    "        i+=1\n",
    "        \n",
    "    return info\n",
    "\n",
    "info=get_data()"
   ]
  },
  {
   "cell_type": "code",
   "execution_count": 163,
   "id": "bcd5730b",
   "metadata": {},
   "outputs": [
    {
     "data": {
      "text/html": [
       "<div>\n",
       "<style scoped>\n",
       "    .dataframe tbody tr th:only-of-type {\n",
       "        vertical-align: middle;\n",
       "    }\n",
       "\n",
       "    .dataframe tbody tr th {\n",
       "        vertical-align: top;\n",
       "    }\n",
       "\n",
       "    .dataframe thead th {\n",
       "        text-align: right;\n",
       "    }\n",
       "</style>\n",
       "<table border=\"1\" class=\"dataframe\">\n",
       "  <thead>\n",
       "    <tr style=\"text-align: right;\">\n",
       "      <th></th>\n",
       "      <th>secappopenactil</th>\n",
       "      <th>bcopentobuy</th>\n",
       "      <th>numactvbctl</th>\n",
       "      <th>mthssincelastrecord</th>\n",
       "      <th>totcurbal</th>\n",
       "      <th>secappnumrevaccts</th>\n",
       "      <th>secappmthssincelastmajorderog</th>\n",
       "      <th>secappcollections12mthsexmed</th>\n",
       "      <th>mosinrcnttl</th>\n",
       "      <th>openrv12m</th>\n",
       "      <th>...</th>\n",
       "      <th>purpose_medical</th>\n",
       "      <th>purpose_moving</th>\n",
       "      <th>purpose_other</th>\n",
       "      <th>purpose_renewable_energy</th>\n",
       "      <th>purpose_small_business</th>\n",
       "      <th>purpose_vacation</th>\n",
       "      <th>applicationtype_Individual</th>\n",
       "      <th>applicationtype_Joint App</th>\n",
       "      <th>initialliststatus_f</th>\n",
       "      <th>initialliststatus_w</th>\n",
       "    </tr>\n",
       "  </thead>\n",
       "  <tbody>\n",
       "    <tr>\n",
       "      <th>0</th>\n",
       "      <td>NaN</td>\n",
       "      <td>2661</td>\n",
       "      <td>1</td>\n",
       "      <td>NaN</td>\n",
       "      <td>20805</td>\n",
       "      <td>NaN</td>\n",
       "      <td>NaN</td>\n",
       "      <td>NaN</td>\n",
       "      <td>13</td>\n",
       "      <td>0</td>\n",
       "      <td>...</td>\n",
       "      <td>0</td>\n",
       "      <td>1</td>\n",
       "      <td>0</td>\n",
       "      <td>0</td>\n",
       "      <td>1</td>\n",
       "      <td>0</td>\n",
       "      <td>1</td>\n",
       "      <td>0</td>\n",
       "      <td>0</td>\n",
       "      <td>1</td>\n",
       "    </tr>\n",
       "  </tbody>\n",
       "</table>\n",
       "<p>1 rows × 124 columns</p>\n",
       "</div>"
      ],
      "text/plain": [
       "   secappopenactil  bcopentobuy  numactvbctl  mthssincelastrecord  totcurbal  \\\n",
       "0              NaN         2661            1                  NaN      20805   \n",
       "\n",
       "   secappnumrevaccts  secappmthssincelastmajorderog  \\\n",
       "0                NaN                            NaN   \n",
       "\n",
       "   secappcollections12mthsexmed  mosinrcnttl  openrv12m  ...  purpose_medical  \\\n",
       "0                           NaN           13          0  ...                0   \n",
       "\n",
       "   purpose_moving  purpose_other  purpose_renewable_energy  \\\n",
       "0               1              0                         0   \n",
       "\n",
       "   purpose_small_business  purpose_vacation  applicationtype_Individual  \\\n",
       "0                       1                 0                           1   \n",
       "\n",
       "   applicationtype_Joint App  initialliststatus_f  initialliststatus_w  \n",
       "0                          0                    0                    1  \n",
       "\n",
       "[1 rows x 124 columns]"
      ]
     },
     "execution_count": 163,
     "metadata": {},
     "output_type": "execute_result"
    }
   ],
   "source": [
    "df_test=pd.DataFrame([info],columns=feat)\n",
    "df_test1 = df_test.applymap(lambda x: pd.to_numeric(x, errors='coerce'))\n",
    "#'coerce' will convert any value error to NaN"
   ]
  },
  {
   "cell_type": "code",
   "execution_count": 149,
   "id": "c422f2fd",
   "metadata": {},
   "outputs": [
    {
     "data": {
      "text/plain": [
       "str"
      ]
     },
     "execution_count": 149,
     "metadata": {},
     "output_type": "execute_result"
    }
   ],
   "source": [
    "type(info[0])"
   ]
  },
  {
   "cell_type": "code",
   "execution_count": 130,
   "id": "de8ebb75",
   "metadata": {},
   "outputs": [],
   "source": [
    "output_list= convert_str_to_num(info)"
   ]
  },
  {
   "cell_type": "code",
   "execution_count": 131,
   "id": "6c936d54",
   "metadata": {},
   "outputs": [],
   "source": [
    "df2=pd.DataFrame([output_list],columns=feat)"
   ]
  },
  {
   "cell_type": "code",
   "execution_count": 141,
   "id": "29661089",
   "metadata": {},
   "outputs": [
    {
     "data": {
      "text/html": [
       "<div>\n",
       "<style scoped>\n",
       "    .dataframe tbody tr th:only-of-type {\n",
       "        vertical-align: middle;\n",
       "    }\n",
       "\n",
       "    .dataframe tbody tr th {\n",
       "        vertical-align: top;\n",
       "    }\n",
       "\n",
       "    .dataframe thead th {\n",
       "        text-align: right;\n",
       "    }\n",
       "</style>\n",
       "<table border=\"1\" class=\"dataframe\">\n",
       "  <thead>\n",
       "    <tr style=\"text-align: right;\">\n",
       "      <th></th>\n",
       "      <th>secappopenactil</th>\n",
       "      <th>bcopentobuy</th>\n",
       "      <th>numactvbctl</th>\n",
       "      <th>mthssincelastrecord</th>\n",
       "      <th>totcurbal</th>\n",
       "      <th>secappnumrevaccts</th>\n",
       "      <th>secappmthssincelastmajorderog</th>\n",
       "      <th>secappcollections12mthsexmed</th>\n",
       "      <th>mosinrcnttl</th>\n",
       "      <th>openrv12m</th>\n",
       "      <th>...</th>\n",
       "      <th>purpose_medical</th>\n",
       "      <th>purpose_moving</th>\n",
       "      <th>purpose_other</th>\n",
       "      <th>purpose_renewable_energy</th>\n",
       "      <th>purpose_small_business</th>\n",
       "      <th>purpose_vacation</th>\n",
       "      <th>applicationtype_Individual</th>\n",
       "      <th>applicationtype_Joint App</th>\n",
       "      <th>initialliststatus_f</th>\n",
       "      <th>initialliststatus_w</th>\n",
       "    </tr>\n",
       "  </thead>\n",
       "  <tbody>\n",
       "    <tr>\n",
       "      <th>0</th>\n",
       "      <td>0</td>\n",
       "      <td>2661.0</td>\n",
       "      <td>1.0</td>\n",
       "      <td>None</td>\n",
       "      <td>20805.0</td>\n",
       "      <td>None</td>\n",
       "      <td>None</td>\n",
       "      <td>None</td>\n",
       "      <td>13.0</td>\n",
       "      <td>0.0</td>\n",
       "      <td>...</td>\n",
       "      <td>0.0</td>\n",
       "      <td>1.0</td>\n",
       "      <td>0.0</td>\n",
       "      <td>0.0</td>\n",
       "      <td>1.0</td>\n",
       "      <td>0.0</td>\n",
       "      <td>1.0</td>\n",
       "      <td>0.0</td>\n",
       "      <td>0.0</td>\n",
       "      <td>1.0</td>\n",
       "    </tr>\n",
       "  </tbody>\n",
       "</table>\n",
       "<p>1 rows × 124 columns</p>\n",
       "</div>"
      ],
      "text/plain": [
       "   secappopenactil  bcopentobuy  numactvbctl mthssincelastrecord  totcurbal  \\\n",
       "0                0       2661.0          1.0                None    20805.0   \n",
       "\n",
       "  secappnumrevaccts secappmthssincelastmajorderog  \\\n",
       "0              None                          None   \n",
       "\n",
       "  secappcollections12mthsexmed  mosinrcnttl  openrv12m  ...  purpose_medical  \\\n",
       "0                         None         13.0        0.0  ...              0.0   \n",
       "\n",
       "   purpose_moving purpose_other  purpose_renewable_energy  \\\n",
       "0             1.0           0.0                       0.0   \n",
       "\n",
       "   purpose_small_business purpose_vacation  applicationtype_Individual  \\\n",
       "0                     1.0              0.0                         1.0   \n",
       "\n",
       "   applicationtype_Joint App  initialliststatus_f  initialliststatus_w  \n",
       "0                        0.0                  0.0                  1.0  \n",
       "\n",
       "[1 rows x 124 columns]"
      ]
     },
     "execution_count": 141,
     "metadata": {},
     "output_type": "execute_result"
    }
   ],
   "source": [
    "df2"
   ]
  },
  {
   "cell_type": "code",
   "execution_count": 165,
   "id": "cfdf7993",
   "metadata": {},
   "outputs": [
    {
     "name": "stdout",
     "output_type": "stream",
     "text": [
      "[0.20258388]\n"
     ]
    }
   ],
   "source": [
    "dmatrix_data1 = xgb.DMatrix(df_test1)\n",
    "# Make predictions using the DMatrix object\n",
    "predictions1 = scores.predict(dmatrix_data1)\n",
    "\n",
    "# Print the predictions\n",
    "print(predictions1)\n"
   ]
  },
  {
   "cell_type": "code",
   "execution_count": 166,
   "id": "f11ae325",
   "metadata": {},
   "outputs": [],
   "source": [
    "prediction = float(predictions1)\n",
    "\n",
    "prediction={'high risk': round(prediction, 2),\n",
    "                        'safe': round(1 - prediction, 2),\n",
    "                        }"
   ]
  },
  {
   "cell_type": "code",
   "execution_count": 184,
   "id": "81d9ddd4",
   "metadata": {},
   "outputs": [
    {
     "name": "stdout",
     "output_type": "stream",
     "text": [
      "0.8\n"
     ]
    }
   ],
   "source": [
    "print(prediction['safe'])"
   ]
  },
  {
   "cell_type": "code",
   "execution_count": 168,
   "id": "46682b2f",
   "metadata": {},
   "outputs": [],
   "source": [
    "import ipysheet\n",
    "import ipywidgets"
   ]
  },
  {
   "cell_type": "code",
   "execution_count": 174,
   "id": "ce309ba1",
   "metadata": {},
   "outputs": [],
   "source": [
    "sheet = ipysheet.sheet(columns=df_test1.shape[1], column_headers=list(df_test1.columns))"
   ]
  },
  {
   "cell_type": "code",
   "execution_count": 191,
   "id": "71664412",
   "metadata": {},
   "outputs": [],
   "source": [
    "for row_idx in range(df_test1.shape[0]):\n",
    "    for col_idx in range(df_test1.shape[1]):\n",
    "        value = df_test1.iloc[row_idx, col_idx]\n",
    "        ipysheet.cell(row_idx, col_idx, value)"
   ]
  },
  {
   "cell_type": "code",
   "execution_count": 192,
   "id": "64bcb66b",
   "metadata": {},
   "outputs": [],
   "source": [
    "cell1=ipysheet.cell(2,0,\"High risk\")\n",
    "cell2=ipysheet.cell(3,0,\"Safe\")\n",
    "cell3=ipysheet.cell(3,1,prediction['safe'])\n",
    "cell3=ipysheet.cell(2,1,prediction['high risk'])"
   ]
  },
  {
   "cell_type": "code",
   "execution_count": 176,
   "id": "9a3a1177",
   "metadata": {},
   "outputs": [
    {
     "data": {
      "application/vnd.jupyter.widget-view+json": {
       "model_id": "15bf58dd86ee4d9db7959aa47fbe6eff",
       "version_major": 2,
       "version_minor": 0
      },
      "text/plain": [
       "Sheet(cells=(Cell(column_end=0, column_start=0, row_end=0, row_start=0, type='numeric', value=nan), Cell(colum…"
      ]
     },
     "metadata": {},
     "output_type": "display_data"
    }
   ],
   "source": [
    "sheet"
   ]
  },
  {
   "cell_type": "code",
   "execution_count": 190,
   "id": "ef08db5a",
   "metadata": {},
   "outputs": [],
   "source": []
  },
  {
   "cell_type": "code",
   "execution_count": null,
   "id": "bdaa869f",
   "metadata": {},
   "outputs": [],
   "source": []
  }
 ],
 "metadata": {
  "kernelspec": {
   "display_name": "Python 3 (ipykernel)",
   "language": "python",
   "name": "python3"
  },
  "language_info": {
   "codemirror_mode": {
    "name": "ipython",
    "version": 3
   },
   "file_extension": ".py",
   "mimetype": "text/x-python",
   "name": "python",
   "nbconvert_exporter": "python",
   "pygments_lexer": "ipython3",
   "version": "3.9.12"
  }
 },
 "nbformat": 4,
 "nbformat_minor": 5
}
