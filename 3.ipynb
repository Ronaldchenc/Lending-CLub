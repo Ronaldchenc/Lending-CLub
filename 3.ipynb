{
 "cells": [
  {
   "cell_type": "code",
   "execution_count": 2,
   "metadata": {},
   "outputs": [],
   "source": [
    "import pandas as pd\n",
    "import numpy as np\n",
    "import matplotlib.pyplot as plt\n",
    "%matplotlib inline\n",
    "import xgboost as xgb\n",
    "import seaborn as sns"
   ]
  },
  {
   "cell_type": "markdown",
   "metadata": {},
   "source": [
    "## Load Data"
   ]
  },
  {
   "cell_type": "code",
   "execution_count": 6,
   "metadata": {},
   "outputs": [
    {
     "name": "stderr",
     "output_type": "stream",
     "text": [
      "C:\\Users\\nadel\\AppData\\Local\\Temp\\ipykernel_21100\\3007412337.py:1: DtypeWarning: Columns (50) have mixed types. Specify dtype option on import or set low_memory=False.\n",
      "  loandata = pd.read_csv('loan_2017.csv')\n"
     ]
    }
   ],
   "source": [
    "loandata = pd.read_csv('loan_2017.csv')"
   ]
  },
  {
   "cell_type": "code",
   "execution_count": 7,
   "metadata": {},
   "outputs": [
    {
     "data": {
      "text/html": [
       "<div>\n",
       "<style scoped>\n",
       "    .dataframe tbody tr th:only-of-type {\n",
       "        vertical-align: middle;\n",
       "    }\n",
       "\n",
       "    .dataframe tbody tr th {\n",
       "        vertical-align: top;\n",
       "    }\n",
       "\n",
       "    .dataframe thead th {\n",
       "        text-align: right;\n",
       "    }\n",
       "</style>\n",
       "<table border=\"1\" class=\"dataframe\">\n",
       "  <thead>\n",
       "    <tr style=\"text-align: right;\">\n",
       "      <th></th>\n",
       "      <th>secappopenactil</th>\n",
       "      <th>bcopentobuy</th>\n",
       "      <th>initialliststatus</th>\n",
       "      <th>numactvbctl</th>\n",
       "      <th>grade</th>\n",
       "      <th>mthssincelastrecord</th>\n",
       "      <th>totcurbal</th>\n",
       "      <th>secappnumrevaccts</th>\n",
       "      <th>secappmthssincelastmajorderog</th>\n",
       "      <th>subgrade</th>\n",
       "      <th>...</th>\n",
       "      <th>totalcutl</th>\n",
       "      <th>mthssincelastmajorderog</th>\n",
       "      <th>numtloppast12m</th>\n",
       "      <th>percentbcgt75</th>\n",
       "      <th>pubrecbankruptcies</th>\n",
       "      <th>ilutil</th>\n",
       "      <th>secappinqlast6mths</th>\n",
       "      <th>purpose</th>\n",
       "      <th>issued</th>\n",
       "      <th>loanstatus</th>\n",
       "    </tr>\n",
       "  </thead>\n",
       "  <tbody>\n",
       "    <tr>\n",
       "      <th>0</th>\n",
       "      <td>NaN</td>\n",
       "      <td>2661.0</td>\n",
       "      <td>w</td>\n",
       "      <td>1.0</td>\n",
       "      <td>B</td>\n",
       "      <td>NaN</td>\n",
       "      <td>20805.0</td>\n",
       "      <td>NaN</td>\n",
       "      <td>NaN</td>\n",
       "      <td>B3</td>\n",
       "      <td>...</td>\n",
       "      <td>0.0</td>\n",
       "      <td>NaN</td>\n",
       "      <td>0.0</td>\n",
       "      <td>100.0</td>\n",
       "      <td>0.0</td>\n",
       "      <td>50.0</td>\n",
       "      <td>NaN</td>\n",
       "      <td>debt_consolidation</td>\n",
       "      <td>Mar-2017</td>\n",
       "      <td>Fully Paid</td>\n",
       "    </tr>\n",
       "    <tr>\n",
       "      <th>1</th>\n",
       "      <td>NaN</td>\n",
       "      <td>2798.0</td>\n",
       "      <td>w</td>\n",
       "      <td>1.0</td>\n",
       "      <td>C</td>\n",
       "      <td>NaN</td>\n",
       "      <td>35225.0</td>\n",
       "      <td>NaN</td>\n",
       "      <td>NaN</td>\n",
       "      <td>C2</td>\n",
       "      <td>...</td>\n",
       "      <td>2.0</td>\n",
       "      <td>NaN</td>\n",
       "      <td>4.0</td>\n",
       "      <td>0.0</td>\n",
       "      <td>0.0</td>\n",
       "      <td>91.0</td>\n",
       "      <td>NaN</td>\n",
       "      <td>credit_card</td>\n",
       "      <td>Mar-2017</td>\n",
       "      <td>Current</td>\n",
       "    </tr>\n",
       "    <tr>\n",
       "      <th>2</th>\n",
       "      <td>NaN</td>\n",
       "      <td>7699.0</td>\n",
       "      <td>f</td>\n",
       "      <td>2.0</td>\n",
       "      <td>A</td>\n",
       "      <td>NaN</td>\n",
       "      <td>146116.0</td>\n",
       "      <td>NaN</td>\n",
       "      <td>NaN</td>\n",
       "      <td>A1</td>\n",
       "      <td>...</td>\n",
       "      <td>1.0</td>\n",
       "      <td>NaN</td>\n",
       "      <td>0.0</td>\n",
       "      <td>0.0</td>\n",
       "      <td>0.0</td>\n",
       "      <td>75.0</td>\n",
       "      <td>NaN</td>\n",
       "      <td>debt_consolidation</td>\n",
       "      <td>Mar-2017</td>\n",
       "      <td>Fully Paid</td>\n",
       "    </tr>\n",
       "    <tr>\n",
       "      <th>3</th>\n",
       "      <td>NaN</td>\n",
       "      <td>11247.0</td>\n",
       "      <td>w</td>\n",
       "      <td>1.0</td>\n",
       "      <td>C</td>\n",
       "      <td>90.0</td>\n",
       "      <td>10773.0</td>\n",
       "      <td>NaN</td>\n",
       "      <td>NaN</td>\n",
       "      <td>C1</td>\n",
       "      <td>...</td>\n",
       "      <td>0.0</td>\n",
       "      <td>NaN</td>\n",
       "      <td>0.0</td>\n",
       "      <td>16.7</td>\n",
       "      <td>1.0</td>\n",
       "      <td>73.0</td>\n",
       "      <td>NaN</td>\n",
       "      <td>debt_consolidation</td>\n",
       "      <td>Mar-2017</td>\n",
       "      <td>Charged Off</td>\n",
       "    </tr>\n",
       "    <tr>\n",
       "      <th>4</th>\n",
       "      <td>NaN</td>\n",
       "      <td>14163.0</td>\n",
       "      <td>f</td>\n",
       "      <td>5.0</td>\n",
       "      <td>B</td>\n",
       "      <td>NaN</td>\n",
       "      <td>490036.0</td>\n",
       "      <td>NaN</td>\n",
       "      <td>NaN</td>\n",
       "      <td>B3</td>\n",
       "      <td>...</td>\n",
       "      <td>0.0</td>\n",
       "      <td>NaN</td>\n",
       "      <td>2.0</td>\n",
       "      <td>16.7</td>\n",
       "      <td>0.0</td>\n",
       "      <td>102.0</td>\n",
       "      <td>NaN</td>\n",
       "      <td>debt_consolidation</td>\n",
       "      <td>Mar-2017</td>\n",
       "      <td>Fully Paid</td>\n",
       "    </tr>\n",
       "  </tbody>\n",
       "</table>\n",
       "<p>5 rows × 108 columns</p>\n",
       "</div>"
      ],
      "text/plain": [
       "   secappopenactil  bcopentobuy initialliststatus  numactvbctl grade  \\\n",
       "0              NaN       2661.0                 w          1.0     B   \n",
       "1              NaN       2798.0                 w          1.0     C   \n",
       "2              NaN       7699.0                 f          2.0     A   \n",
       "3              NaN      11247.0                 w          1.0     C   \n",
       "4              NaN      14163.0                 f          5.0     B   \n",
       "\n",
       "   mthssincelastrecord  totcurbal  secappnumrevaccts  \\\n",
       "0                  NaN    20805.0                NaN   \n",
       "1                  NaN    35225.0                NaN   \n",
       "2                  NaN   146116.0                NaN   \n",
       "3                 90.0    10773.0                NaN   \n",
       "4                  NaN   490036.0                NaN   \n",
       "\n",
       "   secappmthssincelastmajorderog subgrade  ...  totalcutl  \\\n",
       "0                            NaN       B3  ...        0.0   \n",
       "1                            NaN       C2  ...        2.0   \n",
       "2                            NaN       A1  ...        1.0   \n",
       "3                            NaN       C1  ...        0.0   \n",
       "4                            NaN       B3  ...        0.0   \n",
       "\n",
       "   mthssincelastmajorderog  numtloppast12m  percentbcgt75  pubrecbankruptcies  \\\n",
       "0                      NaN             0.0          100.0                 0.0   \n",
       "1                      NaN             4.0            0.0                 0.0   \n",
       "2                      NaN             0.0            0.0                 0.0   \n",
       "3                      NaN             0.0           16.7                 1.0   \n",
       "4                      NaN             2.0           16.7                 0.0   \n",
       "\n",
       "   ilutil secappinqlast6mths             purpose    issued   loanstatus  \n",
       "0    50.0                NaN  debt_consolidation  Mar-2017   Fully Paid  \n",
       "1    91.0                NaN         credit_card  Mar-2017      Current  \n",
       "2    75.0                NaN  debt_consolidation  Mar-2017   Fully Paid  \n",
       "3    73.0                NaN  debt_consolidation  Mar-2017  Charged Off  \n",
       "4   102.0                NaN  debt_consolidation  Mar-2017   Fully Paid  \n",
       "\n",
       "[5 rows x 108 columns]"
      ]
     },
     "execution_count": 7,
     "metadata": {},
     "output_type": "execute_result"
    }
   ],
   "source": [
    "loandata.head()"
   ]
  },
  {
   "cell_type": "code",
   "execution_count": 8,
   "metadata": {},
   "outputs": [
    {
     "name": "stdout",
     "output_type": "stream",
     "text": [
      "<class 'pandas.core.frame.DataFrame'>\n",
      "RangeIndex: 443579 entries, 0 to 443578\n",
      "Columns: 108 entries, secappopenactil to loanstatus\n",
      "dtypes: float64(88), int64(1), object(19)\n",
      "memory usage: 365.5+ MB\n"
     ]
    }
   ],
   "source": [
    "loandata.info()"
   ]
  },
  {
   "cell_type": "markdown",
   "metadata": {},
   "source": [
    "## Select Data"
   ]
  },
  {
   "cell_type": "code",
   "execution_count": 9,
   "metadata": {},
   "outputs": [],
   "source": [
    "# Copied features from EDA\n",
    "all_null_feature =['memberid', 'desc']"
   ]
  },
  {
   "cell_type": "code",
   "execution_count": 10,
   "metadata": {},
   "outputs": [],
   "source": [
    "ob_feature=['initialliststatus',\n",
    " 'grade',\n",
    " 'subgrade',\n",
    " 'verificationstatusjoint',\n",
    " 'earliestcrline',\n",
    " 'applicationtype',\n",
    " 'intrate',\n",
    " 'term',\n",
    " 'homeownership',\n",
    " 'addrstate',\n",
    " 'secappearliestcrline',\n",
    " 'revolutil',\n",
    " 'zipcode',\n",
    " 'verificationstatus',\n",
    " 'emptitle',\n",
    " 'emplength',\n",
    " 'purpose',\n",
    " 'issued',\n",
    " 'loanstatus']"
   ]
  },
  {
   "cell_type": "code",
   "execution_count": 11,
   "metadata": {},
   "outputs": [],
   "source": [
    "num_feature=['secappopenactil',\n",
    " 'bcopentobuy',\n",
    " 'numactvbctl',\n",
    " 'mthssincelastrecord',\n",
    " 'totcurbal',\n",
    " 'secappnumrevaccts',\n",
    " 'secappmthssincelastmajorderog',\n",
    " 'secappcollections12mthsexmed',\n",
    " 'mosinrcnttl',\n",
    " 'openrv12m',\n",
    " 'inqlast12m',\n",
    " 'mortacc',\n",
    " 'mthssincelastdelinq',\n",
    " 'numactvrevtl',\n",
    " 'tothicredlim',\n",
    " 'revolbaljoint',\n",
    " 'ficorangehigh',\n",
    " 'maxbalbc',\n",
    " 'openil24m',\n",
    " 'numbctl',\n",
    " 'totalrevhilim',\n",
    " 'totcollamt',\n",
    " 'secappopenacc',\n",
    " 'numtl120dpd2m',\n",
    " 'secappficorangelow',\n",
    " 'totalbalexmort',\n",
    " 'annualincjoint',\n",
    " 'ficorangelow',\n",
    " 'totalacc',\n",
    " 'mthssincerecentbcdlq',\n",
    " 'installment',\n",
    " 'numrevaccts',\n",
    " 'pubrec',\n",
    " 'accopenpast24mths',\n",
    " 'numoprevtl',\n",
    " 'avgcurbal',\n",
    " 'secappmortacc',\n",
    " 'openactil',\n",
    " 'dti',\n",
    " 'openacc6m',\n",
    " 'totalbalil',\n",
    " 'delinq2yrs',\n",
    " 'fundedamnt',\n",
    " 'mosinoldilacct',\n",
    " 'annualinc',\n",
    " 'inqfi',\n",
    " 'numtl30dpd',\n",
    " 'loanamnt',\n",
    " 'numsats',\n",
    " 'mthssincerecentrevoldelinq',\n",
    " 'mthssincerecentbc',\n",
    " 'id',\n",
    " 'secappchargeoffwithin12mths',\n",
    " 'revolbal',\n",
    " 'inqlast6mths',\n",
    " 'mthssincercntil',\n",
    " 'openrv24m',\n",
    " 'secapprevolutil',\n",
    " 'totalilhighcreditlimit',\n",
    " 'collections12mthsexmed',\n",
    " 'chargeoffwithin12mths',\n",
    " 'numtl90gdpd24m',\n",
    " 'delinqamnt',\n",
    " 'mosinoldrevtlop',\n",
    " 'secappficorangehigh',\n",
    " 'taxliens',\n",
    " 'numbcsats',\n",
    " 'totalbclimit',\n",
    " 'dtijoint',\n",
    " 'numacctsever120pd',\n",
    " 'accnowdelinq',\n",
    " 'openil12m',\n",
    " 'pcttlnvrdlq',\n",
    " 'bcutil',\n",
    " 'mthssincerecentinq',\n",
    " 'numiltl',\n",
    " 'mosinrcntrevtlop',\n",
    " 'allutil',\n",
    " 'openacc',\n",
    " 'numrevtlbalgt0',\n",
    " 'totalcutl',\n",
    " 'mthssincelastmajorderog',\n",
    " 'numtloppast12m',\n",
    " 'percentbcgt75',\n",
    " 'pubrecbankruptcies',\n",
    " 'ilutil',\n",
    " 'secappinqlast6mths']"
   ]
  },
  {
   "cell_type": "code",
   "execution_count": 12,
   "metadata": {},
   "outputs": [
    {
     "data": {
      "text/plain": [
       "106"
      ]
     },
     "execution_count": 12,
     "metadata": {},
     "output_type": "execute_result"
    }
   ],
   "source": [
    "select_feature= ob_feature + num_feature\n",
    "len(select_feature)"
   ]
  },
  {
   "cell_type": "code",
   "execution_count": 13,
   "metadata": {},
   "outputs": [],
   "source": [
    "# remove 'id' from num_feature since it is not a feature for Loan status\n",
    "num_feature.remove('id')"
   ]
  },
  {
   "cell_type": "code",
   "execution_count": 14,
   "metadata": {},
   "outputs": [],
   "source": [
    "# remove fundedamnt since it always equals to 1 for issued loans and varied during different time of a current loan\n",
    "\n",
    "num_feature.remove('fundedamnt')\n"
   ]
  },
  {
   "cell_type": "code",
   "execution_count": 15,
   "metadata": {},
   "outputs": [],
   "source": [
    "# remove 'issued' and 'loanstatus' from ob_feature, since they are train/test flag and target\n",
    "\n",
    "ob_feature.remove('loanstatus')\n",
    "ob_feature.remove('issued')\n"
   ]
  },
  {
   "cell_type": "code",
   "execution_count": 16,
   "metadata": {},
   "outputs": [
    {
     "data": {
      "text/plain": [
       "102"
      ]
     },
     "execution_count": 16,
     "metadata": {},
     "output_type": "execute_result"
    }
   ],
   "source": [
    "select_feature=ob_feature+num_feature\n",
    "len(select_feature)"
   ]
  },
  {
   "cell_type": "code",
   "execution_count": 17,
   "metadata": {},
   "outputs": [],
   "source": [
    "\n",
    "df=loandata[select_feature+['id','loanstatus','issued']]"
   ]
  },
  {
   "cell_type": "code",
   "execution_count": 18,
   "metadata": {},
   "outputs": [
    {
     "data": {
      "text/plain": [
       "(443579, 105)"
      ]
     },
     "execution_count": 18,
     "metadata": {},
     "output_type": "execute_result"
    }
   ],
   "source": [
    "df.shape"
   ]
  },
  {
   "cell_type": "code",
   "execution_count": 19,
   "metadata": {},
   "outputs": [
    {
     "data": {
      "text/html": [
       "<div>\n",
       "<style scoped>\n",
       "    .dataframe tbody tr th:only-of-type {\n",
       "        vertical-align: middle;\n",
       "    }\n",
       "\n",
       "    .dataframe tbody tr th {\n",
       "        vertical-align: top;\n",
       "    }\n",
       "\n",
       "    .dataframe thead th {\n",
       "        text-align: right;\n",
       "    }\n",
       "</style>\n",
       "<table border=\"1\" class=\"dataframe\">\n",
       "  <thead>\n",
       "    <tr style=\"text-align: right;\">\n",
       "      <th></th>\n",
       "      <th>initialliststatus</th>\n",
       "      <th>grade</th>\n",
       "      <th>subgrade</th>\n",
       "      <th>verificationstatusjoint</th>\n",
       "      <th>earliestcrline</th>\n",
       "      <th>applicationtype</th>\n",
       "      <th>intrate</th>\n",
       "      <th>term</th>\n",
       "      <th>homeownership</th>\n",
       "      <th>addrstate</th>\n",
       "      <th>...</th>\n",
       "      <th>totalcutl</th>\n",
       "      <th>mthssincelastmajorderog</th>\n",
       "      <th>numtloppast12m</th>\n",
       "      <th>percentbcgt75</th>\n",
       "      <th>pubrecbankruptcies</th>\n",
       "      <th>ilutil</th>\n",
       "      <th>secappinqlast6mths</th>\n",
       "      <th>id</th>\n",
       "      <th>loanstatus</th>\n",
       "      <th>issued</th>\n",
       "    </tr>\n",
       "  </thead>\n",
       "  <tbody>\n",
       "    <tr>\n",
       "      <th>0</th>\n",
       "      <td>w</td>\n",
       "      <td>B</td>\n",
       "      <td>B3</td>\n",
       "      <td>NaN</td>\n",
       "      <td>Apr-1973</td>\n",
       "      <td>Individual</td>\n",
       "      <td>11.39%</td>\n",
       "      <td>36 months</td>\n",
       "      <td>RENT</td>\n",
       "      <td>FL</td>\n",
       "      <td>...</td>\n",
       "      <td>0.0</td>\n",
       "      <td>NaN</td>\n",
       "      <td>0.0</td>\n",
       "      <td>100.0</td>\n",
       "      <td>0.0</td>\n",
       "      <td>50.0</td>\n",
       "      <td>NaN</td>\n",
       "      <td>99892449</td>\n",
       "      <td>Fully Paid</td>\n",
       "      <td>Mar-2017</td>\n",
       "    </tr>\n",
       "    <tr>\n",
       "      <th>1</th>\n",
       "      <td>w</td>\n",
       "      <td>C</td>\n",
       "      <td>C2</td>\n",
       "      <td>NaN</td>\n",
       "      <td>Dec-2006</td>\n",
       "      <td>Individual</td>\n",
       "      <td>13.49%</td>\n",
       "      <td>36 months</td>\n",
       "      <td>RENT</td>\n",
       "      <td>CA</td>\n",
       "      <td>...</td>\n",
       "      <td>2.0</td>\n",
       "      <td>NaN</td>\n",
       "      <td>4.0</td>\n",
       "      <td>0.0</td>\n",
       "      <td>0.0</td>\n",
       "      <td>91.0</td>\n",
       "      <td>NaN</td>\n",
       "      <td>104060216</td>\n",
       "      <td>Current</td>\n",
       "      <td>Mar-2017</td>\n",
       "    </tr>\n",
       "    <tr>\n",
       "      <th>2</th>\n",
       "      <td>f</td>\n",
       "      <td>A</td>\n",
       "      <td>A1</td>\n",
       "      <td>NaN</td>\n",
       "      <td>Apr-2006</td>\n",
       "      <td>Individual</td>\n",
       "      <td>5.32%</td>\n",
       "      <td>36 months</td>\n",
       "      <td>MORTGAGE</td>\n",
       "      <td>GA</td>\n",
       "      <td>...</td>\n",
       "      <td>1.0</td>\n",
       "      <td>NaN</td>\n",
       "      <td>0.0</td>\n",
       "      <td>0.0</td>\n",
       "      <td>0.0</td>\n",
       "      <td>75.0</td>\n",
       "      <td>NaN</td>\n",
       "      <td>103347407</td>\n",
       "      <td>Fully Paid</td>\n",
       "      <td>Mar-2017</td>\n",
       "    </tr>\n",
       "    <tr>\n",
       "      <th>3</th>\n",
       "      <td>w</td>\n",
       "      <td>C</td>\n",
       "      <td>C1</td>\n",
       "      <td>NaN</td>\n",
       "      <td>May-1990</td>\n",
       "      <td>Individual</td>\n",
       "      <td>12.74%</td>\n",
       "      <td>60 months</td>\n",
       "      <td>RENT</td>\n",
       "      <td>WA</td>\n",
       "      <td>...</td>\n",
       "      <td>0.0</td>\n",
       "      <td>NaN</td>\n",
       "      <td>0.0</td>\n",
       "      <td>16.7</td>\n",
       "      <td>1.0</td>\n",
       "      <td>73.0</td>\n",
       "      <td>NaN</td>\n",
       "      <td>103952006</td>\n",
       "      <td>Charged Off</td>\n",
       "      <td>Mar-2017</td>\n",
       "    </tr>\n",
       "    <tr>\n",
       "      <th>4</th>\n",
       "      <td>f</td>\n",
       "      <td>B</td>\n",
       "      <td>B3</td>\n",
       "      <td>NaN</td>\n",
       "      <td>Dec-1998</td>\n",
       "      <td>Individual</td>\n",
       "      <td>11.39%</td>\n",
       "      <td>60 months</td>\n",
       "      <td>MORTGAGE</td>\n",
       "      <td>CT</td>\n",
       "      <td>...</td>\n",
       "      <td>0.0</td>\n",
       "      <td>NaN</td>\n",
       "      <td>2.0</td>\n",
       "      <td>16.7</td>\n",
       "      <td>0.0</td>\n",
       "      <td>102.0</td>\n",
       "      <td>NaN</td>\n",
       "      <td>103470623</td>\n",
       "      <td>Fully Paid</td>\n",
       "      <td>Mar-2017</td>\n",
       "    </tr>\n",
       "  </tbody>\n",
       "</table>\n",
       "<p>5 rows × 105 columns</p>\n",
       "</div>"
      ],
      "text/plain": [
       "  initialliststatus grade subgrade verificationstatusjoint earliestcrline  \\\n",
       "0                 w     B       B3                     NaN       Apr-1973   \n",
       "1                 w     C       C2                     NaN       Dec-2006   \n",
       "2                 f     A       A1                     NaN       Apr-2006   \n",
       "3                 w     C       C1                     NaN       May-1990   \n",
       "4                 f     B       B3                     NaN       Dec-1998   \n",
       "\n",
       "  applicationtype  intrate        term homeownership addrstate  ... totalcutl  \\\n",
       "0      Individual   11.39%   36 months          RENT        FL  ...       0.0   \n",
       "1      Individual   13.49%   36 months          RENT        CA  ...       2.0   \n",
       "2      Individual    5.32%   36 months      MORTGAGE        GA  ...       1.0   \n",
       "3      Individual   12.74%   60 months          RENT        WA  ...       0.0   \n",
       "4      Individual   11.39%   60 months      MORTGAGE        CT  ...       0.0   \n",
       "\n",
       "  mthssincelastmajorderog numtloppast12m percentbcgt75 pubrecbankruptcies  \\\n",
       "0                     NaN            0.0         100.0                0.0   \n",
       "1                     NaN            4.0           0.0                0.0   \n",
       "2                     NaN            0.0           0.0                0.0   \n",
       "3                     NaN            0.0          16.7                1.0   \n",
       "4                     NaN            2.0          16.7                0.0   \n",
       "\n",
       "  ilutil secappinqlast6mths         id   loanstatus    issued  \n",
       "0   50.0                NaN   99892449   Fully Paid  Mar-2017  \n",
       "1   91.0                NaN  104060216      Current  Mar-2017  \n",
       "2   75.0                NaN  103347407   Fully Paid  Mar-2017  \n",
       "3   73.0                NaN  103952006  Charged Off  Mar-2017  \n",
       "4  102.0                NaN  103470623   Fully Paid  Mar-2017  \n",
       "\n",
       "[5 rows x 105 columns]"
      ]
     },
     "execution_count": 19,
     "metadata": {},
     "output_type": "execute_result"
    }
   ],
   "source": [
    "df.head()"
   ]
  },
  {
   "cell_type": "markdown",
   "metadata": {},
   "source": [
    "## Only use term=36 months and loanstatus = fully paid and charged off"
   ]
  },
  {
   "cell_type": "code",
   "execution_count": 20,
   "metadata": {},
   "outputs": [
    {
     "data": {
      "text/plain": [
       "(326464, 105)"
      ]
     },
     "execution_count": 20,
     "metadata": {},
     "output_type": "execute_result"
    }
   ],
   "source": [
    "# We select the data(rows) that loanstatus is either FULL_PAID or CHARGED_OFF\n",
    "df = df.query(\"loanstatus == 'Fully Paid' or loanstatus == 'Charged Off' \")\n",
    "df.shape"
   ]
  },
  {
   "cell_type": "code",
   "execution_count": 21,
   "metadata": {},
   "outputs": [
    {
     "data": {
      "text/plain": [
       "(257776, 105)"
      ]
     },
     "execution_count": 21,
     "metadata": {},
     "output_type": "execute_result"
    }
   ],
   "source": [
    "df = df.query(\"term ==' 36 months'\")\n",
    "df.shape"
   ]
  },
  {
   "cell_type": "code",
   "execution_count": 22,
   "metadata": {},
   "outputs": [],
   "source": [
    "# We dont need the term colun since we only care 36 month loan\n",
    "ob_feature.remove('term')"
   ]
  },
  {
   "cell_type": "markdown",
   "metadata": {},
   "source": [
    "## Label Target"
   ]
  },
  {
   "cell_type": "code",
   "execution_count": 23,
   "metadata": {},
   "outputs": [],
   "source": [
    "# Label the target\n",
    "df['loanstatus'] = df.loanstatus.map({\"Charged Off\": 1, \"Fully Paid\": 0})"
   ]
  },
  {
   "cell_type": "code",
   "execution_count": 24,
   "metadata": {},
   "outputs": [
    {
     "data": {
      "text/plain": [
       "0    214502\n",
       "1     43274\n",
       "Name: loanstatus, dtype: int64"
      ]
     },
     "execution_count": 24,
     "metadata": {},
     "output_type": "execute_result"
    }
   ],
   "source": [
    "df['loanstatus'].value_counts()"
   ]
  },
  {
   "cell_type": "code",
   "execution_count": 25,
   "metadata": {},
   "outputs": [
    {
     "name": "stdout",
     "output_type": "stream",
     "text": [
      "0    0.832126\n",
      "1    0.167874\n",
      "Name: loanstatus, dtype: float64\n"
     ]
    }
   ],
   "source": [
    "print (df.loanstatus.value_counts(normalize=True))"
   ]
  },
  {
   "cell_type": "markdown",
   "metadata": {},
   "source": [
    "## Out of time testing set and in-time training set: Oct~Dec as test"
   ]
  },
  {
   "cell_type": "code",
   "execution_count": 26,
   "metadata": {},
   "outputs": [
    {
     "data": {
      "text/plain": [
       "['Mar-2017',\n",
       " 'Feb-2017',\n",
       " 'Jan-2017',\n",
       " 'Jun-2017',\n",
       " 'May-2017',\n",
       " 'Apr-2017',\n",
       " 'Sep-2017',\n",
       " 'Aug-2017',\n",
       " 'Jul-2017',\n",
       " 'Dec-2017',\n",
       " 'Nov-2017',\n",
       " 'Oct-2017']"
      ]
     },
     "execution_count": 26,
     "metadata": {},
     "output_type": "execute_result"
    }
   ],
   "source": [
    "issued=list(df['issued'].unique())\n",
    "issued"
   ]
  },
  {
   "cell_type": "code",
   "execution_count": 27,
   "metadata": {},
   "outputs": [
    {
     "data": {
      "text/plain": [
       "1    206409\n",
       "0     51367\n",
       "Name: train_flg, dtype: int64"
      ]
     },
     "execution_count": 27,
     "metadata": {},
     "output_type": "execute_result"
    }
   ],
   "source": [
    "df['train_flg'] = df.issued.apply(lambda x: 0 if x in issued[9:] else 1)\n",
    "df.train_flg.value_counts()"
   ]
  },
  {
   "cell_type": "markdown",
   "metadata": {},
   "source": [
    "## Feature Engineering & Cleaning"
   ]
  },
  {
   "cell_type": "markdown",
   "metadata": {},
   "source": [
    "#### Datetime to numeric feature"
   ]
  },
  {
   "cell_type": "code",
   "execution_count": 28,
   "metadata": {},
   "outputs": [
    {
     "data": {
      "text/plain": [
       "array(['Apr-1973', 'Apr-2006', 'Apr-2007', 'Jan-2004', 'Oct-1994'],\n",
       "      dtype=object)"
      ]
     },
     "execution_count": 28,
     "metadata": {},
     "output_type": "execute_result"
    }
   ],
   "source": [
    "df.earliestcrline.unique()[:5]"
   ]
  },
  {
   "cell_type": "code",
   "execution_count": 29,
   "metadata": {},
   "outputs": [],
   "source": [
    "# convert to number of months to Dec 2017\n",
    "cl_month=df.earliestcrline.apply(lambda x: x.split('-')[0])\n",
    "cl_year=df.earliestcrline.apply(lambda x: int(x.split('-')[1]))"
   ]
  },
  {
   "cell_type": "code",
   "execution_count": 30,
   "metadata": {},
   "outputs": [
    {
     "data": {
      "text/plain": [
       "array(['Apr', 'Jan', 'Oct', 'Aug', 'Jun', 'Sep', 'May', 'Dec', 'Mar',\n",
       "       'Nov', 'Jul', 'Feb'], dtype=object)"
      ]
     },
     "execution_count": 30,
     "metadata": {},
     "output_type": "execute_result"
    }
   ],
   "source": [
    "cl_month.unique()"
   ]
  },
  {
   "cell_type": "code",
   "execution_count": 31,
   "metadata": {},
   "outputs": [
    {
     "data": {
      "text/plain": [
       "array([1973, 2006, 2007, 2004, 1994, 2000, 1995, 2005, 2009, 2002, 1996,\n",
       "       1997, 2001, 1974, 1987, 1989, 1992, 2003, 1999, 1980, 1993, 1998,\n",
       "       2011, 1979, 2010, 1988, 2008, 1991, 2013, 1983, 1990, 1981, 2012,\n",
       "       1982, 1976, 1985, 1986, 1984, 1977, 1969, 1966, 1975, 2014, 1978,\n",
       "       1971, 1968, 1972, 1960, 1967, 1970, 1965, 1964, 1963, 1961, 1958,\n",
       "       1952, 1959, 1953, 1956, 1962, 1950, 1934, 1957, 1951, 1954],\n",
       "      dtype=int64)"
      ]
     },
     "execution_count": 31,
     "metadata": {},
     "output_type": "execute_result"
    }
   ],
   "source": [
    "cl_year.unique()"
   ]
  },
  {
   "cell_type": "code",
   "execution_count": 32,
   "metadata": {},
   "outputs": [],
   "source": [
    "dic_month= {'Jan':11,'Feb':10,'Mar':9,'Apr':8, 'May':7, 'Jun':6, 'Jul':5, 'Aug':4, 'Sep':3, 'Oct':2, 'Nov':1, 'Dec':0}"
   ]
  },
  {
   "cell_type": "code",
   "execution_count": 33,
   "metadata": {},
   "outputs": [],
   "source": [
    "df['earliestcrline_month']=df.earliestcrline.apply(lambda x: (2017-int(x.split('-')[1]))*12+dic_month[x.split('-')[0]])"
   ]
  },
  {
   "cell_type": "code",
   "execution_count": 34,
   "metadata": {},
   "outputs": [
    {
     "data": {
      "text/plain": [
       "0    536\n",
       "2    140\n",
       "5    128\n",
       "6    167\n",
       "7    278\n",
       "Name: earliestcrline_month, dtype: int64"
      ]
     },
     "execution_count": 34,
     "metadata": {},
     "output_type": "execute_result"
    }
   ],
   "source": [
    "df.earliestcrline_month[:5]"
   ]
  },
  {
   "cell_type": "code",
   "execution_count": 35,
   "metadata": {},
   "outputs": [],
   "source": [
    "num_feature.append('earliestcrline_month')\n",
    "ob_feature.remove('earliestcrline')"
   ]
  },
  {
   "cell_type": "code",
   "execution_count": 36,
   "metadata": {},
   "outputs": [
    {
     "name": "stdout",
     "output_type": "stream",
     "text": [
      "15 86\n"
     ]
    }
   ],
   "source": [
    "print (len(ob_feature), len(num_feature))"
   ]
  },
  {
   "cell_type": "markdown",
   "metadata": {},
   "source": [
    "'secappearliestcrline'"
   ]
  },
  {
   "cell_type": "code",
   "execution_count": 37,
   "metadata": {},
   "outputs": [
    {
     "data": {
      "text/plain": [
       "array([nan, 'Jun-2002', 'May-1996', 'Sep-1999', 'Nov-2004'], dtype=object)"
      ]
     },
     "execution_count": 37,
     "metadata": {},
     "output_type": "execute_result"
    }
   ],
   "source": [
    "df.secappearliestcrline.unique()[:5]"
   ]
  },
  {
   "cell_type": "code",
   "execution_count": 38,
   "metadata": {},
   "outputs": [],
   "source": [
    "# fillna\n",
    "df.secappearliestcrline.fillna(value='Dec-2020',inplace=True)"
   ]
  },
  {
   "cell_type": "code",
   "execution_count": 39,
   "metadata": {},
   "outputs": [],
   "source": [
    "# convert to number of months to Dec 2017\n",
    "cl_month=df.secappearliestcrline.apply(lambda x: x.split('-')[0])\n",
    "cl_year=df.secappearliestcrline.apply(lambda x: int(x.split('-')[1]))"
   ]
  },
  {
   "cell_type": "code",
   "execution_count": 40,
   "metadata": {},
   "outputs": [
    {
     "data": {
      "text/plain": [
       "array(['Dec', 'Jun', 'May', 'Sep', 'Nov', 'Jan', 'Mar', 'Jul', 'Feb',\n",
       "       'Aug', 'Oct', 'Apr'], dtype=object)"
      ]
     },
     "execution_count": 40,
     "metadata": {},
     "output_type": "execute_result"
    }
   ],
   "source": [
    "cl_month.unique()"
   ]
  },
  {
   "cell_type": "code",
   "execution_count": 41,
   "metadata": {},
   "outputs": [
    {
     "data": {
      "text/plain": [
       "array([2020, 2002, 1996, 1999, 2004, 2012, 1990, 1993, 1998, 2009, 2011,\n",
       "       1981, 1987, 2001, 1997, 1995, 1992, 1988, 1994, 2006, 1985, 2005,\n",
       "       2000, 1975, 2007, 1984, 1972, 2013, 2008, 2003, 2014, 2015, 1973,\n",
       "       1974, 1983, 1991, 2010, 2016, 1989, 1979, 1986, 1980, 1982, 1977,\n",
       "       1965, 1934, 1969, 1976, 1978, 1964, 1970, 1968, 2017, 1971, 1962,\n",
       "       1951, 1967, 1966], dtype=int64)"
      ]
     },
     "execution_count": 41,
     "metadata": {},
     "output_type": "execute_result"
    }
   ],
   "source": [
    "# there are year 2020\n",
    "cl_year.unique()"
   ]
  },
  {
   "cell_type": "code",
   "execution_count": 42,
   "metadata": {},
   "outputs": [],
   "source": [
    "dic_month= {'Jan':11,'Feb':10,'Mar':9,'Apr':8, 'May':7, 'Jun':6, 'Jul':5, 'Aug':4, 'Sep':3, 'Oct':2, 'Nov':1, 'Dec':0}"
   ]
  },
  {
   "cell_type": "code",
   "execution_count": 43,
   "metadata": {},
   "outputs": [],
   "source": [
    "df['secappearliestcrline_month']=df.secappearliestcrline.apply(lambda x: (2017-int(x.split('-')[1]))*12+dic_month[x.split('-')[0]])"
   ]
  },
  {
   "cell_type": "code",
   "execution_count": 44,
   "metadata": {},
   "outputs": [
    {
     "data": {
      "text/plain": [
       "0   -36\n",
       "2   -36\n",
       "5   -36\n",
       "6   -36\n",
       "7   -36\n",
       "Name: secappearliestcrline_month, dtype: int64"
      ]
     },
     "execution_count": 44,
     "metadata": {},
     "output_type": "execute_result"
    }
   ],
   "source": [
    "df.secappearliestcrline_month[:5]"
   ]
  },
  {
   "cell_type": "code",
   "execution_count": 45,
   "metadata": {},
   "outputs": [],
   "source": [
    "num_feature.append('secappearliestcrline_month')\n",
    "ob_feature.remove('secappearliestcrline')"
   ]
  },
  {
   "cell_type": "code",
   "execution_count": 46,
   "metadata": {},
   "outputs": [
    {
     "name": "stdout",
     "output_type": "stream",
     "text": [
      "14 87\n"
     ]
    }
   ],
   "source": [
    "print (len(ob_feature), len(num_feature))"
   ]
  },
  {
   "cell_type": "markdown",
   "metadata": {},
   "source": [
    "### emplength to numeric feature"
   ]
  },
  {
   "cell_type": "code",
   "execution_count": 47,
   "metadata": {},
   "outputs": [
    {
     "name": "stdout",
     "output_type": "stream",
     "text": [
      "19716\n"
     ]
    },
    {
     "data": {
      "text/plain": [
       "array([nan, '10+ years', '4 years', '1 year', '3 years', '6 years',\n",
       "       '5 years', '8 years', '2 years', '< 1 year', '9 years', '7 years'],\n",
       "      dtype=object)"
      ]
     },
     "execution_count": 47,
     "metadata": {},
     "output_type": "execute_result"
    }
   ],
   "source": [
    "print (df['emplength'].isnull().sum())\n",
    "df['emplength'].unique()"
   ]
  },
  {
   "cell_type": "code",
   "execution_count": 48,
   "metadata": {},
   "outputs": [],
   "source": [
    "df['emplength'].replace('n/a', np.nan, inplace=True)\n",
    "df['emplength'].replace('< 1 year', '0', inplace=True)\n",
    "df['emplength'].replace(to_replace='[^0-9]+', value='', inplace=True, regex=True)\n",
    "df.emplength.fillna(value=-999,inplace=True)\n",
    "df['emplength'] = df['emplength'].astype(int)"
   ]
  },
  {
   "cell_type": "code",
   "execution_count": 49,
   "metadata": {},
   "outputs": [
    {
     "data": {
      "text/plain": [
       " 10     81537\n",
       " 2      24787\n",
       " 0      23735\n",
       " 3      21620\n",
       "-999    19716\n",
       " 1      17700\n",
       " 4      16160\n",
       " 5      15803\n",
       " 6      11156\n",
       " 7       9229\n",
       " 9       8629\n",
       " 8       7704\n",
       "Name: emplength, dtype: int64"
      ]
     },
     "execution_count": 49,
     "metadata": {},
     "output_type": "execute_result"
    }
   ],
   "source": [
    "df.emplength.value_counts()"
   ]
  },
  {
   "cell_type": "code",
   "execution_count": 50,
   "metadata": {},
   "outputs": [
    {
     "name": "stdout",
     "output_type": "stream",
     "text": [
      "88 13\n"
     ]
    }
   ],
   "source": [
    "num_feature.append('emplength')\n",
    "ob_feature.remove('emplength')\n",
    "print (len(num_feature), len(ob_feature))"
   ]
  },
  {
   "cell_type": "markdown",
   "metadata": {},
   "source": [
    "## % to numeric feature: intrate, revolutil"
   ]
  },
  {
   "cell_type": "code",
   "execution_count": 51,
   "metadata": {},
   "outputs": [],
   "source": [
    "intrate=df.intrate.apply(lambda x: float(x.replace('%','')))"
   ]
  },
  {
   "cell_type": "code",
   "execution_count": 52,
   "metadata": {},
   "outputs": [
    {
     "data": {
      "text/plain": [
       "0    11.39\n",
       "2     5.32\n",
       "Name: intrate, dtype: float64"
      ]
     },
     "execution_count": 52,
     "metadata": {},
     "output_type": "execute_result"
    }
   ],
   "source": [
    "df.intrate=intrate\n",
    "df.intrate[:2]"
   ]
  },
  {
   "cell_type": "code",
   "execution_count": 53,
   "metadata": {},
   "outputs": [
    {
     "data": {
      "text/plain": [
       "0    41.7%\n",
       "2    34.5%\n",
       "5    48.5%\n",
       "Name: revolutil, dtype: object"
      ]
     },
     "execution_count": 53,
     "metadata": {},
     "output_type": "execute_result"
    }
   ],
   "source": [
    "df.revolutil[:3]"
   ]
  },
  {
   "cell_type": "code",
   "execution_count": 54,
   "metadata": {},
   "outputs": [],
   "source": [
    "revolutil=df.revolutil.apply(lambda x: str(x).replace('%','')).astype(float)"
   ]
  },
  {
   "cell_type": "code",
   "execution_count": 55,
   "metadata": {},
   "outputs": [
    {
     "data": {
      "text/plain": [
       "0    41.7\n",
       "2    34.5\n",
       "Name: revolutil, dtype: float64"
      ]
     },
     "execution_count": 55,
     "metadata": {},
     "output_type": "execute_result"
    }
   ],
   "source": [
    "df.revolutil=revolutil\n",
    "df.revolutil[:2]"
   ]
  },
  {
   "cell_type": "code",
   "execution_count": 56,
   "metadata": {},
   "outputs": [],
   "source": [
    "ob_feature.remove('intrate')\n",
    "num_feature.append('intrate')\n",
    "ob_feature.remove('revolutil')\n",
    "num_feature.append('revolutil')"
   ]
  },
  {
   "cell_type": "code",
   "execution_count": 57,
   "metadata": {},
   "outputs": [
    {
     "name": "stdout",
     "output_type": "stream",
     "text": [
      "11 90\n"
     ]
    }
   ],
   "source": [
    "print (len(ob_feature), len(num_feature))"
   ]
  },
  {
   "cell_type": "markdown",
   "metadata": {},
   "source": [
    "#### Ordinal feature encoding : grade, subgrade"
   ]
  },
  {
   "cell_type": "code",
   "execution_count": 58,
   "metadata": {},
   "outputs": [],
   "source": [
    "Dic_grade = {\"A\": 1, \n",
    "            \"B\": 2, \n",
    "            \"C\": 3, \n",
    "            \"D\": 4, \n",
    "            \"E\": 5,\n",
    "            \"F\": 6, \n",
    "            \"G\": 7}"
   ]
  },
  {
   "cell_type": "code",
   "execution_count": 59,
   "metadata": {},
   "outputs": [],
   "source": [
    "df.grade = df.grade.map(Dic_grade)"
   ]
  },
  {
   "cell_type": "code",
   "execution_count": 60,
   "metadata": {},
   "outputs": [],
   "source": [
    "df.subgrade = df.subgrade.apply(lambda x: (Dic_grade[x[0]] - 1) * 5 + int(x[1]))"
   ]
  },
  {
   "cell_type": "code",
   "execution_count": 61,
   "metadata": {},
   "outputs": [],
   "source": [
    "ob_feature.remove('grade')\n",
    "num_feature.append('grade')\n",
    "ob_feature.remove('subgrade')\n",
    "num_feature.append('subgrade')"
   ]
  },
  {
   "cell_type": "code",
   "execution_count": 62,
   "metadata": {},
   "outputs": [
    {
     "name": "stdout",
     "output_type": "stream",
     "text": [
      "9 92\n"
     ]
    }
   ],
   "source": [
    "print (len(ob_feature), len(num_feature))"
   ]
  },
  {
   "cell_type": "markdown",
   "metadata": {},
   "source": [
    "### High cardinality feature encoding"
   ]
  },
  {
   "cell_type": "markdown",
   "metadata": {},
   "source": [
    "###### Zip Code - frequency encoding "
   ]
  },
  {
   "cell_type": "code",
   "execution_count": 63,
   "metadata": {},
   "outputs": [
    {
     "name": "stdout",
     "output_type": "stream",
     "text": [
      "892 ['329xx' '307xx' '021xx' '433xx' '301xx']\n"
     ]
    }
   ],
   "source": [
    "print (df.zipcode.nunique(), df.zipcode.unique()[:5])"
   ]
  },
  {
   "cell_type": "code",
   "execution_count": 64,
   "metadata": {},
   "outputs": [],
   "source": [
    "# convert zipcode to int; Note: there is a Nan in this feature.\n",
    "df.zipcode.fillna(value='000xx',inplace=True)\n",
    "df.zipcode = df.zipcode.apply(lambda x: int(x[0:3]))\n"
   ]
  },
  {
   "cell_type": "code",
   "execution_count": 65,
   "metadata": {},
   "outputs": [
    {
     "data": {
      "text/plain": [
       "0    329\n",
       "2    307\n",
       "5     21\n",
       "6    433\n",
       "7    301\n",
       "Name: zipcode, dtype: int64"
      ]
     },
     "execution_count": 65,
     "metadata": {},
     "output_type": "execute_result"
    }
   ],
   "source": [
    "df.zipcode[:5]"
   ]
  },
  {
   "cell_type": "code",
   "execution_count": 66,
   "metadata": {},
   "outputs": [],
   "source": [
    "zipcode_freq = df.groupby(\"zipcode\").size().reset_index()"
   ]
  },
  {
   "cell_type": "code",
   "execution_count": 67,
   "metadata": {},
   "outputs": [
    {
     "data": {
      "text/html": [
       "<div>\n",
       "<style scoped>\n",
       "    .dataframe tbody tr th:only-of-type {\n",
       "        vertical-align: middle;\n",
       "    }\n",
       "\n",
       "    .dataframe tbody tr th {\n",
       "        vertical-align: top;\n",
       "    }\n",
       "\n",
       "    .dataframe thead th {\n",
       "        text-align: right;\n",
       "    }\n",
       "</style>\n",
       "<table border=\"1\" class=\"dataframe\">\n",
       "  <thead>\n",
       "    <tr style=\"text-align: right;\">\n",
       "      <th></th>\n",
       "      <th>zipcode</th>\n",
       "      <th>0</th>\n",
       "    </tr>\n",
       "  </thead>\n",
       "  <tbody>\n",
       "    <tr>\n",
       "      <th>0</th>\n",
       "      <td>0</td>\n",
       "      <td>1</td>\n",
       "    </tr>\n",
       "    <tr>\n",
       "      <th>1</th>\n",
       "      <td>8</td>\n",
       "      <td>2</td>\n",
       "    </tr>\n",
       "    <tr>\n",
       "      <th>2</th>\n",
       "      <td>10</td>\n",
       "      <td>402</td>\n",
       "    </tr>\n",
       "    <tr>\n",
       "      <th>3</th>\n",
       "      <td>11</td>\n",
       "      <td>141</td>\n",
       "    </tr>\n",
       "    <tr>\n",
       "      <th>4</th>\n",
       "      <td>12</td>\n",
       "      <td>97</td>\n",
       "    </tr>\n",
       "  </tbody>\n",
       "</table>\n",
       "</div>"
      ],
      "text/plain": [
       "   zipcode    0\n",
       "0        0    1\n",
       "1        8    2\n",
       "2       10  402\n",
       "3       11  141\n",
       "4       12   97"
      ]
     },
     "execution_count": 67,
     "metadata": {},
     "output_type": "execute_result"
    }
   ],
   "source": [
    "zipcode_freq[:5]"
   ]
  },
  {
   "cell_type": "code",
   "execution_count": 68,
   "metadata": {},
   "outputs": [],
   "source": [
    "zipcode_freq.columns = [\"zipcode\", \"zipcode_freq\"]"
   ]
  },
  {
   "cell_type": "code",
   "execution_count": 69,
   "metadata": {},
   "outputs": [],
   "source": [
    "df = pd.merge(df, zipcode_freq, how = \"left\", on = \"zipcode\")"
   ]
  },
  {
   "cell_type": "code",
   "execution_count": 70,
   "metadata": {},
   "outputs": [
    {
     "data": {
      "text/plain": [
       "0     581\n",
       "1     221\n",
       "2    1215\n",
       "3     131\n",
       "4    1198\n",
       "Name: zipcode_freq, dtype: int64"
      ]
     },
     "execution_count": 70,
     "metadata": {},
     "output_type": "execute_result"
    }
   ],
   "source": [
    "df.zipcode_freq[:5]"
   ]
  },
  {
   "cell_type": "code",
   "execution_count": 71,
   "metadata": {},
   "outputs": [
    {
     "name": "stdout",
     "output_type": "stream",
     "text": [
      "8 94\n"
     ]
    }
   ],
   "source": [
    "ob_feature.remove('zipcode')\n",
    "num_feature.append('zipcode')\n",
    "num_feature.append('zipcode_freq')\n",
    "print (len(ob_feature), len(num_feature))"
   ]
  },
  {
   "cell_type": "code",
   "execution_count": 72,
   "metadata": {},
   "outputs": [
    {
     "data": {
      "text/plain": [
       "initialliststatus             581\n",
       "grade                         581\n",
       "subgrade                      581\n",
       "verificationstatusjoint        42\n",
       "earliestcrline                581\n",
       "                             ... \n",
       "issued                        581\n",
       "train_flg                     581\n",
       "earliestcrline_month          581\n",
       "secappearliestcrline_month    581\n",
       "zipcode_freq                  581\n",
       "Length: 109, dtype: int64"
      ]
     },
     "execution_count": 72,
     "metadata": {},
     "output_type": "execute_result"
    }
   ],
   "source": [
    "df[df.zipcode==329].count()"
   ]
  },
  {
   "cell_type": "markdown",
   "metadata": {},
   "source": [
    "### emptitle-frequency encoding (can do some NLP for later stage)"
   ]
  },
  {
   "cell_type": "code",
   "execution_count": 73,
   "metadata": {},
   "outputs": [],
   "source": [
    "emptitle_freq = df.groupby(\"emptitle\").size().reset_index()\n",
    "emptitle_freq.columns = [\"emptitle\", \"emptitle_freq\"]\n",
    "df = pd.merge(df, emptitle_freq, how = \"left\", on = \"emptitle\")\n"
   ]
  },
  {
   "cell_type": "code",
   "execution_count": 74,
   "metadata": {},
   "outputs": [
    {
     "name": "stdout",
     "output_type": "stream",
     "text": [
      "7 95\n"
     ]
    }
   ],
   "source": [
    "ob_feature.remove('emptitle')\n",
    "num_feature.append('emptitle_freq')\n",
    "print (len(ob_feature), len(num_feature))"
   ]
  },
  {
   "cell_type": "markdown",
   "metadata": {},
   "source": [
    "###### Addr_state - frequency encoding"
   ]
  },
  {
   "cell_type": "code",
   "execution_count": 75,
   "metadata": {},
   "outputs": [],
   "source": [
    "addrstate_freq = df.groupby(\"addrstate\").size().reset_index()\n",
    "addrstate_freq.columns = [\"addrstate\", \"addrstate_freq\"]\n",
    "df = pd.merge(df, addrstate_freq, how = \"left\", on = \"addrstate\")\n"
   ]
  },
  {
   "cell_type": "code",
   "execution_count": 76,
   "metadata": {},
   "outputs": [
    {
     "name": "stdout",
     "output_type": "stream",
     "text": [
      "6 96\n"
     ]
    }
   ],
   "source": [
    "ob_feature.remove('addrstate')\n",
    "num_feature.append('addrstate_freq')\n",
    "print (len(ob_feature), len(num_feature))"
   ]
  },
  {
   "cell_type": "markdown",
   "metadata": {},
   "source": [
    "#### One hot encoding"
   ]
  },
  {
   "cell_type": "code",
   "execution_count": 77,
   "metadata": {},
   "outputs": [
    {
     "name": "stdout",
     "output_type": "stream",
     "text": [
      "['initialliststatus', 'verificationstatusjoint', 'applicationtype', 'homeownership', 'verificationstatus', 'purpose']\n"
     ]
    }
   ],
   "source": [
    "print (ob_feature)"
   ]
  },
  {
   "cell_type": "code",
   "execution_count": 78,
   "metadata": {},
   "outputs": [],
   "source": [
    "dummy_feature = [\"homeownership\", \"verificationstatus\",'verificationstatusjoint', \"purpose\", 'applicationtype',\"initialliststatus\"]"
   ]
  },
  {
   "cell_type": "code",
   "execution_count": 79,
   "metadata": {},
   "outputs": [],
   "source": [
    "df_dummy = pd.get_dummies(df[dummy_feature])"
   ]
  },
  {
   "cell_type": "code",
   "execution_count": 80,
   "metadata": {},
   "outputs": [],
   "source": [
    "OHE_feature=list(df_dummy.columns.values)"
   ]
  },
  {
   "cell_type": "code",
   "execution_count": 81,
   "metadata": {},
   "outputs": [
    {
     "data": {
      "text/html": [
       "<div>\n",
       "<style scoped>\n",
       "    .dataframe tbody tr th:only-of-type {\n",
       "        vertical-align: middle;\n",
       "    }\n",
       "\n",
       "    .dataframe tbody tr th {\n",
       "        vertical-align: top;\n",
       "    }\n",
       "\n",
       "    .dataframe thead th {\n",
       "        text-align: right;\n",
       "    }\n",
       "</style>\n",
       "<table border=\"1\" class=\"dataframe\">\n",
       "  <thead>\n",
       "    <tr style=\"text-align: right;\">\n",
       "      <th></th>\n",
       "      <th>homeownership_ANY</th>\n",
       "      <th>homeownership_MORTGAGE</th>\n",
       "      <th>homeownership_NONE</th>\n",
       "      <th>homeownership_OWN</th>\n",
       "      <th>homeownership_RENT</th>\n",
       "      <th>verificationstatus_Not Verified</th>\n",
       "      <th>verificationstatus_Source Verified</th>\n",
       "      <th>verificationstatus_Verified</th>\n",
       "      <th>verificationstatusjoint_Not Verified</th>\n",
       "      <th>verificationstatusjoint_Source Verified</th>\n",
       "      <th>...</th>\n",
       "      <th>purpose_medical</th>\n",
       "      <th>purpose_moving</th>\n",
       "      <th>purpose_other</th>\n",
       "      <th>purpose_renewable_energy</th>\n",
       "      <th>purpose_small_business</th>\n",
       "      <th>purpose_vacation</th>\n",
       "      <th>applicationtype_Individual</th>\n",
       "      <th>applicationtype_Joint App</th>\n",
       "      <th>initialliststatus_f</th>\n",
       "      <th>initialliststatus_w</th>\n",
       "    </tr>\n",
       "  </thead>\n",
       "  <tbody>\n",
       "    <tr>\n",
       "      <th>0</th>\n",
       "      <td>0</td>\n",
       "      <td>0</td>\n",
       "      <td>0</td>\n",
       "      <td>0</td>\n",
       "      <td>1</td>\n",
       "      <td>1</td>\n",
       "      <td>0</td>\n",
       "      <td>0</td>\n",
       "      <td>0</td>\n",
       "      <td>0</td>\n",
       "      <td>...</td>\n",
       "      <td>0</td>\n",
       "      <td>0</td>\n",
       "      <td>0</td>\n",
       "      <td>0</td>\n",
       "      <td>0</td>\n",
       "      <td>0</td>\n",
       "      <td>1</td>\n",
       "      <td>0</td>\n",
       "      <td>0</td>\n",
       "      <td>1</td>\n",
       "    </tr>\n",
       "    <tr>\n",
       "      <th>1</th>\n",
       "      <td>0</td>\n",
       "      <td>1</td>\n",
       "      <td>0</td>\n",
       "      <td>0</td>\n",
       "      <td>0</td>\n",
       "      <td>1</td>\n",
       "      <td>0</td>\n",
       "      <td>0</td>\n",
       "      <td>0</td>\n",
       "      <td>0</td>\n",
       "      <td>...</td>\n",
       "      <td>0</td>\n",
       "      <td>0</td>\n",
       "      <td>0</td>\n",
       "      <td>0</td>\n",
       "      <td>0</td>\n",
       "      <td>0</td>\n",
       "      <td>1</td>\n",
       "      <td>0</td>\n",
       "      <td>1</td>\n",
       "      <td>0</td>\n",
       "    </tr>\n",
       "    <tr>\n",
       "      <th>2</th>\n",
       "      <td>0</td>\n",
       "      <td>0</td>\n",
       "      <td>0</td>\n",
       "      <td>0</td>\n",
       "      <td>1</td>\n",
       "      <td>1</td>\n",
       "      <td>0</td>\n",
       "      <td>0</td>\n",
       "      <td>0</td>\n",
       "      <td>0</td>\n",
       "      <td>...</td>\n",
       "      <td>0</td>\n",
       "      <td>0</td>\n",
       "      <td>0</td>\n",
       "      <td>0</td>\n",
       "      <td>0</td>\n",
       "      <td>0</td>\n",
       "      <td>1</td>\n",
       "      <td>0</td>\n",
       "      <td>1</td>\n",
       "      <td>0</td>\n",
       "    </tr>\n",
       "    <tr>\n",
       "      <th>3</th>\n",
       "      <td>0</td>\n",
       "      <td>0</td>\n",
       "      <td>0</td>\n",
       "      <td>0</td>\n",
       "      <td>1</td>\n",
       "      <td>1</td>\n",
       "      <td>0</td>\n",
       "      <td>0</td>\n",
       "      <td>0</td>\n",
       "      <td>0</td>\n",
       "      <td>...</td>\n",
       "      <td>0</td>\n",
       "      <td>0</td>\n",
       "      <td>0</td>\n",
       "      <td>0</td>\n",
       "      <td>0</td>\n",
       "      <td>0</td>\n",
       "      <td>1</td>\n",
       "      <td>0</td>\n",
       "      <td>1</td>\n",
       "      <td>0</td>\n",
       "    </tr>\n",
       "    <tr>\n",
       "      <th>4</th>\n",
       "      <td>0</td>\n",
       "      <td>1</td>\n",
       "      <td>0</td>\n",
       "      <td>0</td>\n",
       "      <td>0</td>\n",
       "      <td>1</td>\n",
       "      <td>0</td>\n",
       "      <td>0</td>\n",
       "      <td>0</td>\n",
       "      <td>0</td>\n",
       "      <td>...</td>\n",
       "      <td>0</td>\n",
       "      <td>0</td>\n",
       "      <td>0</td>\n",
       "      <td>0</td>\n",
       "      <td>0</td>\n",
       "      <td>1</td>\n",
       "      <td>1</td>\n",
       "      <td>0</td>\n",
       "      <td>0</td>\n",
       "      <td>1</td>\n",
       "    </tr>\n",
       "    <tr>\n",
       "      <th>...</th>\n",
       "      <td>...</td>\n",
       "      <td>...</td>\n",
       "      <td>...</td>\n",
       "      <td>...</td>\n",
       "      <td>...</td>\n",
       "      <td>...</td>\n",
       "      <td>...</td>\n",
       "      <td>...</td>\n",
       "      <td>...</td>\n",
       "      <td>...</td>\n",
       "      <td>...</td>\n",
       "      <td>...</td>\n",
       "      <td>...</td>\n",
       "      <td>...</td>\n",
       "      <td>...</td>\n",
       "      <td>...</td>\n",
       "      <td>...</td>\n",
       "      <td>...</td>\n",
       "      <td>...</td>\n",
       "      <td>...</td>\n",
       "      <td>...</td>\n",
       "    </tr>\n",
       "    <tr>\n",
       "      <th>257771</th>\n",
       "      <td>0</td>\n",
       "      <td>1</td>\n",
       "      <td>0</td>\n",
       "      <td>0</td>\n",
       "      <td>0</td>\n",
       "      <td>0</td>\n",
       "      <td>1</td>\n",
       "      <td>0</td>\n",
       "      <td>0</td>\n",
       "      <td>0</td>\n",
       "      <td>...</td>\n",
       "      <td>0</td>\n",
       "      <td>0</td>\n",
       "      <td>0</td>\n",
       "      <td>0</td>\n",
       "      <td>0</td>\n",
       "      <td>0</td>\n",
       "      <td>1</td>\n",
       "      <td>0</td>\n",
       "      <td>1</td>\n",
       "      <td>0</td>\n",
       "    </tr>\n",
       "    <tr>\n",
       "      <th>257772</th>\n",
       "      <td>0</td>\n",
       "      <td>1</td>\n",
       "      <td>0</td>\n",
       "      <td>0</td>\n",
       "      <td>0</td>\n",
       "      <td>0</td>\n",
       "      <td>0</td>\n",
       "      <td>1</td>\n",
       "      <td>0</td>\n",
       "      <td>0</td>\n",
       "      <td>...</td>\n",
       "      <td>0</td>\n",
       "      <td>0</td>\n",
       "      <td>0</td>\n",
       "      <td>0</td>\n",
       "      <td>0</td>\n",
       "      <td>0</td>\n",
       "      <td>1</td>\n",
       "      <td>0</td>\n",
       "      <td>1</td>\n",
       "      <td>0</td>\n",
       "    </tr>\n",
       "    <tr>\n",
       "      <th>257773</th>\n",
       "      <td>0</td>\n",
       "      <td>1</td>\n",
       "      <td>0</td>\n",
       "      <td>0</td>\n",
       "      <td>0</td>\n",
       "      <td>1</td>\n",
       "      <td>0</td>\n",
       "      <td>0</td>\n",
       "      <td>0</td>\n",
       "      <td>0</td>\n",
       "      <td>...</td>\n",
       "      <td>0</td>\n",
       "      <td>0</td>\n",
       "      <td>0</td>\n",
       "      <td>0</td>\n",
       "      <td>0</td>\n",
       "      <td>0</td>\n",
       "      <td>1</td>\n",
       "      <td>0</td>\n",
       "      <td>0</td>\n",
       "      <td>1</td>\n",
       "    </tr>\n",
       "    <tr>\n",
       "      <th>257774</th>\n",
       "      <td>0</td>\n",
       "      <td>1</td>\n",
       "      <td>0</td>\n",
       "      <td>0</td>\n",
       "      <td>0</td>\n",
       "      <td>1</td>\n",
       "      <td>0</td>\n",
       "      <td>0</td>\n",
       "      <td>0</td>\n",
       "      <td>0</td>\n",
       "      <td>...</td>\n",
       "      <td>0</td>\n",
       "      <td>0</td>\n",
       "      <td>0</td>\n",
       "      <td>0</td>\n",
       "      <td>0</td>\n",
       "      <td>0</td>\n",
       "      <td>1</td>\n",
       "      <td>0</td>\n",
       "      <td>0</td>\n",
       "      <td>1</td>\n",
       "    </tr>\n",
       "    <tr>\n",
       "      <th>257775</th>\n",
       "      <td>0</td>\n",
       "      <td>1</td>\n",
       "      <td>0</td>\n",
       "      <td>0</td>\n",
       "      <td>0</td>\n",
       "      <td>1</td>\n",
       "      <td>0</td>\n",
       "      <td>0</td>\n",
       "      <td>1</td>\n",
       "      <td>0</td>\n",
       "      <td>...</td>\n",
       "      <td>0</td>\n",
       "      <td>0</td>\n",
       "      <td>0</td>\n",
       "      <td>0</td>\n",
       "      <td>0</td>\n",
       "      <td>0</td>\n",
       "      <td>0</td>\n",
       "      <td>1</td>\n",
       "      <td>0</td>\n",
       "      <td>1</td>\n",
       "    </tr>\n",
       "  </tbody>\n",
       "</table>\n",
       "<p>257776 rows × 28 columns</p>\n",
       "</div>"
      ],
      "text/plain": [
       "        homeownership_ANY  homeownership_MORTGAGE  homeownership_NONE  \\\n",
       "0                       0                       0                   0   \n",
       "1                       0                       1                   0   \n",
       "2                       0                       0                   0   \n",
       "3                       0                       0                   0   \n",
       "4                       0                       1                   0   \n",
       "...                   ...                     ...                 ...   \n",
       "257771                  0                       1                   0   \n",
       "257772                  0                       1                   0   \n",
       "257773                  0                       1                   0   \n",
       "257774                  0                       1                   0   \n",
       "257775                  0                       1                   0   \n",
       "\n",
       "        homeownership_OWN  homeownership_RENT  \\\n",
       "0                       0                   1   \n",
       "1                       0                   0   \n",
       "2                       0                   1   \n",
       "3                       0                   1   \n",
       "4                       0                   0   \n",
       "...                   ...                 ...   \n",
       "257771                  0                   0   \n",
       "257772                  0                   0   \n",
       "257773                  0                   0   \n",
       "257774                  0                   0   \n",
       "257775                  0                   0   \n",
       "\n",
       "        verificationstatus_Not Verified  verificationstatus_Source Verified  \\\n",
       "0                                     1                                   0   \n",
       "1                                     1                                   0   \n",
       "2                                     1                                   0   \n",
       "3                                     1                                   0   \n",
       "4                                     1                                   0   \n",
       "...                                 ...                                 ...   \n",
       "257771                                0                                   1   \n",
       "257772                                0                                   0   \n",
       "257773                                1                                   0   \n",
       "257774                                1                                   0   \n",
       "257775                                1                                   0   \n",
       "\n",
       "        verificationstatus_Verified  verificationstatusjoint_Not Verified  \\\n",
       "0                                 0                                     0   \n",
       "1                                 0                                     0   \n",
       "2                                 0                                     0   \n",
       "3                                 0                                     0   \n",
       "4                                 0                                     0   \n",
       "...                             ...                                   ...   \n",
       "257771                            0                                     0   \n",
       "257772                            1                                     0   \n",
       "257773                            0                                     0   \n",
       "257774                            0                                     0   \n",
       "257775                            0                                     1   \n",
       "\n",
       "        verificationstatusjoint_Source Verified  ...  purpose_medical  \\\n",
       "0                                             0  ...                0   \n",
       "1                                             0  ...                0   \n",
       "2                                             0  ...                0   \n",
       "3                                             0  ...                0   \n",
       "4                                             0  ...                0   \n",
       "...                                         ...  ...              ...   \n",
       "257771                                        0  ...                0   \n",
       "257772                                        0  ...                0   \n",
       "257773                                        0  ...                0   \n",
       "257774                                        0  ...                0   \n",
       "257775                                        0  ...                0   \n",
       "\n",
       "        purpose_moving  purpose_other  purpose_renewable_energy  \\\n",
       "0                    0              0                         0   \n",
       "1                    0              0                         0   \n",
       "2                    0              0                         0   \n",
       "3                    0              0                         0   \n",
       "4                    0              0                         0   \n",
       "...                ...            ...                       ...   \n",
       "257771               0              0                         0   \n",
       "257772               0              0                         0   \n",
       "257773               0              0                         0   \n",
       "257774               0              0                         0   \n",
       "257775               0              0                         0   \n",
       "\n",
       "        purpose_small_business  purpose_vacation  applicationtype_Individual  \\\n",
       "0                            0                 0                           1   \n",
       "1                            0                 0                           1   \n",
       "2                            0                 0                           1   \n",
       "3                            0                 0                           1   \n",
       "4                            0                 1                           1   \n",
       "...                        ...               ...                         ...   \n",
       "257771                       0                 0                           1   \n",
       "257772                       0                 0                           1   \n",
       "257773                       0                 0                           1   \n",
       "257774                       0                 0                           1   \n",
       "257775                       0                 0                           0   \n",
       "\n",
       "        applicationtype_Joint App  initialliststatus_f  initialliststatus_w  \n",
       "0                               0                    0                    1  \n",
       "1                               0                    1                    0  \n",
       "2                               0                    1                    0  \n",
       "3                               0                    1                    0  \n",
       "4                               0                    0                    1  \n",
       "...                           ...                  ...                  ...  \n",
       "257771                          0                    1                    0  \n",
       "257772                          0                    1                    0  \n",
       "257773                          0                    0                    1  \n",
       "257774                          0                    0                    1  \n",
       "257775                          1                    0                    1  \n",
       "\n",
       "[257776 rows x 28 columns]"
      ]
     },
     "execution_count": 81,
     "metadata": {},
     "output_type": "execute_result"
    }
   ],
   "source": [
    "len(OHE_feature)\n",
    "df_dummy"
   ]
  },
  {
   "cell_type": "code",
   "execution_count": 82,
   "metadata": {},
   "outputs": [],
   "source": [
    "df=pd.concat([df,df_dummy], axis=1 )"
   ]
  },
  {
   "cell_type": "code",
   "execution_count": 83,
   "metadata": {},
   "outputs": [
    {
     "data": {
      "text/plain": [
       "(257776, 139)"
      ]
     },
     "execution_count": 83,
     "metadata": {},
     "output_type": "execute_result"
    }
   ],
   "source": [
    "df.shape"
   ]
  },
  {
   "cell_type": "code",
   "execution_count": 84,
   "metadata": {},
   "outputs": [],
   "source": [
    "for feat in dummy_feature:\n",
    "    \n",
    "    ob_feature.remove(feat)"
   ]
  },
  {
   "cell_type": "code",
   "execution_count": 85,
   "metadata": {},
   "outputs": [
    {
     "data": {
      "text/plain": [
       "0"
      ]
     },
     "execution_count": 85,
     "metadata": {},
     "output_type": "execute_result"
    }
   ],
   "source": [
    "len(ob_feature)"
   ]
  },
  {
   "cell_type": "code",
   "execution_count": 86,
   "metadata": {},
   "outputs": [],
   "source": [
    "select_feature=num_feature+OHE_feature"
   ]
  },
  {
   "cell_type": "code",
   "execution_count": 87,
   "metadata": {},
   "outputs": [
    {
     "data": {
      "text/plain": [
       "124"
      ]
     },
     "execution_count": 87,
     "metadata": {},
     "output_type": "execute_result"
    }
   ],
   "source": [
    "len(select_feature)"
   ]
  },
  {
   "cell_type": "code",
   "execution_count": 89,
   "metadata": {},
   "outputs": [
    {
     "data": {
      "text/html": [
       "<div>\n",
       "<style scoped>\n",
       "    .dataframe tbody tr th:only-of-type {\n",
       "        vertical-align: middle;\n",
       "    }\n",
       "\n",
       "    .dataframe tbody tr th {\n",
       "        vertical-align: top;\n",
       "    }\n",
       "\n",
       "    .dataframe thead th {\n",
       "        text-align: right;\n",
       "    }\n",
       "</style>\n",
       "<table border=\"1\" class=\"dataframe\">\n",
       "  <thead>\n",
       "    <tr style=\"text-align: right;\">\n",
       "      <th></th>\n",
       "      <th>initialliststatus</th>\n",
       "      <th>grade</th>\n",
       "      <th>subgrade</th>\n",
       "      <th>verificationstatusjoint</th>\n",
       "      <th>earliestcrline</th>\n",
       "      <th>applicationtype</th>\n",
       "      <th>intrate</th>\n",
       "      <th>term</th>\n",
       "      <th>homeownership</th>\n",
       "      <th>addrstate</th>\n",
       "      <th>...</th>\n",
       "      <th>purpose_medical</th>\n",
       "      <th>purpose_moving</th>\n",
       "      <th>purpose_other</th>\n",
       "      <th>purpose_renewable_energy</th>\n",
       "      <th>purpose_small_business</th>\n",
       "      <th>purpose_vacation</th>\n",
       "      <th>applicationtype_Individual</th>\n",
       "      <th>applicationtype_Joint App</th>\n",
       "      <th>initialliststatus_f</th>\n",
       "      <th>initialliststatus_w</th>\n",
       "    </tr>\n",
       "  </thead>\n",
       "  <tbody>\n",
       "    <tr>\n",
       "      <th>0</th>\n",
       "      <td>w</td>\n",
       "      <td>2</td>\n",
       "      <td>8</td>\n",
       "      <td>NaN</td>\n",
       "      <td>Apr-1973</td>\n",
       "      <td>Individual</td>\n",
       "      <td>11.39</td>\n",
       "      <td>36 months</td>\n",
       "      <td>RENT</td>\n",
       "      <td>FL</td>\n",
       "      <td>...</td>\n",
       "      <td>0</td>\n",
       "      <td>0</td>\n",
       "      <td>0</td>\n",
       "      <td>0</td>\n",
       "      <td>0</td>\n",
       "      <td>0</td>\n",
       "      <td>1</td>\n",
       "      <td>0</td>\n",
       "      <td>0</td>\n",
       "      <td>1</td>\n",
       "    </tr>\n",
       "    <tr>\n",
       "      <th>1</th>\n",
       "      <td>f</td>\n",
       "      <td>1</td>\n",
       "      <td>1</td>\n",
       "      <td>NaN</td>\n",
       "      <td>Apr-2006</td>\n",
       "      <td>Individual</td>\n",
       "      <td>5.32</td>\n",
       "      <td>36 months</td>\n",
       "      <td>MORTGAGE</td>\n",
       "      <td>GA</td>\n",
       "      <td>...</td>\n",
       "      <td>0</td>\n",
       "      <td>0</td>\n",
       "      <td>0</td>\n",
       "      <td>0</td>\n",
       "      <td>0</td>\n",
       "      <td>0</td>\n",
       "      <td>1</td>\n",
       "      <td>0</td>\n",
       "      <td>1</td>\n",
       "      <td>0</td>\n",
       "    </tr>\n",
       "    <tr>\n",
       "      <th>2</th>\n",
       "      <td>f</td>\n",
       "      <td>1</td>\n",
       "      <td>4</td>\n",
       "      <td>NaN</td>\n",
       "      <td>Apr-2007</td>\n",
       "      <td>Individual</td>\n",
       "      <td>7.49</td>\n",
       "      <td>36 months</td>\n",
       "      <td>RENT</td>\n",
       "      <td>MA</td>\n",
       "      <td>...</td>\n",
       "      <td>0</td>\n",
       "      <td>0</td>\n",
       "      <td>0</td>\n",
       "      <td>0</td>\n",
       "      <td>0</td>\n",
       "      <td>0</td>\n",
       "      <td>1</td>\n",
       "      <td>0</td>\n",
       "      <td>1</td>\n",
       "      <td>0</td>\n",
       "    </tr>\n",
       "    <tr>\n",
       "      <th>3</th>\n",
       "      <td>f</td>\n",
       "      <td>1</td>\n",
       "      <td>5</td>\n",
       "      <td>NaN</td>\n",
       "      <td>Jan-2004</td>\n",
       "      <td>Individual</td>\n",
       "      <td>7.99</td>\n",
       "      <td>36 months</td>\n",
       "      <td>RENT</td>\n",
       "      <td>OH</td>\n",
       "      <td>...</td>\n",
       "      <td>0</td>\n",
       "      <td>0</td>\n",
       "      <td>0</td>\n",
       "      <td>0</td>\n",
       "      <td>0</td>\n",
       "      <td>0</td>\n",
       "      <td>1</td>\n",
       "      <td>0</td>\n",
       "      <td>1</td>\n",
       "      <td>0</td>\n",
       "    </tr>\n",
       "    <tr>\n",
       "      <th>4</th>\n",
       "      <td>w</td>\n",
       "      <td>1</td>\n",
       "      <td>2</td>\n",
       "      <td>NaN</td>\n",
       "      <td>Oct-1994</td>\n",
       "      <td>Individual</td>\n",
       "      <td>6.99</td>\n",
       "      <td>36 months</td>\n",
       "      <td>MORTGAGE</td>\n",
       "      <td>GA</td>\n",
       "      <td>...</td>\n",
       "      <td>0</td>\n",
       "      <td>0</td>\n",
       "      <td>0</td>\n",
       "      <td>0</td>\n",
       "      <td>0</td>\n",
       "      <td>1</td>\n",
       "      <td>1</td>\n",
       "      <td>0</td>\n",
       "      <td>0</td>\n",
       "      <td>1</td>\n",
       "    </tr>\n",
       "    <tr>\n",
       "      <th>...</th>\n",
       "      <td>...</td>\n",
       "      <td>...</td>\n",
       "      <td>...</td>\n",
       "      <td>...</td>\n",
       "      <td>...</td>\n",
       "      <td>...</td>\n",
       "      <td>...</td>\n",
       "      <td>...</td>\n",
       "      <td>...</td>\n",
       "      <td>...</td>\n",
       "      <td>...</td>\n",
       "      <td>...</td>\n",
       "      <td>...</td>\n",
       "      <td>...</td>\n",
       "      <td>...</td>\n",
       "      <td>...</td>\n",
       "      <td>...</td>\n",
       "      <td>...</td>\n",
       "      <td>...</td>\n",
       "      <td>...</td>\n",
       "      <td>...</td>\n",
       "    </tr>\n",
       "    <tr>\n",
       "      <th>257771</th>\n",
       "      <td>f</td>\n",
       "      <td>4</td>\n",
       "      <td>16</td>\n",
       "      <td>NaN</td>\n",
       "      <td>Jan-2002</td>\n",
       "      <td>Individual</td>\n",
       "      <td>17.09</td>\n",
       "      <td>36 months</td>\n",
       "      <td>MORTGAGE</td>\n",
       "      <td>VA</td>\n",
       "      <td>...</td>\n",
       "      <td>0</td>\n",
       "      <td>0</td>\n",
       "      <td>0</td>\n",
       "      <td>0</td>\n",
       "      <td>0</td>\n",
       "      <td>0</td>\n",
       "      <td>1</td>\n",
       "      <td>0</td>\n",
       "      <td>1</td>\n",
       "      <td>0</td>\n",
       "    </tr>\n",
       "    <tr>\n",
       "      <th>257772</th>\n",
       "      <td>f</td>\n",
       "      <td>4</td>\n",
       "      <td>20</td>\n",
       "      <td>NaN</td>\n",
       "      <td>Nov-1997</td>\n",
       "      <td>Individual</td>\n",
       "      <td>21.45</td>\n",
       "      <td>36 months</td>\n",
       "      <td>MORTGAGE</td>\n",
       "      <td>IL</td>\n",
       "      <td>...</td>\n",
       "      <td>0</td>\n",
       "      <td>0</td>\n",
       "      <td>0</td>\n",
       "      <td>0</td>\n",
       "      <td>0</td>\n",
       "      <td>0</td>\n",
       "      <td>1</td>\n",
       "      <td>0</td>\n",
       "      <td>1</td>\n",
       "      <td>0</td>\n",
       "    </tr>\n",
       "    <tr>\n",
       "      <th>257773</th>\n",
       "      <td>w</td>\n",
       "      <td>2</td>\n",
       "      <td>6</td>\n",
       "      <td>NaN</td>\n",
       "      <td>Mar-1992</td>\n",
       "      <td>Individual</td>\n",
       "      <td>9.44</td>\n",
       "      <td>36 months</td>\n",
       "      <td>MORTGAGE</td>\n",
       "      <td>AL</td>\n",
       "      <td>...</td>\n",
       "      <td>0</td>\n",
       "      <td>0</td>\n",
       "      <td>0</td>\n",
       "      <td>0</td>\n",
       "      <td>0</td>\n",
       "      <td>0</td>\n",
       "      <td>1</td>\n",
       "      <td>0</td>\n",
       "      <td>0</td>\n",
       "      <td>1</td>\n",
       "    </tr>\n",
       "    <tr>\n",
       "      <th>257774</th>\n",
       "      <td>w</td>\n",
       "      <td>3</td>\n",
       "      <td>12</td>\n",
       "      <td>NaN</td>\n",
       "      <td>Dec-2005</td>\n",
       "      <td>Individual</td>\n",
       "      <td>13.59</td>\n",
       "      <td>36 months</td>\n",
       "      <td>MORTGAGE</td>\n",
       "      <td>FL</td>\n",
       "      <td>...</td>\n",
       "      <td>0</td>\n",
       "      <td>0</td>\n",
       "      <td>0</td>\n",
       "      <td>0</td>\n",
       "      <td>0</td>\n",
       "      <td>0</td>\n",
       "      <td>1</td>\n",
       "      <td>0</td>\n",
       "      <td>0</td>\n",
       "      <td>1</td>\n",
       "    </tr>\n",
       "    <tr>\n",
       "      <th>257775</th>\n",
       "      <td>w</td>\n",
       "      <td>1</td>\n",
       "      <td>5</td>\n",
       "      <td>Not Verified</td>\n",
       "      <td>Aug-1995</td>\n",
       "      <td>Joint App</td>\n",
       "      <td>7.97</td>\n",
       "      <td>36 months</td>\n",
       "      <td>MORTGAGE</td>\n",
       "      <td>NY</td>\n",
       "      <td>...</td>\n",
       "      <td>0</td>\n",
       "      <td>0</td>\n",
       "      <td>0</td>\n",
       "      <td>0</td>\n",
       "      <td>0</td>\n",
       "      <td>0</td>\n",
       "      <td>0</td>\n",
       "      <td>1</td>\n",
       "      <td>0</td>\n",
       "      <td>1</td>\n",
       "    </tr>\n",
       "  </tbody>\n",
       "</table>\n",
       "<p>257776 rows × 139 columns</p>\n",
       "</div>"
      ],
      "text/plain": [
       "       initialliststatus  grade  subgrade verificationstatusjoint  \\\n",
       "0                      w      2         8                     NaN   \n",
       "1                      f      1         1                     NaN   \n",
       "2                      f      1         4                     NaN   \n",
       "3                      f      1         5                     NaN   \n",
       "4                      w      1         2                     NaN   \n",
       "...                  ...    ...       ...                     ...   \n",
       "257771                 f      4        16                     NaN   \n",
       "257772                 f      4        20                     NaN   \n",
       "257773                 w      2         6                     NaN   \n",
       "257774                 w      3        12                     NaN   \n",
       "257775                 w      1         5            Not Verified   \n",
       "\n",
       "       earliestcrline applicationtype  intrate        term homeownership  \\\n",
       "0            Apr-1973      Individual    11.39   36 months          RENT   \n",
       "1            Apr-2006      Individual     5.32   36 months      MORTGAGE   \n",
       "2            Apr-2007      Individual     7.49   36 months          RENT   \n",
       "3            Jan-2004      Individual     7.99   36 months          RENT   \n",
       "4            Oct-1994      Individual     6.99   36 months      MORTGAGE   \n",
       "...               ...             ...      ...         ...           ...   \n",
       "257771       Jan-2002      Individual    17.09   36 months      MORTGAGE   \n",
       "257772       Nov-1997      Individual    21.45   36 months      MORTGAGE   \n",
       "257773       Mar-1992      Individual     9.44   36 months      MORTGAGE   \n",
       "257774       Dec-2005      Individual    13.59   36 months      MORTGAGE   \n",
       "257775       Aug-1995       Joint App     7.97   36 months      MORTGAGE   \n",
       "\n",
       "       addrstate  ... purpose_medical  purpose_moving  purpose_other  \\\n",
       "0             FL  ...               0               0              0   \n",
       "1             GA  ...               0               0              0   \n",
       "2             MA  ...               0               0              0   \n",
       "3             OH  ...               0               0              0   \n",
       "4             GA  ...               0               0              0   \n",
       "...          ...  ...             ...             ...            ...   \n",
       "257771        VA  ...               0               0              0   \n",
       "257772        IL  ...               0               0              0   \n",
       "257773        AL  ...               0               0              0   \n",
       "257774        FL  ...               0               0              0   \n",
       "257775        NY  ...               0               0              0   \n",
       "\n",
       "       purpose_renewable_energy purpose_small_business  purpose_vacation  \\\n",
       "0                             0                      0                 0   \n",
       "1                             0                      0                 0   \n",
       "2                             0                      0                 0   \n",
       "3                             0                      0                 0   \n",
       "4                             0                      0                 1   \n",
       "...                         ...                    ...               ...   \n",
       "257771                        0                      0                 0   \n",
       "257772                        0                      0                 0   \n",
       "257773                        0                      0                 0   \n",
       "257774                        0                      0                 0   \n",
       "257775                        0                      0                 0   \n",
       "\n",
       "       applicationtype_Individual  applicationtype_Joint App  \\\n",
       "0                               1                          0   \n",
       "1                               1                          0   \n",
       "2                               1                          0   \n",
       "3                               1                          0   \n",
       "4                               1                          0   \n",
       "...                           ...                        ...   \n",
       "257771                          1                          0   \n",
       "257772                          1                          0   \n",
       "257773                          1                          0   \n",
       "257774                          1                          0   \n",
       "257775                          0                          1   \n",
       "\n",
       "        initialliststatus_f  initialliststatus_w  \n",
       "0                         0                    1  \n",
       "1                         1                    0  \n",
       "2                         1                    0  \n",
       "3                         1                    0  \n",
       "4                         0                    1  \n",
       "...                     ...                  ...  \n",
       "257771                    1                    0  \n",
       "257772                    1                    0  \n",
       "257773                    0                    1  \n",
       "257774                    0                    1  \n",
       "257775                    0                    1  \n",
       "\n",
       "[257776 rows x 139 columns]"
      ]
     },
     "execution_count": 89,
     "metadata": {},
     "output_type": "execute_result"
    }
   ],
   "source": [
    "df"
   ]
  },
  {
   "cell_type": "markdown",
   "metadata": {},
   "source": []
  },
  {
   "cell_type": "markdown",
   "metadata": {},
   "source": [
    "##  XGBoost "
   ]
  },
  {
   "cell_type": "code",
   "execution_count": 90,
   "metadata": {},
   "outputs": [
    {
     "name": "stdout",
     "output_type": "stream",
     "text": [
      "['secappopenactil', 'bcopentobuy', 'numactvbctl', 'mthssincelastrecord', 'totcurbal', 'secappnumrevaccts', 'secappmthssincelastmajorderog', 'secappcollections12mthsexmed', 'mosinrcnttl', 'openrv12m', 'inqlast12m', 'mortacc', 'mthssincelastdelinq', 'numactvrevtl', 'tothicredlim', 'revolbaljoint', 'ficorangehigh', 'maxbalbc', 'openil24m', 'numbctl', 'totalrevhilim', 'totcollamt', 'secappopenacc', 'numtl120dpd2m', 'secappficorangelow', 'totalbalexmort', 'annualincjoint', 'ficorangelow', 'totalacc', 'mthssincerecentbcdlq', 'installment', 'numrevaccts', 'pubrec', 'accopenpast24mths', 'numoprevtl', 'avgcurbal', 'secappmortacc', 'openactil', 'dti', 'openacc6m', 'totalbalil', 'delinq2yrs', 'mosinoldilacct', 'annualinc', 'inqfi', 'numtl30dpd', 'loanamnt', 'numsats', 'mthssincerecentrevoldelinq', 'mthssincerecentbc', 'secappchargeoffwithin12mths', 'revolbal', 'inqlast6mths', 'mthssincercntil', 'openrv24m', 'secapprevolutil', 'totalilhighcreditlimit', 'collections12mthsexmed', 'chargeoffwithin12mths', 'numtl90gdpd24m', 'delinqamnt', 'mosinoldrevtlop', 'secappficorangehigh', 'taxliens', 'numbcsats', 'totalbclimit', 'dtijoint', 'numacctsever120pd', 'accnowdelinq', 'openil12m', 'pcttlnvrdlq', 'bcutil', 'mthssincerecentinq', 'numiltl', 'mosinrcntrevtlop', 'allutil', 'openacc', 'numrevtlbalgt0', 'totalcutl', 'mthssincelastmajorderog', 'numtloppast12m', 'percentbcgt75', 'pubrecbankruptcies', 'ilutil', 'secappinqlast6mths', 'earliestcrline_month', 'secappearliestcrline_month', 'emplength', 'intrate', 'revolutil', 'grade', 'subgrade', 'zipcode', 'zipcode_freq', 'emptitle_freq', 'addrstate_freq', 'homeownership_ANY', 'homeownership_MORTGAGE', 'homeownership_NONE', 'homeownership_OWN', 'homeownership_RENT', 'verificationstatus_Not Verified', 'verificationstatus_Source Verified', 'verificationstatus_Verified', 'verificationstatusjoint_Not Verified', 'verificationstatusjoint_Source Verified', 'verificationstatusjoint_Verified', 'purpose_car', 'purpose_credit_card', 'purpose_debt_consolidation', 'purpose_educational', 'purpose_home_improvement', 'purpose_house', 'purpose_major_purchase', 'purpose_medical', 'purpose_moving', 'purpose_other', 'purpose_renewable_energy', 'purpose_small_business', 'purpose_vacation', 'applicationtype_Individual', 'applicationtype_Joint App', 'initialliststatus_f', 'initialliststatus_w']\n"
     ]
    }
   ],
   "source": [
    "feat=select_feature\n",
    "print (feat)"
   ]
  },
  {
   "cell_type": "markdown",
   "metadata": {},
   "source": [
    "### Preliminary manually parameter tuning based on stratified train-test split"
   ]
  },
  {
   "cell_type": "code",
   "execution_count": 91,
   "metadata": {},
   "outputs": [],
   "source": [
    "from sklearn.model_selection import train_test_split"
   ]
  },
  {
   "cell_type": "code",
   "execution_count": 92,
   "metadata": {},
   "outputs": [
    {
     "name": "stdout",
     "output_type": "stream",
     "text": [
      "       initialliststatus  grade  subgrade verificationstatusjoint  \\\n",
      "0                      w      2         8                     NaN   \n",
      "1                      f      1         1                     NaN   \n",
      "2                      f      1         4                     NaN   \n",
      "3                      f      1         5                     NaN   \n",
      "4                      w      1         2                     NaN   \n",
      "...                  ...    ...       ...                     ...   \n",
      "206404                 w      5        25                     NaN   \n",
      "206405                 w      5        22                     NaN   \n",
      "206406                 w      5        22                     NaN   \n",
      "206407                 w      5        24                     NaN   \n",
      "206408                 w      7        35                     NaN   \n",
      "\n",
      "       earliestcrline applicationtype  intrate        term homeownership  \\\n",
      "0            Apr-1973      Individual    11.39   36 months          RENT   \n",
      "1            Apr-2006      Individual     5.32   36 months      MORTGAGE   \n",
      "2            Apr-2007      Individual     7.49   36 months          RENT   \n",
      "3            Jan-2004      Individual     7.99   36 months          RENT   \n",
      "4            Oct-1994      Individual     6.99   36 months      MORTGAGE   \n",
      "...               ...             ...      ...         ...           ...   \n",
      "206404       Dec-2004      Individual    26.30   36 months          RENT   \n",
      "206405       Apr-2005      Individual    23.88   36 months          RENT   \n",
      "206406       Sep-2000      Individual    23.88   36 months           OWN   \n",
      "206407       May-2000      Individual    25.82   36 months           OWN   \n",
      "206408       Sep-2005      Individual    30.99   36 months      MORTGAGE   \n",
      "\n",
      "       addrstate  ... purpose_medical  purpose_moving  purpose_other  \\\n",
      "0             FL  ...               0               0              0   \n",
      "1             GA  ...               0               0              0   \n",
      "2             MA  ...               0               0              0   \n",
      "3             OH  ...               0               0              0   \n",
      "4             GA  ...               0               0              0   \n",
      "...          ...  ...             ...             ...            ...   \n",
      "206404        GA  ...               0               0              0   \n",
      "206405        CA  ...               0               0              0   \n",
      "206406        TN  ...               0               0              0   \n",
      "206407        NY  ...               0               0              1   \n",
      "206408        IN  ...               0               0              0   \n",
      "\n",
      "       purpose_renewable_energy purpose_small_business  purpose_vacation  \\\n",
      "0                             0                      0                 0   \n",
      "1                             0                      0                 0   \n",
      "2                             0                      0                 0   \n",
      "3                             0                      0                 0   \n",
      "4                             0                      0                 1   \n",
      "...                         ...                    ...               ...   \n",
      "206404                        0                      0                 0   \n",
      "206405                        0                      0                 0   \n",
      "206406                        0                      0                 0   \n",
      "206407                        0                      0                 0   \n",
      "206408                        0                      0                 0   \n",
      "\n",
      "       applicationtype_Individual  applicationtype_Joint App  \\\n",
      "0                               1                          0   \n",
      "1                               1                          0   \n",
      "2                               1                          0   \n",
      "3                               1                          0   \n",
      "4                               1                          0   \n",
      "...                           ...                        ...   \n",
      "206404                          1                          0   \n",
      "206405                          1                          0   \n",
      "206406                          1                          0   \n",
      "206407                          1                          0   \n",
      "206408                          1                          0   \n",
      "\n",
      "        initialliststatus_f  initialliststatus_w  \n",
      "0                         0                    1  \n",
      "1                         1                    0  \n",
      "2                         1                    0  \n",
      "3                         1                    0  \n",
      "4                         0                    1  \n",
      "...                     ...                  ...  \n",
      "206404                    0                    1  \n",
      "206405                    0                    1  \n",
      "206406                    0                    1  \n",
      "206407                    0                    1  \n",
      "206408                    0                    1  \n",
      "\n",
      "[206409 rows x 139 columns]\n"
     ]
    }
   ],
   "source": [
    "print(df.query(\"train_flg == 1\"))"
   ]
  },
  {
   "cell_type": "code",
   "execution_count": 93,
   "metadata": {},
   "outputs": [
    {
     "name": "stdout",
     "output_type": "stream",
     "text": [
      "       initialliststatus  grade  subgrade verificationstatusjoint  \\\n",
      "206409                 w      1         2                     NaN   \n",
      "206410                 w      2        10                     NaN   \n",
      "206411                 w      2         8                     NaN   \n",
      "206412                 w      2         7                     NaN   \n",
      "206413                 w      2         7                     NaN   \n",
      "...                  ...    ...       ...                     ...   \n",
      "257771                 f      4        16                     NaN   \n",
      "257772                 f      4        20                     NaN   \n",
      "257773                 w      2         6                     NaN   \n",
      "257774                 w      3        12                     NaN   \n",
      "257775                 w      1         5            Not Verified   \n",
      "\n",
      "       earliestcrline applicationtype  intrate        term homeownership  \\\n",
      "206409       Nov-2005      Individual     6.08   36 months           OWN   \n",
      "206410       Aug-1999      Individual    11.99   36 months      MORTGAGE   \n",
      "206411       Aug-2008      Individual    10.42   36 months          RENT   \n",
      "206412       Jul-1993      Individual     9.93   36 months      MORTGAGE   \n",
      "206413       Sep-2010      Individual     9.93   36 months          RENT   \n",
      "...               ...             ...      ...         ...           ...   \n",
      "257771       Jan-2002      Individual    17.09   36 months      MORTGAGE   \n",
      "257772       Nov-1997      Individual    21.45   36 months      MORTGAGE   \n",
      "257773       Mar-1992      Individual     9.44   36 months      MORTGAGE   \n",
      "257774       Dec-2005      Individual    13.59   36 months      MORTGAGE   \n",
      "257775       Aug-1995       Joint App     7.97   36 months      MORTGAGE   \n",
      "\n",
      "       addrstate  ... purpose_medical  purpose_moving  purpose_other  \\\n",
      "206409        NJ  ...               0               0              1   \n",
      "206410        MI  ...               0               0              1   \n",
      "206411        WA  ...               0               0              0   \n",
      "206412        NC  ...               0               0              0   \n",
      "206413        NJ  ...               0               0              0   \n",
      "...          ...  ...             ...             ...            ...   \n",
      "257771        VA  ...               0               0              0   \n",
      "257772        IL  ...               0               0              0   \n",
      "257773        AL  ...               0               0              0   \n",
      "257774        FL  ...               0               0              0   \n",
      "257775        NY  ...               0               0              0   \n",
      "\n",
      "       purpose_renewable_energy purpose_small_business  purpose_vacation  \\\n",
      "206409                        0                      0                 0   \n",
      "206410                        0                      0                 0   \n",
      "206411                        0                      0                 0   \n",
      "206412                        0                      0                 0   \n",
      "206413                        0                      0                 0   \n",
      "...                         ...                    ...               ...   \n",
      "257771                        0                      0                 0   \n",
      "257772                        0                      0                 0   \n",
      "257773                        0                      0                 0   \n",
      "257774                        0                      0                 0   \n",
      "257775                        0                      0                 0   \n",
      "\n",
      "       applicationtype_Individual  applicationtype_Joint App  \\\n",
      "206409                          1                          0   \n",
      "206410                          1                          0   \n",
      "206411                          1                          0   \n",
      "206412                          1                          0   \n",
      "206413                          1                          0   \n",
      "...                           ...                        ...   \n",
      "257771                          1                          0   \n",
      "257772                          1                          0   \n",
      "257773                          1                          0   \n",
      "257774                          1                          0   \n",
      "257775                          0                          1   \n",
      "\n",
      "        initialliststatus_f  initialliststatus_w  \n",
      "206409                    0                    1  \n",
      "206410                    0                    1  \n",
      "206411                    0                    1  \n",
      "206412                    0                    1  \n",
      "206413                    0                    1  \n",
      "...                     ...                  ...  \n",
      "257771                    1                    0  \n",
      "257772                    1                    0  \n",
      "257773                    0                    1  \n",
      "257774                    0                    1  \n",
      "257775                    0                    1  \n",
      "\n",
      "[51367 rows x 139 columns]\n"
     ]
    }
   ],
   "source": [
    "print(df.query(\"train_flg == 0\"))"
   ]
  },
  {
   "cell_type": "code",
   "execution_count": 94,
   "metadata": {},
   "outputs": [],
   "source": [
    "df_train = df.query(\"train_flg == 1\")\n",
    "df_test =df.query(\"train_flg == 0\" )"
   ]
  },
  {
   "cell_type": "code",
   "execution_count": 95,
   "metadata": {},
   "outputs": [
    {
     "name": "stdout",
     "output_type": "stream",
     "text": [
      "(206409, 139) (51367, 139)\n"
     ]
    }
   ],
   "source": [
    "print (df_train.shape, df_test.shape)"
   ]
  },
  {
   "cell_type": "code",
   "execution_count": 96,
   "metadata": {},
   "outputs": [
    {
     "data": {
      "text/plain": [
       "(206409, 124)"
      ]
     },
     "execution_count": 96,
     "metadata": {},
     "output_type": "execute_result"
    }
   ],
   "source": [
    "df_train[feat].shape"
   ]
  },
  {
   "cell_type": "code",
   "execution_count": 97,
   "metadata": {},
   "outputs": [],
   "source": [
    "X_train, X_valid, y_train, y_valid = train_test_split(df_train[feat], df_train.loanstatus, \n",
    "                                                      test_size=0.3, random_state=2014, stratify = df_train.loanstatus )"
   ]
  },
  {
   "cell_type": "code",
   "execution_count": 98,
   "metadata": {},
   "outputs": [],
   "source": [
    "X_test, y_test = df_test[feat], df_test.loanstatus"
   ]
  },
  {
   "cell_type": "code",
   "execution_count": 99,
   "metadata": {},
   "outputs": [],
   "source": [
    "dtrain = xgb.DMatrix(X_train, y_train, missing = np.NAN)\n",
    "dvalid = xgb.DMatrix(X_valid, y_valid, missing = np.NAN)\n",
    "dtest = xgb.DMatrix(X_test, y_test, missing = np.NAN)"
   ]
  },
  {
   "cell_type": "code",
   "execution_count": 100,
   "metadata": {},
   "outputs": [],
   "source": [
    "params = {\"objective\": \"binary:logistic\", \n",
    "          \"booster\" : \"gbtree\", \n",
    "          \"eta\": 0.05, \n",
    "          \"max_depth\": 6, \n",
    "          \"subsample\": 0.6, \n",
    "          \"colsample_bytree\": 0.7,\n",
    "          #\"colsample_bylevel\": 0.6,\n",
    "          \"silent\": 1, \n",
    "          \"seed\": 1234, \n",
    "          \"eval_metric\": \"auc\",\n",
    "          #\"gamma\": 1, \n",
    "          \"min_child_weight\": 5} "
   ]
  },
  {
   "cell_type": "code",
   "execution_count": 101,
   "metadata": {},
   "outputs": [
    {
     "name": "stdout",
     "output_type": "stream",
     "text": [
      "[15:34:45] WARNING: C:\\Users\\dev-admin\\croot2\\xgboost-split_1675461376218\\work\\src\\learner.cc:767: \n",
      "Parameters: { \"silent\" } are not used.\n",
      "\n",
      "[0]\ttrain-auc:0.68445\teval-auc:0.67752\n",
      "[1]\ttrain-auc:0.69323\teval-auc:0.68130\n",
      "[2]\ttrain-auc:0.70094\teval-auc:0.68884\n",
      "[3]\ttrain-auc:0.70313\teval-auc:0.69182\n",
      "[4]\ttrain-auc:0.70446\teval-auc:0.69301\n",
      "[5]\ttrain-auc:0.70522\teval-auc:0.69330\n",
      "[6]\ttrain-auc:0.70548\teval-auc:0.69384\n",
      "[7]\ttrain-auc:0.70607\teval-auc:0.69458\n",
      "[8]\ttrain-auc:0.70653\teval-auc:0.69499\n",
      "[9]\ttrain-auc:0.70685\teval-auc:0.69502\n",
      "[10]\ttrain-auc:0.70712\teval-auc:0.69553\n",
      "[11]\ttrain-auc:0.70763\teval-auc:0.69566\n",
      "[12]\ttrain-auc:0.70794\teval-auc:0.69595\n",
      "[13]\ttrain-auc:0.70800\teval-auc:0.69615\n",
      "[14]\ttrain-auc:0.70844\teval-auc:0.69642\n",
      "[15]\ttrain-auc:0.70858\teval-auc:0.69667\n",
      "[16]\ttrain-auc:0.70916\teval-auc:0.69691\n",
      "[17]\ttrain-auc:0.70933\teval-auc:0.69682\n",
      "[18]\ttrain-auc:0.70962\teval-auc:0.69680\n",
      "[19]\ttrain-auc:0.71011\teval-auc:0.69714\n",
      "[20]\ttrain-auc:0.71062\teval-auc:0.69740\n",
      "[21]\ttrain-auc:0.71089\teval-auc:0.69740\n",
      "[22]\ttrain-auc:0.71117\teval-auc:0.69761\n",
      "[23]\ttrain-auc:0.71159\teval-auc:0.69766\n",
      "[24]\ttrain-auc:0.71206\teval-auc:0.69793\n",
      "[25]\ttrain-auc:0.71250\teval-auc:0.69809\n",
      "[26]\ttrain-auc:0.71289\teval-auc:0.69822\n",
      "[27]\ttrain-auc:0.71325\teval-auc:0.69842\n",
      "[28]\ttrain-auc:0.71360\teval-auc:0.69856\n",
      "[29]\ttrain-auc:0.71400\teval-auc:0.69885\n",
      "[30]\ttrain-auc:0.71434\teval-auc:0.69893\n",
      "[31]\ttrain-auc:0.71454\teval-auc:0.69908\n",
      "[32]\ttrain-auc:0.71481\teval-auc:0.69915\n",
      "[33]\ttrain-auc:0.71513\teval-auc:0.69929\n",
      "[34]\ttrain-auc:0.71551\teval-auc:0.69924\n",
      "[35]\ttrain-auc:0.71598\teval-auc:0.69946\n",
      "[36]\ttrain-auc:0.71625\teval-auc:0.69956\n",
      "[37]\ttrain-auc:0.71654\teval-auc:0.69979\n",
      "[38]\ttrain-auc:0.71676\teval-auc:0.69990\n",
      "[39]\ttrain-auc:0.71740\teval-auc:0.70007\n",
      "[40]\ttrain-auc:0.71788\teval-auc:0.70023\n",
      "[41]\ttrain-auc:0.71824\teval-auc:0.70032\n",
      "[42]\ttrain-auc:0.71864\teval-auc:0.70039\n",
      "[43]\ttrain-auc:0.71904\teval-auc:0.70056\n",
      "[44]\ttrain-auc:0.71937\teval-auc:0.70067\n",
      "[45]\ttrain-auc:0.71978\teval-auc:0.70075\n",
      "[46]\ttrain-auc:0.72067\teval-auc:0.70103\n",
      "[47]\ttrain-auc:0.72109\teval-auc:0.70121\n",
      "[48]\ttrain-auc:0.72139\teval-auc:0.70141\n",
      "[49]\ttrain-auc:0.72180\teval-auc:0.70153\n",
      "[50]\ttrain-auc:0.72235\teval-auc:0.70173\n",
      "[51]\ttrain-auc:0.72266\teval-auc:0.70189\n",
      "[52]\ttrain-auc:0.72300\teval-auc:0.70204\n",
      "[53]\ttrain-auc:0.72330\teval-auc:0.70217\n",
      "[54]\ttrain-auc:0.72363\teval-auc:0.70232\n",
      "[55]\ttrain-auc:0.72410\teval-auc:0.70251\n",
      "[56]\ttrain-auc:0.72443\teval-auc:0.70263\n",
      "[57]\ttrain-auc:0.72502\teval-auc:0.70301\n",
      "[58]\ttrain-auc:0.72524\teval-auc:0.70307\n",
      "[59]\ttrain-auc:0.72569\teval-auc:0.70321\n",
      "[60]\ttrain-auc:0.72611\teval-auc:0.70331\n",
      "[61]\ttrain-auc:0.72647\teval-auc:0.70340\n",
      "[62]\ttrain-auc:0.72677\teval-auc:0.70352\n",
      "[63]\ttrain-auc:0.72700\teval-auc:0.70353\n",
      "[64]\ttrain-auc:0.72724\teval-auc:0.70361\n",
      "[65]\ttrain-auc:0.72775\teval-auc:0.70378\n",
      "[66]\ttrain-auc:0.72835\teval-auc:0.70397\n",
      "[67]\ttrain-auc:0.72879\teval-auc:0.70407\n",
      "[68]\ttrain-auc:0.72928\teval-auc:0.70425\n",
      "[69]\ttrain-auc:0.72978\teval-auc:0.70434\n",
      "[70]\ttrain-auc:0.73041\teval-auc:0.70464\n",
      "[71]\ttrain-auc:0.73079\teval-auc:0.70480\n",
      "[72]\ttrain-auc:0.73114\teval-auc:0.70495\n",
      "[73]\ttrain-auc:0.73150\teval-auc:0.70497\n",
      "[74]\ttrain-auc:0.73206\teval-auc:0.70523\n",
      "[75]\ttrain-auc:0.73244\teval-auc:0.70543\n",
      "[76]\ttrain-auc:0.73289\teval-auc:0.70555\n",
      "[77]\ttrain-auc:0.73327\teval-auc:0.70570\n",
      "[78]\ttrain-auc:0.73368\teval-auc:0.70586\n",
      "[79]\ttrain-auc:0.73389\teval-auc:0.70588\n",
      "[80]\ttrain-auc:0.73431\teval-auc:0.70604\n",
      "[81]\ttrain-auc:0.73464\teval-auc:0.70606\n",
      "[82]\ttrain-auc:0.73483\teval-auc:0.70616\n",
      "[83]\ttrain-auc:0.73525\teval-auc:0.70632\n",
      "[84]\ttrain-auc:0.73569\teval-auc:0.70637\n",
      "[85]\ttrain-auc:0.73619\teval-auc:0.70654\n",
      "[86]\ttrain-auc:0.73665\teval-auc:0.70669\n",
      "[87]\ttrain-auc:0.73711\teval-auc:0.70678\n",
      "[88]\ttrain-auc:0.73756\teval-auc:0.70688\n",
      "[89]\ttrain-auc:0.73776\teval-auc:0.70701\n",
      "[90]\ttrain-auc:0.73807\teval-auc:0.70709\n",
      "[91]\ttrain-auc:0.73836\teval-auc:0.70710\n",
      "[92]\ttrain-auc:0.73877\teval-auc:0.70718\n",
      "[93]\ttrain-auc:0.73913\teval-auc:0.70741\n",
      "[94]\ttrain-auc:0.73936\teval-auc:0.70749\n",
      "[95]\ttrain-auc:0.73959\teval-auc:0.70750\n",
      "[96]\ttrain-auc:0.74007\teval-auc:0.70777\n",
      "[97]\ttrain-auc:0.74048\teval-auc:0.70790\n",
      "[98]\ttrain-auc:0.74077\teval-auc:0.70797\n",
      "[99]\ttrain-auc:0.74100\teval-auc:0.70802\n",
      "[100]\ttrain-auc:0.74123\teval-auc:0.70809\n",
      "[101]\ttrain-auc:0.74153\teval-auc:0.70813\n",
      "[102]\ttrain-auc:0.74182\teval-auc:0.70815\n",
      "[103]\ttrain-auc:0.74217\teval-auc:0.70826\n",
      "[104]\ttrain-auc:0.74247\teval-auc:0.70830\n",
      "[105]\ttrain-auc:0.74280\teval-auc:0.70832\n",
      "[106]\ttrain-auc:0.74318\teval-auc:0.70842\n",
      "[107]\ttrain-auc:0.74344\teval-auc:0.70840\n",
      "[108]\ttrain-auc:0.74388\teval-auc:0.70853\n",
      "[109]\ttrain-auc:0.74414\teval-auc:0.70855\n",
      "[110]\ttrain-auc:0.74436\teval-auc:0.70861\n",
      "[111]\ttrain-auc:0.74461\teval-auc:0.70869\n",
      "[112]\ttrain-auc:0.74492\teval-auc:0.70876\n",
      "[113]\ttrain-auc:0.74525\teval-auc:0.70881\n",
      "[114]\ttrain-auc:0.74551\teval-auc:0.70891\n",
      "[115]\ttrain-auc:0.74597\teval-auc:0.70896\n",
      "[116]\ttrain-auc:0.74634\teval-auc:0.70897\n",
      "[117]\ttrain-auc:0.74660\teval-auc:0.70902\n",
      "[118]\ttrain-auc:0.74676\teval-auc:0.70901\n",
      "[119]\ttrain-auc:0.74713\teval-auc:0.70900\n",
      "[120]\ttrain-auc:0.74753\teval-auc:0.70905\n",
      "[121]\ttrain-auc:0.74790\teval-auc:0.70911\n",
      "[122]\ttrain-auc:0.74813\teval-auc:0.70916\n",
      "[123]\ttrain-auc:0.74839\teval-auc:0.70921\n",
      "[124]\ttrain-auc:0.74875\teval-auc:0.70924\n",
      "[125]\ttrain-auc:0.74893\teval-auc:0.70928\n",
      "[126]\ttrain-auc:0.74929\teval-auc:0.70936\n",
      "[127]\ttrain-auc:0.74951\teval-auc:0.70949\n",
      "[128]\ttrain-auc:0.74970\teval-auc:0.70954\n",
      "[129]\ttrain-auc:0.74995\teval-auc:0.70959\n",
      "[130]\ttrain-auc:0.75022\teval-auc:0.70962\n",
      "[131]\ttrain-auc:0.75050\teval-auc:0.70967\n",
      "[132]\ttrain-auc:0.75083\teval-auc:0.70976\n",
      "[133]\ttrain-auc:0.75105\teval-auc:0.70977\n",
      "[134]\ttrain-auc:0.75130\teval-auc:0.70981\n",
      "[135]\ttrain-auc:0.75154\teval-auc:0.70992\n",
      "[136]\ttrain-auc:0.75196\teval-auc:0.71000\n",
      "[137]\ttrain-auc:0.75210\teval-auc:0.71006\n",
      "[138]\ttrain-auc:0.75248\teval-auc:0.71007\n",
      "[139]\ttrain-auc:0.75277\teval-auc:0.71012\n",
      "[140]\ttrain-auc:0.75301\teval-auc:0.71011\n",
      "[141]\ttrain-auc:0.75328\teval-auc:0.71013\n",
      "[142]\ttrain-auc:0.75357\teval-auc:0.71013\n",
      "[143]\ttrain-auc:0.75388\teval-auc:0.71017\n",
      "[144]\ttrain-auc:0.75419\teval-auc:0.71025\n",
      "[145]\ttrain-auc:0.75439\teval-auc:0.71030\n",
      "[146]\ttrain-auc:0.75462\teval-auc:0.71032\n",
      "[147]\ttrain-auc:0.75481\teval-auc:0.71033\n",
      "[148]\ttrain-auc:0.75510\teval-auc:0.71033\n",
      "[149]\ttrain-auc:0.75534\teval-auc:0.71036\n",
      "[150]\ttrain-auc:0.75568\teval-auc:0.71037\n",
      "[151]\ttrain-auc:0.75600\teval-auc:0.71045\n",
      "[152]\ttrain-auc:0.75619\teval-auc:0.71043\n",
      "[153]\ttrain-auc:0.75642\teval-auc:0.71042\n",
      "[154]\ttrain-auc:0.75656\teval-auc:0.71042\n",
      "[155]\ttrain-auc:0.75706\teval-auc:0.71055\n",
      "[156]\ttrain-auc:0.75735\teval-auc:0.71057\n",
      "[157]\ttrain-auc:0.75757\teval-auc:0.71065\n",
      "[158]\ttrain-auc:0.75787\teval-auc:0.71067\n",
      "[159]\ttrain-auc:0.75828\teval-auc:0.71075\n",
      "[160]\ttrain-auc:0.75847\teval-auc:0.71078\n",
      "[161]\ttrain-auc:0.75865\teval-auc:0.71081\n",
      "[162]\ttrain-auc:0.75900\teval-auc:0.71086\n",
      "[163]\ttrain-auc:0.75929\teval-auc:0.71094\n",
      "[164]\ttrain-auc:0.75955\teval-auc:0.71098\n",
      "[165]\ttrain-auc:0.75972\teval-auc:0.71103\n",
      "[166]\ttrain-auc:0.75988\teval-auc:0.71108\n",
      "[167]\ttrain-auc:0.76020\teval-auc:0.71120\n",
      "[168]\ttrain-auc:0.76053\teval-auc:0.71125\n",
      "[169]\ttrain-auc:0.76078\teval-auc:0.71125\n",
      "[170]\ttrain-auc:0.76097\teval-auc:0.71124\n",
      "[171]\ttrain-auc:0.76125\teval-auc:0.71137\n",
      "[172]\ttrain-auc:0.76153\teval-auc:0.71133\n",
      "[173]\ttrain-auc:0.76168\teval-auc:0.71128\n",
      "[174]\ttrain-auc:0.76179\teval-auc:0.71131\n",
      "[175]\ttrain-auc:0.76204\teval-auc:0.71128\n",
      "[176]\ttrain-auc:0.76229\teval-auc:0.71131\n",
      "[177]\ttrain-auc:0.76255\teval-auc:0.71126\n",
      "[178]\ttrain-auc:0.76283\teval-auc:0.71133\n",
      "[179]\ttrain-auc:0.76320\teval-auc:0.71135\n",
      "[180]\ttrain-auc:0.76347\teval-auc:0.71137\n",
      "[181]\ttrain-auc:0.76358\teval-auc:0.71140\n",
      "[182]\ttrain-auc:0.76377\teval-auc:0.71145\n",
      "[183]\ttrain-auc:0.76393\teval-auc:0.71145\n",
      "[184]\ttrain-auc:0.76414\teval-auc:0.71151\n",
      "[185]\ttrain-auc:0.76448\teval-auc:0.71152\n",
      "[186]\ttrain-auc:0.76468\teval-auc:0.71149\n",
      "[187]\ttrain-auc:0.76483\teval-auc:0.71152\n",
      "[188]\ttrain-auc:0.76513\teval-auc:0.71160\n",
      "[189]\ttrain-auc:0.76545\teval-auc:0.71167\n",
      "[190]\ttrain-auc:0.76587\teval-auc:0.71177\n",
      "[191]\ttrain-auc:0.76614\teval-auc:0.71179\n",
      "[192]\ttrain-auc:0.76627\teval-auc:0.71185\n",
      "[193]\ttrain-auc:0.76649\teval-auc:0.71193\n",
      "[194]\ttrain-auc:0.76670\teval-auc:0.71196\n",
      "[195]\ttrain-auc:0.76704\teval-auc:0.71200\n",
      "[196]\ttrain-auc:0.76719\teval-auc:0.71198\n",
      "[197]\ttrain-auc:0.76749\teval-auc:0.71203\n",
      "[198]\ttrain-auc:0.76762\teval-auc:0.71202\n",
      "[199]\ttrain-auc:0.76775\teval-auc:0.71205\n"
     ]
    },
    {
     "name": "stdout",
     "output_type": "stream",
     "text": [
      "[200]\ttrain-auc:0.76789\teval-auc:0.71209\n",
      "[201]\ttrain-auc:0.76801\teval-auc:0.71211\n",
      "[202]\ttrain-auc:0.76824\teval-auc:0.71209\n",
      "[203]\ttrain-auc:0.76835\teval-auc:0.71214\n",
      "[204]\ttrain-auc:0.76847\teval-auc:0.71214\n",
      "[205]\ttrain-auc:0.76871\teval-auc:0.71217\n",
      "[206]\ttrain-auc:0.76885\teval-auc:0.71214\n",
      "[207]\ttrain-auc:0.76904\teval-auc:0.71217\n",
      "[208]\ttrain-auc:0.76923\teval-auc:0.71219\n",
      "[209]\ttrain-auc:0.76939\teval-auc:0.71223\n",
      "[210]\ttrain-auc:0.76971\teval-auc:0.71228\n",
      "[211]\ttrain-auc:0.77005\teval-auc:0.71232\n",
      "[212]\ttrain-auc:0.77021\teval-auc:0.71232\n",
      "[213]\ttrain-auc:0.77036\teval-auc:0.71232\n",
      "[214]\ttrain-auc:0.77058\teval-auc:0.71228\n",
      "[215]\ttrain-auc:0.77084\teval-auc:0.71233\n",
      "[216]\ttrain-auc:0.77109\teval-auc:0.71234\n",
      "[217]\ttrain-auc:0.77129\teval-auc:0.71235\n",
      "[218]\ttrain-auc:0.77152\teval-auc:0.71237\n",
      "[219]\ttrain-auc:0.77166\teval-auc:0.71245\n",
      "[220]\ttrain-auc:0.77182\teval-auc:0.71246\n",
      "[221]\ttrain-auc:0.77185\teval-auc:0.71244\n",
      "[222]\ttrain-auc:0.77198\teval-auc:0.71245\n",
      "[223]\ttrain-auc:0.77215\teval-auc:0.71251\n",
      "[224]\ttrain-auc:0.77249\teval-auc:0.71253\n",
      "[225]\ttrain-auc:0.77271\teval-auc:0.71252\n",
      "[226]\ttrain-auc:0.77289\teval-auc:0.71257\n",
      "[227]\ttrain-auc:0.77307\teval-auc:0.71253\n",
      "[228]\ttrain-auc:0.77342\teval-auc:0.71246\n",
      "[229]\ttrain-auc:0.77358\teval-auc:0.71250\n",
      "[230]\ttrain-auc:0.77382\teval-auc:0.71250\n",
      "[231]\ttrain-auc:0.77407\teval-auc:0.71253\n",
      "[232]\ttrain-auc:0.77434\teval-auc:0.71255\n",
      "[233]\ttrain-auc:0.77459\teval-auc:0.71258\n",
      "[234]\ttrain-auc:0.77479\teval-auc:0.71258\n",
      "[235]\ttrain-auc:0.77492\teval-auc:0.71259\n",
      "[236]\ttrain-auc:0.77500\teval-auc:0.71263\n",
      "[237]\ttrain-auc:0.77514\teval-auc:0.71260\n",
      "[238]\ttrain-auc:0.77543\teval-auc:0.71264\n",
      "[239]\ttrain-auc:0.77552\teval-auc:0.71264\n",
      "[240]\ttrain-auc:0.77566\teval-auc:0.71263\n",
      "[241]\ttrain-auc:0.77574\teval-auc:0.71262\n",
      "[242]\ttrain-auc:0.77613\teval-auc:0.71263\n",
      "[243]\ttrain-auc:0.77631\teval-auc:0.71264\n",
      "[244]\ttrain-auc:0.77658\teval-auc:0.71264\n",
      "[245]\ttrain-auc:0.77679\teval-auc:0.71269\n",
      "[246]\ttrain-auc:0.77704\teval-auc:0.71272\n",
      "[247]\ttrain-auc:0.77737\teval-auc:0.71279\n",
      "[248]\ttrain-auc:0.77762\teval-auc:0.71278\n",
      "[249]\ttrain-auc:0.77795\teval-auc:0.71280\n",
      "[250]\ttrain-auc:0.77816\teval-auc:0.71278\n",
      "[251]\ttrain-auc:0.77827\teval-auc:0.71279\n",
      "[252]\ttrain-auc:0.77840\teval-auc:0.71277\n",
      "[253]\ttrain-auc:0.77871\teval-auc:0.71282\n",
      "[254]\ttrain-auc:0.77893\teval-auc:0.71285\n",
      "[255]\ttrain-auc:0.77908\teval-auc:0.71287\n",
      "[256]\ttrain-auc:0.77936\teval-auc:0.71291\n",
      "[257]\ttrain-auc:0.77959\teval-auc:0.71289\n",
      "[258]\ttrain-auc:0.77973\teval-auc:0.71290\n",
      "[259]\ttrain-auc:0.77997\teval-auc:0.71293\n",
      "[260]\ttrain-auc:0.78007\teval-auc:0.71295\n",
      "[261]\ttrain-auc:0.78024\teval-auc:0.71292\n",
      "[262]\ttrain-auc:0.78061\teval-auc:0.71291\n",
      "[263]\ttrain-auc:0.78090\teval-auc:0.71303\n",
      "[264]\ttrain-auc:0.78106\teval-auc:0.71309\n",
      "[265]\ttrain-auc:0.78130\teval-auc:0.71311\n",
      "[266]\ttrain-auc:0.78143\teval-auc:0.71313\n",
      "[267]\ttrain-auc:0.78162\teval-auc:0.71312\n",
      "[268]\ttrain-auc:0.78193\teval-auc:0.71318\n",
      "[269]\ttrain-auc:0.78198\teval-auc:0.71317\n",
      "[270]\ttrain-auc:0.78210\teval-auc:0.71318\n",
      "[271]\ttrain-auc:0.78228\teval-auc:0.71312\n",
      "[272]\ttrain-auc:0.78243\teval-auc:0.71312\n",
      "[273]\ttrain-auc:0.78269\teval-auc:0.71312\n",
      "[274]\ttrain-auc:0.78294\teval-auc:0.71309\n",
      "[275]\ttrain-auc:0.78319\teval-auc:0.71310\n",
      "[276]\ttrain-auc:0.78336\teval-auc:0.71309\n",
      "[277]\ttrain-auc:0.78363\teval-auc:0.71312\n",
      "[278]\ttrain-auc:0.78391\teval-auc:0.71314\n",
      "[279]\ttrain-auc:0.78407\teval-auc:0.71313\n",
      "[280]\ttrain-auc:0.78433\teval-auc:0.71309\n",
      "[281]\ttrain-auc:0.78449\teval-auc:0.71309\n",
      "[282]\ttrain-auc:0.78459\teval-auc:0.71311\n",
      "[283]\ttrain-auc:0.78471\teval-auc:0.71307\n",
      "[284]\ttrain-auc:0.78495\teval-auc:0.71307\n",
      "[285]\ttrain-auc:0.78525\teval-auc:0.71301\n",
      "[286]\ttrain-auc:0.78533\teval-auc:0.71302\n",
      "[287]\ttrain-auc:0.78559\teval-auc:0.71296\n",
      "[288]\ttrain-auc:0.78575\teval-auc:0.71298\n",
      "[289]\ttrain-auc:0.78598\teval-auc:0.71302\n",
      "[290]\ttrain-auc:0.78607\teval-auc:0.71303\n",
      "[291]\ttrain-auc:0.78629\teval-auc:0.71303\n",
      "[292]\ttrain-auc:0.78647\teval-auc:0.71301\n",
      "[293]\ttrain-auc:0.78658\teval-auc:0.71301\n",
      "[294]\ttrain-auc:0.78671\teval-auc:0.71307\n",
      "[295]\ttrain-auc:0.78680\teval-auc:0.71305\n",
      "[296]\ttrain-auc:0.78700\teval-auc:0.71310\n",
      "[297]\ttrain-auc:0.78716\teval-auc:0.71315\n",
      "[298]\ttrain-auc:0.78738\teval-auc:0.71325\n",
      "[299]\ttrain-auc:0.78757\teval-auc:0.71330\n",
      "[300]\ttrain-auc:0.78768\teval-auc:0.71329\n",
      "[301]\ttrain-auc:0.78793\teval-auc:0.71334\n",
      "[302]\ttrain-auc:0.78814\teval-auc:0.71338\n",
      "[303]\ttrain-auc:0.78829\teval-auc:0.71338\n",
      "[304]\ttrain-auc:0.78837\teval-auc:0.71339\n",
      "[305]\ttrain-auc:0.78847\teval-auc:0.71337\n",
      "[306]\ttrain-auc:0.78872\teval-auc:0.71336\n",
      "[307]\ttrain-auc:0.78889\teval-auc:0.71337\n",
      "[308]\ttrain-auc:0.78901\teval-auc:0.71337\n",
      "[309]\ttrain-auc:0.78911\teval-auc:0.71334\n",
      "[310]\ttrain-auc:0.78935\teval-auc:0.71333\n",
      "[311]\ttrain-auc:0.78959\teval-auc:0.71330\n",
      "[312]\ttrain-auc:0.78974\teval-auc:0.71332\n",
      "[313]\ttrain-auc:0.78985\teval-auc:0.71334\n",
      "[314]\ttrain-auc:0.78992\teval-auc:0.71336\n",
      "[315]\ttrain-auc:0.79006\teval-auc:0.71331\n",
      "[316]\ttrain-auc:0.79032\teval-auc:0.71333\n",
      "[317]\ttrain-auc:0.79042\teval-auc:0.71329\n",
      "[318]\ttrain-auc:0.79061\teval-auc:0.71324\n",
      "[319]\ttrain-auc:0.79087\teval-auc:0.71326\n",
      "[320]\ttrain-auc:0.79104\teval-auc:0.71329\n",
      "[321]\ttrain-auc:0.79122\teval-auc:0.71337\n",
      "[322]\ttrain-auc:0.79132\teval-auc:0.71340\n",
      "[323]\ttrain-auc:0.79151\teval-auc:0.71335\n",
      "[324]\ttrain-auc:0.79162\teval-auc:0.71337\n",
      "[325]\ttrain-auc:0.79176\teval-auc:0.71337\n",
      "[326]\ttrain-auc:0.79197\teval-auc:0.71341\n",
      "[327]\ttrain-auc:0.79210\teval-auc:0.71343\n",
      "[328]\ttrain-auc:0.79223\teval-auc:0.71344\n",
      "[329]\ttrain-auc:0.79236\teval-auc:0.71341\n",
      "[330]\ttrain-auc:0.79251\teval-auc:0.71338\n",
      "[331]\ttrain-auc:0.79254\teval-auc:0.71339\n",
      "[332]\ttrain-auc:0.79273\teval-auc:0.71337\n",
      "[333]\ttrain-auc:0.79293\teval-auc:0.71335\n",
      "[334]\ttrain-auc:0.79319\teval-auc:0.71339\n",
      "[335]\ttrain-auc:0.79344\teval-auc:0.71341\n",
      "[336]\ttrain-auc:0.79353\teval-auc:0.71341\n",
      "[337]\ttrain-auc:0.79368\teval-auc:0.71344\n",
      "[338]\ttrain-auc:0.79393\teval-auc:0.71343\n",
      "[339]\ttrain-auc:0.79402\teval-auc:0.71341\n",
      "[340]\ttrain-auc:0.79416\teval-auc:0.71338\n",
      "[341]\ttrain-auc:0.79432\teval-auc:0.71339\n",
      "[342]\ttrain-auc:0.79457\teval-auc:0.71335\n",
      "[343]\ttrain-auc:0.79467\teval-auc:0.71338\n",
      "[344]\ttrain-auc:0.79494\teval-auc:0.71340\n",
      "[345]\ttrain-auc:0.79518\teval-auc:0.71342\n",
      "[346]\ttrain-auc:0.79540\teval-auc:0.71347\n",
      "[347]\ttrain-auc:0.79556\teval-auc:0.71342\n",
      "[348]\ttrain-auc:0.79575\teval-auc:0.71341\n",
      "[349]\ttrain-auc:0.79597\teval-auc:0.71341\n",
      "[350]\ttrain-auc:0.79618\teval-auc:0.71344\n",
      "[351]\ttrain-auc:0.79632\teval-auc:0.71342\n",
      "[352]\ttrain-auc:0.79647\teval-auc:0.71342\n",
      "[353]\ttrain-auc:0.79683\teval-auc:0.71338\n",
      "[354]\ttrain-auc:0.79697\teval-auc:0.71336\n",
      "[355]\ttrain-auc:0.79710\teval-auc:0.71340\n",
      "[356]\ttrain-auc:0.79743\teval-auc:0.71340\n",
      "[357]\ttrain-auc:0.79751\teval-auc:0.71337\n",
      "[358]\ttrain-auc:0.79771\teval-auc:0.71342\n",
      "[359]\ttrain-auc:0.79788\teval-auc:0.71342\n",
      "[360]\ttrain-auc:0.79819\teval-auc:0.71337\n",
      "[361]\ttrain-auc:0.79842\teval-auc:0.71342\n",
      "[362]\ttrain-auc:0.79872\teval-auc:0.71348\n",
      "[363]\ttrain-auc:0.79886\teval-auc:0.71347\n",
      "[364]\ttrain-auc:0.79898\teval-auc:0.71345\n",
      "[365]\ttrain-auc:0.79905\teval-auc:0.71342\n",
      "[366]\ttrain-auc:0.79914\teval-auc:0.71343\n",
      "[367]\ttrain-auc:0.79925\teval-auc:0.71342\n",
      "[368]\ttrain-auc:0.79935\teval-auc:0.71341\n",
      "[369]\ttrain-auc:0.79942\teval-auc:0.71339\n",
      "[370]\ttrain-auc:0.79953\teval-auc:0.71341\n",
      "[371]\ttrain-auc:0.79956\teval-auc:0.71343\n",
      "[372]\ttrain-auc:0.79978\teval-auc:0.71343\n",
      "[373]\ttrain-auc:0.80010\teval-auc:0.71341\n",
      "[374]\ttrain-auc:0.80029\teval-auc:0.71343\n",
      "[375]\ttrain-auc:0.80043\teval-auc:0.71344\n",
      "[376]\ttrain-auc:0.80057\teval-auc:0.71350\n",
      "[377]\ttrain-auc:0.80070\teval-auc:0.71351\n",
      "[378]\ttrain-auc:0.80081\teval-auc:0.71350\n",
      "[379]\ttrain-auc:0.80098\teval-auc:0.71351\n",
      "[380]\ttrain-auc:0.80117\teval-auc:0.71349\n",
      "[381]\ttrain-auc:0.80130\teval-auc:0.71350\n",
      "[382]\ttrain-auc:0.80138\teval-auc:0.71348\n",
      "[383]\ttrain-auc:0.80159\teval-auc:0.71348\n",
      "[384]\ttrain-auc:0.80176\teval-auc:0.71345\n",
      "[385]\ttrain-auc:0.80196\teval-auc:0.71343\n",
      "[386]\ttrain-auc:0.80205\teval-auc:0.71341\n",
      "[387]\ttrain-auc:0.80230\teval-auc:0.71343\n",
      "[388]\ttrain-auc:0.80246\teval-auc:0.71337\n",
      "[389]\ttrain-auc:0.80268\teval-auc:0.71338\n",
      "[390]\ttrain-auc:0.80296\teval-auc:0.71336\n",
      "[391]\ttrain-auc:0.80314\teval-auc:0.71337\n",
      "[392]\ttrain-auc:0.80323\teval-auc:0.71342\n",
      "[393]\ttrain-auc:0.80344\teval-auc:0.71342\n",
      "[394]\ttrain-auc:0.80367\teval-auc:0.71350\n",
      "[395]\ttrain-auc:0.80375\teval-auc:0.71350\n",
      "[396]\ttrain-auc:0.80397\teval-auc:0.71352\n",
      "[397]\ttrain-auc:0.80412\teval-auc:0.71356\n",
      "[398]\ttrain-auc:0.80445\teval-auc:0.71356\n",
      "[399]\ttrain-auc:0.80461\teval-auc:0.71358\n"
     ]
    },
    {
     "name": "stdout",
     "output_type": "stream",
     "text": [
      "[400]\ttrain-auc:0.80474\teval-auc:0.71356\n",
      "[401]\ttrain-auc:0.80495\teval-auc:0.71355\n",
      "[402]\ttrain-auc:0.80512\teval-auc:0.71354\n",
      "[403]\ttrain-auc:0.80538\teval-auc:0.71349\n",
      "[404]\ttrain-auc:0.80559\teval-auc:0.71346\n",
      "[405]\ttrain-auc:0.80583\teval-auc:0.71342\n",
      "[406]\ttrain-auc:0.80596\teval-auc:0.71343\n",
      "[407]\ttrain-auc:0.80612\teval-auc:0.71345\n",
      "[408]\ttrain-auc:0.80635\teval-auc:0.71351\n",
      "[409]\ttrain-auc:0.80641\teval-auc:0.71353\n",
      "[410]\ttrain-auc:0.80660\teval-auc:0.71352\n",
      "[411]\ttrain-auc:0.80669\teval-auc:0.71356\n",
      "[412]\ttrain-auc:0.80683\teval-auc:0.71352\n",
      "[413]\ttrain-auc:0.80703\teval-auc:0.71352\n",
      "[414]\ttrain-auc:0.80729\teval-auc:0.71354\n",
      "[415]\ttrain-auc:0.80732\teval-auc:0.71355\n",
      "[416]\ttrain-auc:0.80758\teval-auc:0.71349\n",
      "[417]\ttrain-auc:0.80781\teval-auc:0.71350\n",
      "[418]\ttrain-auc:0.80802\teval-auc:0.71353\n",
      "[419]\ttrain-auc:0.80815\teval-auc:0.71352\n",
      "[420]\ttrain-auc:0.80827\teval-auc:0.71352\n",
      "[421]\ttrain-auc:0.80855\teval-auc:0.71354\n",
      "[422]\ttrain-auc:0.80865\teval-auc:0.71352\n",
      "[423]\ttrain-auc:0.80873\teval-auc:0.71351\n",
      "[424]\ttrain-auc:0.80884\teval-auc:0.71353\n",
      "[425]\ttrain-auc:0.80909\teval-auc:0.71349\n",
      "[426]\ttrain-auc:0.80924\teval-auc:0.71352\n",
      "[427]\ttrain-auc:0.80942\teval-auc:0.71357\n",
      "[428]\ttrain-auc:0.80961\teval-auc:0.71357\n",
      "[429]\ttrain-auc:0.80979\teval-auc:0.71355\n",
      "[430]\ttrain-auc:0.81001\teval-auc:0.71355\n",
      "[431]\ttrain-auc:0.81008\teval-auc:0.71356\n",
      "[432]\ttrain-auc:0.81031\teval-auc:0.71356\n",
      "[433]\ttrain-auc:0.81046\teval-auc:0.71355\n",
      "[434]\ttrain-auc:0.81055\teval-auc:0.71352\n",
      "[435]\ttrain-auc:0.81070\teval-auc:0.71350\n",
      "[436]\ttrain-auc:0.81081\teval-auc:0.71354\n",
      "[437]\ttrain-auc:0.81102\teval-auc:0.71362\n",
      "[438]\ttrain-auc:0.81120\teval-auc:0.71359\n",
      "[439]\ttrain-auc:0.81138\teval-auc:0.71360\n",
      "[440]\ttrain-auc:0.81161\teval-auc:0.71356\n",
      "[441]\ttrain-auc:0.81171\teval-auc:0.71354\n",
      "[442]\ttrain-auc:0.81186\teval-auc:0.71360\n",
      "[443]\ttrain-auc:0.81200\teval-auc:0.71356\n",
      "[444]\ttrain-auc:0.81221\teval-auc:0.71355\n",
      "[445]\ttrain-auc:0.81227\teval-auc:0.71355\n",
      "[446]\ttrain-auc:0.81260\teval-auc:0.71353\n",
      "[447]\ttrain-auc:0.81271\teval-auc:0.71355\n",
      "[448]\ttrain-auc:0.81280\teval-auc:0.71357\n",
      "[449]\ttrain-auc:0.81306\teval-auc:0.71361\n",
      "[450]\ttrain-auc:0.81319\teval-auc:0.71362\n",
      "[451]\ttrain-auc:0.81334\teval-auc:0.71361\n",
      "[452]\ttrain-auc:0.81363\teval-auc:0.71361\n",
      "[453]\ttrain-auc:0.81371\teval-auc:0.71361\n",
      "[454]\ttrain-auc:0.81386\teval-auc:0.71359\n",
      "[455]\ttrain-auc:0.81396\teval-auc:0.71361\n",
      "[456]\ttrain-auc:0.81400\teval-auc:0.71362\n",
      "[457]\ttrain-auc:0.81429\teval-auc:0.71357\n",
      "[458]\ttrain-auc:0.81450\teval-auc:0.71350\n",
      "[459]\ttrain-auc:0.81466\teval-auc:0.71354\n",
      "[460]\ttrain-auc:0.81483\teval-auc:0.71357\n",
      "[461]\ttrain-auc:0.81489\teval-auc:0.71360\n",
      "[462]\ttrain-auc:0.81505\teval-auc:0.71359\n",
      "[463]\ttrain-auc:0.81523\teval-auc:0.71361\n",
      "[464]\ttrain-auc:0.81534\teval-auc:0.71362\n",
      "[465]\ttrain-auc:0.81553\teval-auc:0.71363\n",
      "[466]\ttrain-auc:0.81571\teval-auc:0.71362\n",
      "[467]\ttrain-auc:0.81586\teval-auc:0.71364\n",
      "[468]\ttrain-auc:0.81594\teval-auc:0.71365\n",
      "[469]\ttrain-auc:0.81624\teval-auc:0.71366\n",
      "[470]\ttrain-auc:0.81643\teval-auc:0.71366\n",
      "[471]\ttrain-auc:0.81659\teval-auc:0.71364\n",
      "[472]\ttrain-auc:0.81663\teval-auc:0.71368\n",
      "[473]\ttrain-auc:0.81686\teval-auc:0.71367\n",
      "[474]\ttrain-auc:0.81693\teval-auc:0.71366\n",
      "[475]\ttrain-auc:0.81716\teval-auc:0.71366\n",
      "[476]\ttrain-auc:0.81730\teval-auc:0.71365\n",
      "[477]\ttrain-auc:0.81755\teval-auc:0.71365\n",
      "[478]\ttrain-auc:0.81761\teval-auc:0.71365\n",
      "[479]\ttrain-auc:0.81778\teval-auc:0.71362\n",
      "[480]\ttrain-auc:0.81805\teval-auc:0.71367\n",
      "[481]\ttrain-auc:0.81809\teval-auc:0.71367\n",
      "[482]\ttrain-auc:0.81826\teval-auc:0.71365\n",
      "[483]\ttrain-auc:0.81834\teval-auc:0.71366\n",
      "[484]\ttrain-auc:0.81840\teval-auc:0.71365\n",
      "[485]\ttrain-auc:0.81859\teval-auc:0.71367\n",
      "[486]\ttrain-auc:0.81865\teval-auc:0.71370\n",
      "[487]\ttrain-auc:0.81875\teval-auc:0.71370\n",
      "[488]\ttrain-auc:0.81880\teval-auc:0.71369\n",
      "[489]\ttrain-auc:0.81901\teval-auc:0.71367\n",
      "[490]\ttrain-auc:0.81915\teval-auc:0.71369\n",
      "[491]\ttrain-auc:0.81931\teval-auc:0.71369\n",
      "[492]\ttrain-auc:0.81954\teval-auc:0.71372\n",
      "[493]\ttrain-auc:0.81971\teval-auc:0.71366\n",
      "[494]\ttrain-auc:0.81979\teval-auc:0.71367\n",
      "[495]\ttrain-auc:0.81988\teval-auc:0.71361\n",
      "[496]\ttrain-auc:0.81994\teval-auc:0.71362\n",
      "[497]\ttrain-auc:0.82017\teval-auc:0.71360\n",
      "[498]\ttrain-auc:0.82024\teval-auc:0.71363\n",
      "[499]\ttrain-auc:0.82040\teval-auc:0.71366\n",
      "[500]\ttrain-auc:0.82051\teval-auc:0.71362\n",
      "[501]\ttrain-auc:0.82070\teval-auc:0.71364\n",
      "[502]\ttrain-auc:0.82088\teval-auc:0.71366\n",
      "[503]\ttrain-auc:0.82109\teval-auc:0.71361\n",
      "[504]\ttrain-auc:0.82122\teval-auc:0.71362\n",
      "[505]\ttrain-auc:0.82144\teval-auc:0.71362\n",
      "[506]\ttrain-auc:0.82164\teval-auc:0.71363\n",
      "[507]\ttrain-auc:0.82186\teval-auc:0.71374\n",
      "[508]\ttrain-auc:0.82206\teval-auc:0.71373\n",
      "[509]\ttrain-auc:0.82216\teval-auc:0.71374\n",
      "[510]\ttrain-auc:0.82238\teval-auc:0.71377\n",
      "[511]\ttrain-auc:0.82262\teval-auc:0.71375\n",
      "[512]\ttrain-auc:0.82267\teval-auc:0.71376\n",
      "[513]\ttrain-auc:0.82281\teval-auc:0.71380\n",
      "[514]\ttrain-auc:0.82289\teval-auc:0.71380\n",
      "[515]\ttrain-auc:0.82315\teval-auc:0.71375\n",
      "[516]\ttrain-auc:0.82332\teval-auc:0.71375\n",
      "[517]\ttrain-auc:0.82350\teval-auc:0.71370\n",
      "[518]\ttrain-auc:0.82360\teval-auc:0.71369\n",
      "[519]\ttrain-auc:0.82372\teval-auc:0.71368\n",
      "[520]\ttrain-auc:0.82386\teval-auc:0.71368\n",
      "[521]\ttrain-auc:0.82413\teval-auc:0.71363\n",
      "[522]\ttrain-auc:0.82434\teval-auc:0.71364\n",
      "[523]\ttrain-auc:0.82447\teval-auc:0.71363\n",
      "[524]\ttrain-auc:0.82460\teval-auc:0.71365\n",
      "[525]\ttrain-auc:0.82472\teval-auc:0.71365\n",
      "[526]\ttrain-auc:0.82490\teval-auc:0.71364\n",
      "[527]\ttrain-auc:0.82499\teval-auc:0.71363\n",
      "[528]\ttrain-auc:0.82522\teval-auc:0.71357\n",
      "[529]\ttrain-auc:0.82545\teval-auc:0.71360\n",
      "[530]\ttrain-auc:0.82552\teval-auc:0.71360\n",
      "[531]\ttrain-auc:0.82578\teval-auc:0.71359\n",
      "[532]\ttrain-auc:0.82596\teval-auc:0.71360\n",
      "[533]\ttrain-auc:0.82628\teval-auc:0.71361\n",
      "[534]\ttrain-auc:0.82644\teval-auc:0.71364\n",
      "[535]\ttrain-auc:0.82659\teval-auc:0.71363\n",
      "[536]\ttrain-auc:0.82669\teval-auc:0.71365\n",
      "[537]\ttrain-auc:0.82684\teval-auc:0.71362\n",
      "[538]\ttrain-auc:0.82694\teval-auc:0.71360\n",
      "[539]\ttrain-auc:0.82706\teval-auc:0.71361\n",
      "[540]\ttrain-auc:0.82721\teval-auc:0.71361\n",
      "[541]\ttrain-auc:0.82725\teval-auc:0.71361\n",
      "[542]\ttrain-auc:0.82738\teval-auc:0.71358\n",
      "[543]\ttrain-auc:0.82753\teval-auc:0.71361\n",
      "[544]\ttrain-auc:0.82778\teval-auc:0.71361\n",
      "[545]\ttrain-auc:0.82792\teval-auc:0.71361\n",
      "[546]\ttrain-auc:0.82805\teval-auc:0.71362\n",
      "[547]\ttrain-auc:0.82809\teval-auc:0.71358\n",
      "[548]\ttrain-auc:0.82823\teval-auc:0.71361\n",
      "[549]\ttrain-auc:0.82844\teval-auc:0.71362\n",
      "[550]\ttrain-auc:0.82851\teval-auc:0.71364\n",
      "[551]\ttrain-auc:0.82861\teval-auc:0.71365\n",
      "[552]\ttrain-auc:0.82875\teval-auc:0.71361\n",
      "[553]\ttrain-auc:0.82902\teval-auc:0.71358\n",
      "[554]\ttrain-auc:0.82917\teval-auc:0.71356\n",
      "[555]\ttrain-auc:0.82921\teval-auc:0.71353\n",
      "[556]\ttrain-auc:0.82929\teval-auc:0.71353\n",
      "[557]\ttrain-auc:0.82941\teval-auc:0.71355\n",
      "[558]\ttrain-auc:0.82955\teval-auc:0.71350\n",
      "[559]\ttrain-auc:0.82975\teval-auc:0.71349\n",
      "[560]\ttrain-auc:0.82988\teval-auc:0.71346\n",
      "[561]\ttrain-auc:0.83004\teval-auc:0.71344\n",
      "[562]\ttrain-auc:0.83026\teval-auc:0.71334\n",
      "[563]\ttrain-auc:0.83040\teval-auc:0.71332\n"
     ]
    }
   ],
   "source": [
    "watchlist = [(dtrain, 'train'), (dvalid, 'eval')]\n",
    "num_boost_round = 1500\n",
    "gbm = xgb.train(params, dtrain, num_boost_round, evals=watchlist,\\\n",
    "  early_stopping_rounds= 50)"
   ]
  },
  {
   "cell_type": "code",
   "execution_count": 102,
   "metadata": {},
   "outputs": [],
   "source": [
    "from sklearn.metrics import roc_curve, auc\n",
    "from sklearn import linear_model, datasets\n",
    "import pylab as pl\n",
    "def draw_ROC(model, dtrain, dvalid, dtest, y_train, y_valid, y_test ):\n",
    "    probas_ = model.predict(dvalid, ntree_limit=model.best_ntree_limit)\n",
    "    probas_1 = model.predict(dtrain, ntree_limit=model.best_ntree_limit)\n",
    "    probas_2 = model.predict(dtest, ntree_limit=model.best_ntree_limit)\n",
    "    fpr, tpr, thresholds = roc_curve(y_valid, probas_)\n",
    "    fpr_1, tpr_1, thresholds_1 = roc_curve(y_train, probas_1)\n",
    "    fpr_2, tpr_2, thresholds_2 = roc_curve(y_test, probas_2)\n",
    "    roc_auc = auc(fpr, tpr)\n",
    "    roc_auc_1 = auc(fpr_1, tpr_1)\n",
    "    roc_auc_2 = auc(fpr_2, tpr_2)\n",
    "    print (\"Area under the ROC curve - validation: %f\" % roc_auc)\n",
    "    print (\"Area under the ROC curve - train: %f\" % roc_auc_1)\n",
    "    print (\"Area under the ROC curve - test: %f\" % roc_auc_2)\n",
    "    # Plot ROC curve\n",
    "    plt.figure(figsize=(8,8))\n",
    "    plt.plot(fpr, tpr, label='ROC curve - valid(AUC = %0.2f)' % roc_auc, color='r')\n",
    "    plt.plot(fpr_1, tpr_1, label='ROC curve - train (AUC = %0.2f)' % roc_auc_1, color='b')\n",
    "    plt.plot(fpr_2, tpr_2, label='ROC curve - test (AUC = %0.2f)' % roc_auc_2, color='g')\n",
    "    plt.plot([0, 1], [0, 1], 'k--')\n",
    "    plt.xlim([0.0, 1.0])\n",
    "    plt.ylim([0.0, 1.0])\n",
    "    plt.xlabel('False Positive Rate')\n",
    "    plt.ylabel('True Positive Rate')\n",
    "    plt.title('ROC for lead score model')\n",
    "    plt.legend(loc=\"lower right\")\n",
    "    plt.show()\n"
   ]
  },
  {
   "cell_type": "markdown",
   "metadata": {},
   "source": [
    "### ROC curve"
   ]
  },
  {
   "cell_type": "code",
   "execution_count": 103,
   "metadata": {
    "scrolled": true
   },
   "outputs": [
    {
     "name": "stderr",
     "output_type": "stream",
     "text": [
      "D:\\anaconda3\\lib\\site-packages\\xgboost\\core.py:122: UserWarning: ntree_limit is deprecated, use `iteration_range` or model slicing instead.\n",
      "  warnings.warn(\n"
     ]
    },
    {
     "name": "stdout",
     "output_type": "stream",
     "text": [
      "Area under the ROC curve - validation: 0.713800\n",
      "Area under the ROC curve - train: 0.822893\n",
      "Area under the ROC curve - test: 0.716648\n"
     ]
    },
    {
     "data": {
      "image/png": "[encoded data removed]",
      "text/plain": [
       "<Figure size 576x576 with 1 Axes>"
      ]
     },
     "metadata": {
      "needs_background": "light"
     },
     "output_type": "display_data"
    }
   ],
   "source": [
    "draw_ROC(gbm, dtrain, dvalid, dtest, y_train, y_valid, y_test)"
   ]
  },
  {
   "cell_type": "markdown",
   "metadata": {},
   "source": [
    "### Distribution of predicted values"
   ]
  },
  {
   "cell_type": "code",
   "execution_count": 104,
   "metadata": {},
   "outputs": [],
   "source": [
    "y_pred = gbm.predict(dtest)"
   ]
  },
  {
   "cell_type": "code",
   "execution_count": 105,
   "metadata": {},
   "outputs": [
    {
     "data": {
      "text/html": [
       "<div>\n",
       "<style scoped>\n",
       "    .dataframe tbody tr th:only-of-type {\n",
       "        vertical-align: middle;\n",
       "    }\n",
       "\n",
       "    .dataframe tbody tr th {\n",
       "        vertical-align: top;\n",
       "    }\n",
       "\n",
       "    .dataframe thead th {\n",
       "        text-align: right;\n",
       "    }\n",
       "</style>\n",
       "<table border=\"1\" class=\"dataframe\">\n",
       "  <thead>\n",
       "    <tr style=\"text-align: right;\">\n",
       "      <th></th>\n",
       "      <th>secappopenactil</th>\n",
       "      <th>bcopentobuy</th>\n",
       "      <th>numactvbctl</th>\n",
       "      <th>mthssincelastrecord</th>\n",
       "      <th>totcurbal</th>\n",
       "      <th>secappnumrevaccts</th>\n",
       "      <th>secappmthssincelastmajorderog</th>\n",
       "      <th>secappcollections12mthsexmed</th>\n",
       "      <th>mosinrcnttl</th>\n",
       "      <th>openrv12m</th>\n",
       "      <th>...</th>\n",
       "      <th>purpose_medical</th>\n",
       "      <th>purpose_moving</th>\n",
       "      <th>purpose_other</th>\n",
       "      <th>purpose_renewable_energy</th>\n",
       "      <th>purpose_small_business</th>\n",
       "      <th>purpose_vacation</th>\n",
       "      <th>applicationtype_Individual</th>\n",
       "      <th>applicationtype_Joint App</th>\n",
       "      <th>initialliststatus_f</th>\n",
       "      <th>initialliststatus_w</th>\n",
       "    </tr>\n",
       "  </thead>\n",
       "  <tbody>\n",
       "    <tr>\n",
       "      <th>206409</th>\n",
       "      <td>NaN</td>\n",
       "      <td>90826.0</td>\n",
       "      <td>7.0</td>\n",
       "      <td>NaN</td>\n",
       "      <td>708464.0</td>\n",
       "      <td>NaN</td>\n",
       "      <td>NaN</td>\n",
       "      <td>NaN</td>\n",
       "      <td>5.0</td>\n",
       "      <td>2.0</td>\n",
       "      <td>...</td>\n",
       "      <td>0</td>\n",
       "      <td>0</td>\n",
       "      <td>1</td>\n",
       "      <td>0</td>\n",
       "      <td>0</td>\n",
       "      <td>0</td>\n",
       "      <td>1</td>\n",
       "      <td>0</td>\n",
       "      <td>0</td>\n",
       "      <td>1</td>\n",
       "    </tr>\n",
       "    <tr>\n",
       "      <th>206410</th>\n",
       "      <td>NaN</td>\n",
       "      <td>270.0</td>\n",
       "      <td>2.0</td>\n",
       "      <td>79.0</td>\n",
       "      <td>154139.0</td>\n",
       "      <td>NaN</td>\n",
       "      <td>NaN</td>\n",
       "      <td>NaN</td>\n",
       "      <td>15.0</td>\n",
       "      <td>0.0</td>\n",
       "      <td>...</td>\n",
       "      <td>0</td>\n",
       "      <td>0</td>\n",
       "      <td>1</td>\n",
       "      <td>0</td>\n",
       "      <td>0</td>\n",
       "      <td>0</td>\n",
       "      <td>1</td>\n",
       "      <td>0</td>\n",
       "      <td>0</td>\n",
       "      <td>1</td>\n",
       "    </tr>\n",
       "    <tr>\n",
       "      <th>206411</th>\n",
       "      <td>NaN</td>\n",
       "      <td>2039.0</td>\n",
       "      <td>2.0</td>\n",
       "      <td>NaN</td>\n",
       "      <td>66150.0</td>\n",
       "      <td>NaN</td>\n",
       "      <td>NaN</td>\n",
       "      <td>NaN</td>\n",
       "      <td>17.0</td>\n",
       "      <td>0.0</td>\n",
       "      <td>...</td>\n",
       "      <td>0</td>\n",
       "      <td>0</td>\n",
       "      <td>0</td>\n",
       "      <td>0</td>\n",
       "      <td>0</td>\n",
       "      <td>0</td>\n",
       "      <td>1</td>\n",
       "      <td>0</td>\n",
       "      <td>0</td>\n",
       "      <td>1</td>\n",
       "    </tr>\n",
       "    <tr>\n",
       "      <th>206412</th>\n",
       "      <td>NaN</td>\n",
       "      <td>14570.0</td>\n",
       "      <td>4.0</td>\n",
       "      <td>NaN</td>\n",
       "      <td>45713.0</td>\n",
       "      <td>NaN</td>\n",
       "      <td>NaN</td>\n",
       "      <td>NaN</td>\n",
       "      <td>9.0</td>\n",
       "      <td>3.0</td>\n",
       "      <td>...</td>\n",
       "      <td>0</td>\n",
       "      <td>0</td>\n",
       "      <td>0</td>\n",
       "      <td>0</td>\n",
       "      <td>0</td>\n",
       "      <td>0</td>\n",
       "      <td>1</td>\n",
       "      <td>0</td>\n",
       "      <td>0</td>\n",
       "      <td>1</td>\n",
       "    </tr>\n",
       "    <tr>\n",
       "      <th>206413</th>\n",
       "      <td>NaN</td>\n",
       "      <td>135.0</td>\n",
       "      <td>2.0</td>\n",
       "      <td>NaN</td>\n",
       "      <td>45523.0</td>\n",
       "      <td>NaN</td>\n",
       "      <td>NaN</td>\n",
       "      <td>NaN</td>\n",
       "      <td>6.0</td>\n",
       "      <td>1.0</td>\n",
       "      <td>...</td>\n",
       "      <td>0</td>\n",
       "      <td>0</td>\n",
       "      <td>0</td>\n",
       "      <td>0</td>\n",
       "      <td>0</td>\n",
       "      <td>0</td>\n",
       "      <td>1</td>\n",
       "      <td>0</td>\n",
       "      <td>0</td>\n",
       "      <td>1</td>\n",
       "    </tr>\n",
       "    <tr>\n",
       "      <th>...</th>\n",
       "      <td>...</td>\n",
       "      <td>...</td>\n",
       "      <td>...</td>\n",
       "      <td>...</td>\n",
       "      <td>...</td>\n",
       "      <td>...</td>\n",
       "      <td>...</td>\n",
       "      <td>...</td>\n",
       "      <td>...</td>\n",
       "      <td>...</td>\n",
       "      <td>...</td>\n",
       "      <td>...</td>\n",
       "      <td>...</td>\n",
       "      <td>...</td>\n",
       "      <td>...</td>\n",
       "      <td>...</td>\n",
       "      <td>...</td>\n",
       "      <td>...</td>\n",
       "      <td>...</td>\n",
       "      <td>...</td>\n",
       "      <td>...</td>\n",
       "    </tr>\n",
       "    <tr>\n",
       "      <th>257771</th>\n",
       "      <td>NaN</td>\n",
       "      <td>3825.0</td>\n",
       "      <td>8.0</td>\n",
       "      <td>60.0</td>\n",
       "      <td>240380.0</td>\n",
       "      <td>NaN</td>\n",
       "      <td>NaN</td>\n",
       "      <td>NaN</td>\n",
       "      <td>3.0</td>\n",
       "      <td>8.0</td>\n",
       "      <td>...</td>\n",
       "      <td>0</td>\n",
       "      <td>0</td>\n",
       "      <td>0</td>\n",
       "      <td>0</td>\n",
       "      <td>0</td>\n",
       "      <td>0</td>\n",
       "      <td>1</td>\n",
       "      <td>0</td>\n",
       "      <td>1</td>\n",
       "      <td>0</td>\n",
       "    </tr>\n",
       "    <tr>\n",
       "      <th>257772</th>\n",
       "      <td>NaN</td>\n",
       "      <td>5412.0</td>\n",
       "      <td>3.0</td>\n",
       "      <td>NaN</td>\n",
       "      <td>225104.0</td>\n",
       "      <td>NaN</td>\n",
       "      <td>NaN</td>\n",
       "      <td>NaN</td>\n",
       "      <td>6.0</td>\n",
       "      <td>1.0</td>\n",
       "      <td>...</td>\n",
       "      <td>0</td>\n",
       "      <td>0</td>\n",
       "      <td>0</td>\n",
       "      <td>0</td>\n",
       "      <td>0</td>\n",
       "      <td>0</td>\n",
       "      <td>1</td>\n",
       "      <td>0</td>\n",
       "      <td>1</td>\n",
       "      <td>0</td>\n",
       "    </tr>\n",
       "    <tr>\n",
       "      <th>257773</th>\n",
       "      <td>NaN</td>\n",
       "      <td>5600.0</td>\n",
       "      <td>3.0</td>\n",
       "      <td>NaN</td>\n",
       "      <td>206784.0</td>\n",
       "      <td>NaN</td>\n",
       "      <td>NaN</td>\n",
       "      <td>NaN</td>\n",
       "      <td>7.0</td>\n",
       "      <td>0.0</td>\n",
       "      <td>...</td>\n",
       "      <td>0</td>\n",
       "      <td>0</td>\n",
       "      <td>0</td>\n",
       "      <td>0</td>\n",
       "      <td>0</td>\n",
       "      <td>0</td>\n",
       "      <td>1</td>\n",
       "      <td>0</td>\n",
       "      <td>0</td>\n",
       "      <td>1</td>\n",
       "    </tr>\n",
       "    <tr>\n",
       "      <th>257774</th>\n",
       "      <td>NaN</td>\n",
       "      <td>9196.0</td>\n",
       "      <td>5.0</td>\n",
       "      <td>93.0</td>\n",
       "      <td>91745.0</td>\n",
       "      <td>NaN</td>\n",
       "      <td>NaN</td>\n",
       "      <td>NaN</td>\n",
       "      <td>17.0</td>\n",
       "      <td>0.0</td>\n",
       "      <td>...</td>\n",
       "      <td>0</td>\n",
       "      <td>0</td>\n",
       "      <td>0</td>\n",
       "      <td>0</td>\n",
       "      <td>0</td>\n",
       "      <td>0</td>\n",
       "      <td>1</td>\n",
       "      <td>0</td>\n",
       "      <td>0</td>\n",
       "      <td>1</td>\n",
       "    </tr>\n",
       "    <tr>\n",
       "      <th>257775</th>\n",
       "      <td>2.0</td>\n",
       "      <td>36776.0</td>\n",
       "      <td>5.0</td>\n",
       "      <td>NaN</td>\n",
       "      <td>477195.0</td>\n",
       "      <td>25.0</td>\n",
       "      <td>NaN</td>\n",
       "      <td>0.0</td>\n",
       "      <td>1.0</td>\n",
       "      <td>9.0</td>\n",
       "      <td>...</td>\n",
       "      <td>0</td>\n",
       "      <td>0</td>\n",
       "      <td>0</td>\n",
       "      <td>0</td>\n",
       "      <td>0</td>\n",
       "      <td>0</td>\n",
       "      <td>0</td>\n",
       "      <td>1</td>\n",
       "      <td>0</td>\n",
       "      <td>1</td>\n",
       "    </tr>\n",
       "  </tbody>\n",
       "</table>\n",
       "<p>51367 rows × 124 columns</p>\n",
       "</div>"
      ],
      "text/plain": [
       "        secappopenactil  bcopentobuy  numactvbctl  mthssincelastrecord  \\\n",
       "206409              NaN      90826.0          7.0                  NaN   \n",
       "206410              NaN        270.0          2.0                 79.0   \n",
       "206411              NaN       2039.0          2.0                  NaN   \n",
       "206412              NaN      14570.0          4.0                  NaN   \n",
       "206413              NaN        135.0          2.0                  NaN   \n",
       "...                 ...          ...          ...                  ...   \n",
       "257771              NaN       3825.0          8.0                 60.0   \n",
       "257772              NaN       5412.0          3.0                  NaN   \n",
       "257773              NaN       5600.0          3.0                  NaN   \n",
       "257774              NaN       9196.0          5.0                 93.0   \n",
       "257775              2.0      36776.0          5.0                  NaN   \n",
       "\n",
       "        totcurbal  secappnumrevaccts  secappmthssincelastmajorderog  \\\n",
       "206409   708464.0                NaN                            NaN   \n",
       "206410   154139.0                NaN                            NaN   \n",
       "206411    66150.0                NaN                            NaN   \n",
       "206412    45713.0                NaN                            NaN   \n",
       "206413    45523.0                NaN                            NaN   \n",
       "...           ...                ...                            ...   \n",
       "257771   240380.0                NaN                            NaN   \n",
       "257772   225104.0                NaN                            NaN   \n",
       "257773   206784.0                NaN                            NaN   \n",
       "257774    91745.0                NaN                            NaN   \n",
       "257775   477195.0               25.0                            NaN   \n",
       "\n",
       "        secappcollections12mthsexmed  mosinrcnttl  openrv12m  ...  \\\n",
       "206409                           NaN          5.0        2.0  ...   \n",
       "206410                           NaN         15.0        0.0  ...   \n",
       "206411                           NaN         17.0        0.0  ...   \n",
       "206412                           NaN          9.0        3.0  ...   \n",
       "206413                           NaN          6.0        1.0  ...   \n",
       "...                              ...          ...        ...  ...   \n",
       "257771                           NaN          3.0        8.0  ...   \n",
       "257772                           NaN          6.0        1.0  ...   \n",
       "257773                           NaN          7.0        0.0  ...   \n",
       "257774                           NaN         17.0        0.0  ...   \n",
       "257775                           0.0          1.0        9.0  ...   \n",
       "\n",
       "        purpose_medical  purpose_moving  purpose_other  \\\n",
       "206409                0               0              1   \n",
       "206410                0               0              1   \n",
       "206411                0               0              0   \n",
       "206412                0               0              0   \n",
       "206413                0               0              0   \n",
       "...                 ...             ...            ...   \n",
       "257771                0               0              0   \n",
       "257772                0               0              0   \n",
       "257773                0               0              0   \n",
       "257774                0               0              0   \n",
       "257775                0               0              0   \n",
       "\n",
       "        purpose_renewable_energy  purpose_small_business  purpose_vacation  \\\n",
       "206409                         0                       0                 0   \n",
       "206410                         0                       0                 0   \n",
       "206411                         0                       0                 0   \n",
       "206412                         0                       0                 0   \n",
       "206413                         0                       0                 0   \n",
       "...                          ...                     ...               ...   \n",
       "257771                         0                       0                 0   \n",
       "257772                         0                       0                 0   \n",
       "257773                         0                       0                 0   \n",
       "257774                         0                       0                 0   \n",
       "257775                         0                       0                 0   \n",
       "\n",
       "        applicationtype_Individual  applicationtype_Joint App  \\\n",
       "206409                           1                          0   \n",
       "206410                           1                          0   \n",
       "206411                           1                          0   \n",
       "206412                           1                          0   \n",
       "206413                           1                          0   \n",
       "...                            ...                        ...   \n",
       "257771                           1                          0   \n",
       "257772                           1                          0   \n",
       "257773                           1                          0   \n",
       "257774                           1                          0   \n",
       "257775                           0                          1   \n",
       "\n",
       "        initialliststatus_f  initialliststatus_w  \n",
       "206409                    0                    1  \n",
       "206410                    0                    1  \n",
       "206411                    0                    1  \n",
       "206412                    0                    1  \n",
       "206413                    0                    1  \n",
       "...                     ...                  ...  \n",
       "257771                    1                    0  \n",
       "257772                    1                    0  \n",
       "257773                    0                    1  \n",
       "257774                    0                    1  \n",
       "257775                    0                    1  \n",
       "\n",
       "[51367 rows x 124 columns]"
      ]
     },
     "execution_count": 105,
     "metadata": {},
     "output_type": "execute_result"
    }
   ],
   "source": [
    "X_test"
   ]
  },
  {
   "cell_type": "code",
   "execution_count": 106,
   "metadata": {},
   "outputs": [
    {
     "data": {
      "text/plain": [
       "206409    0\n",
       "206410    0\n",
       "206411    0\n",
       "206412    0\n",
       "206413    0\n",
       "         ..\n",
       "257771    1\n",
       "257772    1\n",
       "257773    0\n",
       "257774    0\n",
       "257775    0\n",
       "Name: loanstatus, Length: 51367, dtype: int64"
      ]
     },
     "execution_count": 106,
     "metadata": {},
     "output_type": "execute_result"
    }
   ],
   "source": [
    "y_test"
   ]
  },
  {
   "cell_type": "code",
   "execution_count": 107,
   "metadata": {},
   "outputs": [
    {
     "name": "stdout",
     "output_type": "stream",
     "text": [
      "0.8607946 0.0014641351 0.15927063\n"
     ]
    }
   ],
   "source": [
    "print (y_pred.max(), y_pred.min(), y_pred.mean())"
   ]
  },
  {
   "cell_type": "code",
   "execution_count": null,
   "metadata": {},
   "outputs": [],
   "source": []
  },
  {
   "cell_type": "code",
   "execution_count": 108,
   "metadata": {},
   "outputs": [
    {
     "name": "stdout",
     "output_type": "stream",
     "text": [
      "0.19105651488309616\n"
     ]
    }
   ],
   "source": [
    "print (y_test.mean())"
   ]
  },
  {
   "cell_type": "code",
   "execution_count": 109,
   "metadata": {},
   "outputs": [
    {
     "name": "stdout",
     "output_type": "stream",
     "text": [
      "0.1621056711376881\n"
     ]
    }
   ],
   "source": [
    "print(y_train.mean())"
   ]
  },
  {
   "cell_type": "markdown",
   "metadata": {},
   "source": [
    "### Feature importance"
   ]
  },
  {
   "cell_type": "code",
   "execution_count": 110,
   "metadata": {},
   "outputs": [],
   "source": [
    "importance=gbm.get_fscore()"
   ]
  },
  {
   "cell_type": "code",
   "execution_count": 111,
   "metadata": {},
   "outputs": [],
   "source": [
    "df_importance = pd.DataFrame(importance.items(), columns=['feature', 'fscore'])\n",
    "df_importance['fscore'] = df_importance['fscore'] / df_importance['fscore'].sum()"
   ]
  },
  {
   "cell_type": "code",
   "execution_count": 112,
   "metadata": {
    "scrolled": false
   },
   "outputs": [
    {
     "data": {
      "text/html": [
       "<div>\n",
       "<style scoped>\n",
       "    .dataframe tbody tr th:only-of-type {\n",
       "        vertical-align: middle;\n",
       "    }\n",
       "\n",
       "    .dataframe tbody tr th {\n",
       "        vertical-align: top;\n",
       "    }\n",
       "\n",
       "    .dataframe thead th {\n",
       "        text-align: right;\n",
       "    }\n",
       "</style>\n",
       "<table border=\"1\" class=\"dataframe\">\n",
       "  <thead>\n",
       "    <tr style=\"text-align: right;\">\n",
       "      <th></th>\n",
       "      <th>feature</th>\n",
       "      <th>fscore</th>\n",
       "    </tr>\n",
       "  </thead>\n",
       "  <tbody>\n",
       "    <tr>\n",
       "      <th>38</th>\n",
       "      <td>dti</td>\n",
       "      <td>0.032651</td>\n",
       "    </tr>\n",
       "    <tr>\n",
       "      <th>42</th>\n",
       "      <td>mosinoldilacct</td>\n",
       "      <td>0.029887</td>\n",
       "    </tr>\n",
       "    <tr>\n",
       "      <th>30</th>\n",
       "      <td>installment</td>\n",
       "      <td>0.028505</td>\n",
       "    </tr>\n",
       "    <tr>\n",
       "      <th>1</th>\n",
       "      <td>bcopentobuy</td>\n",
       "      <td>0.026259</td>\n",
       "    </tr>\n",
       "    <tr>\n",
       "      <th>94</th>\n",
       "      <td>emptitle_freq</td>\n",
       "      <td>0.026000</td>\n",
       "    </tr>\n",
       "    <tr>\n",
       "      <th>...</th>\n",
       "      <td>...</td>\n",
       "      <td>...</td>\n",
       "    </tr>\n",
       "    <tr>\n",
       "      <th>7</th>\n",
       "      <td>secappcollections12mthsexmed</td>\n",
       "      <td>0.000173</td>\n",
       "    </tr>\n",
       "    <tr>\n",
       "      <th>50</th>\n",
       "      <td>secappchargeoffwithin12mths</td>\n",
       "      <td>0.000086</td>\n",
       "    </tr>\n",
       "    <tr>\n",
       "      <th>68</th>\n",
       "      <td>accnowdelinq</td>\n",
       "      <td>0.000043</td>\n",
       "    </tr>\n",
       "    <tr>\n",
       "      <th>96</th>\n",
       "      <td>homeownership_ANY</td>\n",
       "      <td>0.000043</td>\n",
       "    </tr>\n",
       "    <tr>\n",
       "      <th>45</th>\n",
       "      <td>numtl30dpd</td>\n",
       "      <td>0.000043</td>\n",
       "    </tr>\n",
       "  </tbody>\n",
       "</table>\n",
       "<p>119 rows × 2 columns</p>\n",
       "</div>"
      ],
      "text/plain": [
       "                         feature    fscore\n",
       "38                           dti  0.032651\n",
       "42                mosinoldilacct  0.029887\n",
       "30                   installment  0.028505\n",
       "1                    bcopentobuy  0.026259\n",
       "94                 emptitle_freq  0.026000\n",
       "..                           ...       ...\n",
       "7   secappcollections12mthsexmed  0.000173\n",
       "50   secappchargeoffwithin12mths  0.000086\n",
       "68                  accnowdelinq  0.000043\n",
       "96             homeownership_ANY  0.000043\n",
       "45                    numtl30dpd  0.000043\n",
       "\n",
       "[119 rows x 2 columns]"
      ]
     },
     "execution_count": 112,
     "metadata": {},
     "output_type": "execute_result"
    }
   ],
   "source": [
    "df_importance.sort_values(['fscore'], ascending=False, inplace=True)\n",
    "df_importance"
   ]
  },
  {
   "cell_type": "code",
   "execution_count": 113,
   "metadata": {
    "scrolled": true
   },
   "outputs": [
    {
     "data": {
      "text/plain": [
       "<Figure size 2304x2304 with 0 Axes>"
      ]
     },
     "metadata": {},
     "output_type": "display_data"
    },
    {
     "data": {
      "image/png": "[encoded data removed]",
      "text/plain": [
       "<Figure size 432x720 with 1 Axes>"
      ]
     },
     "metadata": {
      "needs_background": "light"
     },
     "output_type": "display_data"
    }
   ],
   "source": [
    "plt.figure(figsize=(32, 32))\n",
    "# df_importance.plot()\n",
    "df_importance[:20].plot(kind='barh', x='feature', y='fscore', legend=False, figsize=(6, 10))\n",
    "plt.title('XGBoost Feature Importance')\n",
    "plt.xlabel('relative importance')\n",
    "plt.gcf().savefig('feature_importance_xgb.png')"
   ]
  },
  {
   "cell_type": "code",
   "execution_count": 114,
   "metadata": {},
   "outputs": [
    {
     "data": {
      "text/html": [
       "<div>\n",
       "<style scoped>\n",
       "    .dataframe tbody tr th:only-of-type {\n",
       "        vertical-align: middle;\n",
       "    }\n",
       "\n",
       "    .dataframe tbody tr th {\n",
       "        vertical-align: top;\n",
       "    }\n",
       "\n",
       "    .dataframe thead th {\n",
       "        text-align: right;\n",
       "    }\n",
       "</style>\n",
       "<table border=\"1\" class=\"dataframe\">\n",
       "  <thead>\n",
       "    <tr style=\"text-align: right;\">\n",
       "      <th></th>\n",
       "      <th>feature</th>\n",
       "      <th>fscore</th>\n",
       "    </tr>\n",
       "  </thead>\n",
       "  <tbody>\n",
       "    <tr>\n",
       "      <th>90</th>\n",
       "      <td>grade</td>\n",
       "      <td>0.001641</td>\n",
       "    </tr>\n",
       "  </tbody>\n",
       "</table>\n",
       "</div>"
      ],
      "text/plain": [
       "   feature    fscore\n",
       "90   grade  0.001641"
      ]
     },
     "execution_count": 114,
     "metadata": {},
     "output_type": "execute_result"
    }
   ],
   "source": [
    "grade_importance = df_importance.query(\"feature=='grade'\")\n",
    "grade_importance"
   ]
  },
  {
   "cell_type": "code",
   "execution_count": 115,
   "metadata": {},
   "outputs": [
    {
     "data": {
      "text/html": [
       "<div>\n",
       "<style scoped>\n",
       "    .dataframe tbody tr th:only-of-type {\n",
       "        vertical-align: middle;\n",
       "    }\n",
       "\n",
       "    .dataframe tbody tr th {\n",
       "        vertical-align: top;\n",
       "    }\n",
       "\n",
       "    .dataframe thead th {\n",
       "        text-align: right;\n",
       "    }\n",
       "</style>\n",
       "<table border=\"1\" class=\"dataframe\">\n",
       "  <thead>\n",
       "    <tr style=\"text-align: right;\">\n",
       "      <th></th>\n",
       "      <th>feature</th>\n",
       "      <th>fscore</th>\n",
       "    </tr>\n",
       "  </thead>\n",
       "  <tbody>\n",
       "    <tr>\n",
       "      <th>91</th>\n",
       "      <td>subgrade</td>\n",
       "      <td>0.007169</td>\n",
       "    </tr>\n",
       "  </tbody>\n",
       "</table>\n",
       "</div>"
      ],
      "text/plain": [
       "     feature    fscore\n",
       "91  subgrade  0.007169"
      ]
     },
     "execution_count": 115,
     "metadata": {},
     "output_type": "execute_result"
    }
   ],
   "source": [
    "subgrade_importance = df_importance.query(\"feature=='subgrade'\")\n",
    "subgrade_importance"
   ]
  },
  {
   "cell_type": "code",
   "execution_count": 116,
   "metadata": {},
   "outputs": [
    {
     "data": {
      "text/html": [
       "<div>\n",
       "<style scoped>\n",
       "    .dataframe tbody tr th:only-of-type {\n",
       "        vertical-align: middle;\n",
       "    }\n",
       "\n",
       "    .dataframe tbody tr th {\n",
       "        vertical-align: top;\n",
       "    }\n",
       "\n",
       "    .dataframe thead th {\n",
       "        text-align: right;\n",
       "    }\n",
       "</style>\n",
       "<table border=\"1\" class=\"dataframe\">\n",
       "  <thead>\n",
       "    <tr style=\"text-align: right;\">\n",
       "      <th></th>\n",
       "      <th>feature</th>\n",
       "      <th>fscore</th>\n",
       "    </tr>\n",
       "  </thead>\n",
       "  <tbody>\n",
       "    <tr>\n",
       "      <th>88</th>\n",
       "      <td>intrate</td>\n",
       "      <td>0.022545</td>\n",
       "    </tr>\n",
       "  </tbody>\n",
       "</table>\n",
       "</div>"
      ],
      "text/plain": [
       "    feature    fscore\n",
       "88  intrate  0.022545"
      ]
     },
     "execution_count": 116,
     "metadata": {},
     "output_type": "execute_result"
    }
   ],
   "source": [
    "intrate_importance = df_importance.query(\"feature=='intrate'\")\n",
    "intrate_importance"
   ]
  },
  {
   "cell_type": "code",
   "execution_count": 117,
   "metadata": {},
   "outputs": [
    {
     "data": {
      "text/html": [
       "<div>\n",
       "<style scoped>\n",
       "    .dataframe tbody tr th:only-of-type {\n",
       "        vertical-align: middle;\n",
       "    }\n",
       "\n",
       "    .dataframe tbody tr th {\n",
       "        vertical-align: top;\n",
       "    }\n",
       "\n",
       "    .dataframe thead th {\n",
       "        text-align: right;\n",
       "    }\n",
       "</style>\n",
       "<table border=\"1\" class=\"dataframe\">\n",
       "  <thead>\n",
       "    <tr style=\"text-align: right;\">\n",
       "      <th></th>\n",
       "      <th>feature</th>\n",
       "      <th>fscore</th>\n",
       "    </tr>\n",
       "  </thead>\n",
       "  <tbody>\n",
       "    <tr>\n",
       "      <th>46</th>\n",
       "      <td>loanamnt</td>\n",
       "      <td>0.019003</td>\n",
       "    </tr>\n",
       "  </tbody>\n",
       "</table>\n",
       "</div>"
      ],
      "text/plain": [
       "     feature    fscore\n",
       "46  loanamnt  0.019003"
      ]
     },
     "execution_count": 117,
     "metadata": {},
     "output_type": "execute_result"
    }
   ],
   "source": [
    "df_importance.query(\"feature=='loanamnt'\")"
   ]
  },
  {
   "cell_type": "code",
   "execution_count": 118,
   "metadata": {},
   "outputs": [
    {
     "data": {
      "text/plain": [
       "Text(0.5, 0, 'relative importance')"
      ]
     },
     "execution_count": 118,
     "metadata": {},
     "output_type": "execute_result"
    },
    {
     "data": {
      "text/plain": [
       "<Figure size 2304x2304 with 0 Axes>"
      ]
     },
     "metadata": {},
     "output_type": "display_data"
    },
    {
     "data": {
      "image/png": "[encoded data removed]",
      "text/plain": [
       "<Figure size 432x720 with 1 Axes>"
      ]
     },
     "metadata": {
      "needs_background": "light"
     },
     "output_type": "display_data"
    }
   ],
   "source": [
    "plt.figure(figsize=(32, 32))\n",
    "# df_importance.plot()\n",
    "df_importance.plot(kind='barh', x='feature', y='fscore', legend=False, figsize=(6, 10))\n",
    "plt.title('XGBoost Feature Importance')\n",
    "plt.xlabel('relative importance')"
   ]
  },
  {
   "cell_type": "markdown",
   "metadata": {},
   "source": [
    "## Save model"
   ]
  },
  {
   "cell_type": "code",
   "execution_count": 126,
   "metadata": {},
   "outputs": [],
   "source": [
    "import pickle\n",
    "pickle.dump(gbm, open('model.pkl', \"wb\"))"
   ]
  },
  {
   "cell_type": "code",
   "execution_count": 127,
   "metadata": {},
   "outputs": [
    {
     "data": {
      "text/plain": [
       "['pima.joblib.dat']"
      ]
     },
     "execution_count": 127,
     "metadata": {},
     "output_type": "execute_result"
    }
   ],
   "source": [
    "import joblib\n",
    "joblib.dump(gbm, \"pima.joblib.dat\")"
   ]
  },
  {
   "cell_type": "markdown",
   "metadata": {
    "collapsed": true
   },
   "source": [
    "Todo:<br>\n",
    "Hyperparameter turning"
   ]
  },
  {
   "cell_type": "code",
   "execution_count": 145,
   "metadata": {},
   "outputs": [],
   "source": [
    "import os\n",
    "\n",
    "scores = {} # scores is an empty dict already\n",
    "\n",
    "if os.path.getsize('model.pkl') > 0:      \n",
    "    with open('model.pkl', \"rb\") as f:\n",
    "        unpickler = pickle.Unpickler(f)\n",
    "        # if file is not empty scores will be equal\n",
    "        # to the value unpickled\n",
    "        scores = unpickler.load()"
   ]
  },
  {
   "cell_type": "code",
   "execution_count": 146,
   "metadata": {},
   "outputs": [
    {
     "data": {
      "text/plain": [
       "<xgboost.core.Booster at 0x1c3959ab1c0>"
      ]
     },
     "execution_count": 146,
     "metadata": {},
     "output_type": "execute_result"
    }
   ],
   "source": [
    "scores"
   ]
  },
  {
   "cell_type": "code",
   "execution_count": 148,
   "metadata": {},
   "outputs": [
    {
     "data": {
      "text/plain": [
       "0.8607946"
      ]
     },
     "execution_count": 148,
     "metadata": {},
     "output_type": "execute_result"
    }
   ],
   "source": [
    "y_pred.max()"
   ]
  },
  {
   "cell_type": "code",
   "execution_count": null,
   "metadata": {},
   "outputs": [],
   "source": [
    "import pickle\n",
    "import pandas as pd\n",
    "\n",
    "# Load the saved model\n",
    "with open('model.pkl', 'rb') as file:\n",
    "    loaded_gbm = pickle.load(file)\n",
    "\n",
    "# Create a sample input DataFrame (make sure the columns match the input data used to train the model)\n",
    "sample_input = pd.DataFrame({\n",
    "    'column1': [value1],\n",
    "    'column2': [value2],\n",
    "    # ... (add more columns as needed)\n",
    "})\n",
    "\n",
    "# Use the loaded model to make predictions\n",
    "predictions = scores.predict(sample_input)\n",
    "\n",
    "# Print the predictions\n",
    "print(predictions)\n"
   ]
  },
  {
   "cell_type": "code",
   "execution_count": 155,
   "metadata": {},
   "outputs": [
    {
     "data": {
      "text/html": [
       "<div>\n",
       "<style scoped>\n",
       "    .dataframe tbody tr th:only-of-type {\n",
       "        vertical-align: middle;\n",
       "    }\n",
       "\n",
       "    .dataframe tbody tr th {\n",
       "        vertical-align: top;\n",
       "    }\n",
       "\n",
       "    .dataframe thead th {\n",
       "        text-align: right;\n",
       "    }\n",
       "</style>\n",
       "<table border=\"1\" class=\"dataframe\">\n",
       "  <thead>\n",
       "    <tr style=\"text-align: right;\">\n",
       "      <th></th>\n",
       "      <th>initialliststatus</th>\n",
       "      <th>grade</th>\n",
       "      <th>subgrade</th>\n",
       "      <th>verificationstatusjoint</th>\n",
       "      <th>earliestcrline</th>\n",
       "      <th>applicationtype</th>\n",
       "      <th>intrate</th>\n",
       "      <th>term</th>\n",
       "      <th>homeownership</th>\n",
       "      <th>addrstate</th>\n",
       "      <th>...</th>\n",
       "      <th>purpose_medical</th>\n",
       "      <th>purpose_moving</th>\n",
       "      <th>purpose_other</th>\n",
       "      <th>purpose_renewable_energy</th>\n",
       "      <th>purpose_small_business</th>\n",
       "      <th>purpose_vacation</th>\n",
       "      <th>applicationtype_Individual</th>\n",
       "      <th>applicationtype_Joint App</th>\n",
       "      <th>initialliststatus_f</th>\n",
       "      <th>initialliststatus_w</th>\n",
       "    </tr>\n",
       "  </thead>\n",
       "  <tbody>\n",
       "    <tr>\n",
       "      <th>0</th>\n",
       "      <td>w</td>\n",
       "      <td>2</td>\n",
       "      <td>8</td>\n",
       "      <td>NaN</td>\n",
       "      <td>Apr-1973</td>\n",
       "      <td>Individual</td>\n",
       "      <td>11.39</td>\n",
       "      <td>36 months</td>\n",
       "      <td>RENT</td>\n",
       "      <td>FL</td>\n",
       "      <td>...</td>\n",
       "      <td>0</td>\n",
       "      <td>0</td>\n",
       "      <td>0</td>\n",
       "      <td>0</td>\n",
       "      <td>0</td>\n",
       "      <td>0</td>\n",
       "      <td>1</td>\n",
       "      <td>0</td>\n",
       "      <td>0</td>\n",
       "      <td>1</td>\n",
       "    </tr>\n",
       "    <tr>\n",
       "      <th>1</th>\n",
       "      <td>f</td>\n",
       "      <td>1</td>\n",
       "      <td>1</td>\n",
       "      <td>NaN</td>\n",
       "      <td>Apr-2006</td>\n",
       "      <td>Individual</td>\n",
       "      <td>5.32</td>\n",
       "      <td>36 months</td>\n",
       "      <td>MORTGAGE</td>\n",
       "      <td>GA</td>\n",
       "      <td>...</td>\n",
       "      <td>0</td>\n",
       "      <td>0</td>\n",
       "      <td>0</td>\n",
       "      <td>0</td>\n",
       "      <td>0</td>\n",
       "      <td>0</td>\n",
       "      <td>1</td>\n",
       "      <td>0</td>\n",
       "      <td>1</td>\n",
       "      <td>0</td>\n",
       "    </tr>\n",
       "    <tr>\n",
       "      <th>2</th>\n",
       "      <td>f</td>\n",
       "      <td>1</td>\n",
       "      <td>4</td>\n",
       "      <td>NaN</td>\n",
       "      <td>Apr-2007</td>\n",
       "      <td>Individual</td>\n",
       "      <td>7.49</td>\n",
       "      <td>36 months</td>\n",
       "      <td>RENT</td>\n",
       "      <td>MA</td>\n",
       "      <td>...</td>\n",
       "      <td>0</td>\n",
       "      <td>0</td>\n",
       "      <td>0</td>\n",
       "      <td>0</td>\n",
       "      <td>0</td>\n",
       "      <td>0</td>\n",
       "      <td>1</td>\n",
       "      <td>0</td>\n",
       "      <td>1</td>\n",
       "      <td>0</td>\n",
       "    </tr>\n",
       "    <tr>\n",
       "      <th>3</th>\n",
       "      <td>f</td>\n",
       "      <td>1</td>\n",
       "      <td>5</td>\n",
       "      <td>NaN</td>\n",
       "      <td>Jan-2004</td>\n",
       "      <td>Individual</td>\n",
       "      <td>7.99</td>\n",
       "      <td>36 months</td>\n",
       "      <td>RENT</td>\n",
       "      <td>OH</td>\n",
       "      <td>...</td>\n",
       "      <td>0</td>\n",
       "      <td>0</td>\n",
       "      <td>0</td>\n",
       "      <td>0</td>\n",
       "      <td>0</td>\n",
       "      <td>0</td>\n",
       "      <td>1</td>\n",
       "      <td>0</td>\n",
       "      <td>1</td>\n",
       "      <td>0</td>\n",
       "    </tr>\n",
       "    <tr>\n",
       "      <th>4</th>\n",
       "      <td>w</td>\n",
       "      <td>1</td>\n",
       "      <td>2</td>\n",
       "      <td>NaN</td>\n",
       "      <td>Oct-1994</td>\n",
       "      <td>Individual</td>\n",
       "      <td>6.99</td>\n",
       "      <td>36 months</td>\n",
       "      <td>MORTGAGE</td>\n",
       "      <td>GA</td>\n",
       "      <td>...</td>\n",
       "      <td>0</td>\n",
       "      <td>0</td>\n",
       "      <td>0</td>\n",
       "      <td>0</td>\n",
       "      <td>0</td>\n",
       "      <td>1</td>\n",
       "      <td>1</td>\n",
       "      <td>0</td>\n",
       "      <td>0</td>\n",
       "      <td>1</td>\n",
       "    </tr>\n",
       "    <tr>\n",
       "      <th>...</th>\n",
       "      <td>...</td>\n",
       "      <td>...</td>\n",
       "      <td>...</td>\n",
       "      <td>...</td>\n",
       "      <td>...</td>\n",
       "      <td>...</td>\n",
       "      <td>...</td>\n",
       "      <td>...</td>\n",
       "      <td>...</td>\n",
       "      <td>...</td>\n",
       "      <td>...</td>\n",
       "      <td>...</td>\n",
       "      <td>...</td>\n",
       "      <td>...</td>\n",
       "      <td>...</td>\n",
       "      <td>...</td>\n",
       "      <td>...</td>\n",
       "      <td>...</td>\n",
       "      <td>...</td>\n",
       "      <td>...</td>\n",
       "      <td>...</td>\n",
       "    </tr>\n",
       "    <tr>\n",
       "      <th>257771</th>\n",
       "      <td>f</td>\n",
       "      <td>4</td>\n",
       "      <td>16</td>\n",
       "      <td>NaN</td>\n",
       "      <td>Jan-2002</td>\n",
       "      <td>Individual</td>\n",
       "      <td>17.09</td>\n",
       "      <td>36 months</td>\n",
       "      <td>MORTGAGE</td>\n",
       "      <td>VA</td>\n",
       "      <td>...</td>\n",
       "      <td>0</td>\n",
       "      <td>0</td>\n",
       "      <td>0</td>\n",
       "      <td>0</td>\n",
       "      <td>0</td>\n",
       "      <td>0</td>\n",
       "      <td>1</td>\n",
       "      <td>0</td>\n",
       "      <td>1</td>\n",
       "      <td>0</td>\n",
       "    </tr>\n",
       "    <tr>\n",
       "      <th>257772</th>\n",
       "      <td>f</td>\n",
       "      <td>4</td>\n",
       "      <td>20</td>\n",
       "      <td>NaN</td>\n",
       "      <td>Nov-1997</td>\n",
       "      <td>Individual</td>\n",
       "      <td>21.45</td>\n",
       "      <td>36 months</td>\n",
       "      <td>MORTGAGE</td>\n",
       "      <td>IL</td>\n",
       "      <td>...</td>\n",
       "      <td>0</td>\n",
       "      <td>0</td>\n",
       "      <td>0</td>\n",
       "      <td>0</td>\n",
       "      <td>0</td>\n",
       "      <td>0</td>\n",
       "      <td>1</td>\n",
       "      <td>0</td>\n",
       "      <td>1</td>\n",
       "      <td>0</td>\n",
       "    </tr>\n",
       "    <tr>\n",
       "      <th>257773</th>\n",
       "      <td>w</td>\n",
       "      <td>2</td>\n",
       "      <td>6</td>\n",
       "      <td>NaN</td>\n",
       "      <td>Mar-1992</td>\n",
       "      <td>Individual</td>\n",
       "      <td>9.44</td>\n",
       "      <td>36 months</td>\n",
       "      <td>MORTGAGE</td>\n",
       "      <td>AL</td>\n",
       "      <td>...</td>\n",
       "      <td>0</td>\n",
       "      <td>0</td>\n",
       "      <td>0</td>\n",
       "      <td>0</td>\n",
       "      <td>0</td>\n",
       "      <td>0</td>\n",
       "      <td>1</td>\n",
       "      <td>0</td>\n",
       "      <td>0</td>\n",
       "      <td>1</td>\n",
       "    </tr>\n",
       "    <tr>\n",
       "      <th>257774</th>\n",
       "      <td>w</td>\n",
       "      <td>3</td>\n",
       "      <td>12</td>\n",
       "      <td>NaN</td>\n",
       "      <td>Dec-2005</td>\n",
       "      <td>Individual</td>\n",
       "      <td>13.59</td>\n",
       "      <td>36 months</td>\n",
       "      <td>MORTGAGE</td>\n",
       "      <td>FL</td>\n",
       "      <td>...</td>\n",
       "      <td>0</td>\n",
       "      <td>0</td>\n",
       "      <td>0</td>\n",
       "      <td>0</td>\n",
       "      <td>0</td>\n",
       "      <td>0</td>\n",
       "      <td>1</td>\n",
       "      <td>0</td>\n",
       "      <td>0</td>\n",
       "      <td>1</td>\n",
       "    </tr>\n",
       "    <tr>\n",
       "      <th>257775</th>\n",
       "      <td>w</td>\n",
       "      <td>1</td>\n",
       "      <td>5</td>\n",
       "      <td>Not Verified</td>\n",
       "      <td>Aug-1995</td>\n",
       "      <td>Joint App</td>\n",
       "      <td>7.97</td>\n",
       "      <td>36 months</td>\n",
       "      <td>MORTGAGE</td>\n",
       "      <td>NY</td>\n",
       "      <td>...</td>\n",
       "      <td>0</td>\n",
       "      <td>0</td>\n",
       "      <td>0</td>\n",
       "      <td>0</td>\n",
       "      <td>0</td>\n",
       "      <td>0</td>\n",
       "      <td>0</td>\n",
       "      <td>1</td>\n",
       "      <td>0</td>\n",
       "      <td>1</td>\n",
       "    </tr>\n",
       "  </tbody>\n",
       "</table>\n",
       "<p>257776 rows × 139 columns</p>\n",
       "</div>"
      ],
      "text/plain": [
       "       initialliststatus  grade  subgrade verificationstatusjoint  \\\n",
       "0                      w      2         8                     NaN   \n",
       "1                      f      1         1                     NaN   \n",
       "2                      f      1         4                     NaN   \n",
       "3                      f      1         5                     NaN   \n",
       "4                      w      1         2                     NaN   \n",
       "...                  ...    ...       ...                     ...   \n",
       "257771                 f      4        16                     NaN   \n",
       "257772                 f      4        20                     NaN   \n",
       "257773                 w      2         6                     NaN   \n",
       "257774                 w      3        12                     NaN   \n",
       "257775                 w      1         5            Not Verified   \n",
       "\n",
       "       earliestcrline applicationtype  intrate        term homeownership  \\\n",
       "0            Apr-1973      Individual    11.39   36 months          RENT   \n",
       "1            Apr-2006      Individual     5.32   36 months      MORTGAGE   \n",
       "2            Apr-2007      Individual     7.49   36 months          RENT   \n",
       "3            Jan-2004      Individual     7.99   36 months          RENT   \n",
       "4            Oct-1994      Individual     6.99   36 months      MORTGAGE   \n",
       "...               ...             ...      ...         ...           ...   \n",
       "257771       Jan-2002      Individual    17.09   36 months      MORTGAGE   \n",
       "257772       Nov-1997      Individual    21.45   36 months      MORTGAGE   \n",
       "257773       Mar-1992      Individual     9.44   36 months      MORTGAGE   \n",
       "257774       Dec-2005      Individual    13.59   36 months      MORTGAGE   \n",
       "257775       Aug-1995       Joint App     7.97   36 months      MORTGAGE   \n",
       "\n",
       "       addrstate  ... purpose_medical  purpose_moving  purpose_other  \\\n",
       "0             FL  ...               0               0              0   \n",
       "1             GA  ...               0               0              0   \n",
       "2             MA  ...               0               0              0   \n",
       "3             OH  ...               0               0              0   \n",
       "4             GA  ...               0               0              0   \n",
       "...          ...  ...             ...             ...            ...   \n",
       "257771        VA  ...               0               0              0   \n",
       "257772        IL  ...               0               0              0   \n",
       "257773        AL  ...               0               0              0   \n",
       "257774        FL  ...               0               0              0   \n",
       "257775        NY  ...               0               0              0   \n",
       "\n",
       "       purpose_renewable_energy purpose_small_business  purpose_vacation  \\\n",
       "0                             0                      0                 0   \n",
       "1                             0                      0                 0   \n",
       "2                             0                      0                 0   \n",
       "3                             0                      0                 0   \n",
       "4                             0                      0                 1   \n",
       "...                         ...                    ...               ...   \n",
       "257771                        0                      0                 0   \n",
       "257772                        0                      0                 0   \n",
       "257773                        0                      0                 0   \n",
       "257774                        0                      0                 0   \n",
       "257775                        0                      0                 0   \n",
       "\n",
       "       applicationtype_Individual  applicationtype_Joint App  \\\n",
       "0                               1                          0   \n",
       "1                               1                          0   \n",
       "2                               1                          0   \n",
       "3                               1                          0   \n",
       "4                               1                          0   \n",
       "...                           ...                        ...   \n",
       "257771                          1                          0   \n",
       "257772                          1                          0   \n",
       "257773                          1                          0   \n",
       "257774                          1                          0   \n",
       "257775                          0                          1   \n",
       "\n",
       "        initialliststatus_f  initialliststatus_w  \n",
       "0                         0                    1  \n",
       "1                         1                    0  \n",
       "2                         1                    0  \n",
       "3                         1                    0  \n",
       "4                         0                    1  \n",
       "...                     ...                  ...  \n",
       "257771                    1                    0  \n",
       "257772                    1                    0  \n",
       "257773                    0                    1  \n",
       "257774                    0                    1  \n",
       "257775                    0                    1  \n",
       "\n",
       "[257776 rows x 139 columns]"
      ]
     },
     "execution_count": 155,
     "metadata": {},
     "output_type": "execute_result"
    }
   ],
   "source": [
    "df"
   ]
  },
  {
   "cell_type": "code",
   "execution_count": 157,
   "metadata": {},
   "outputs": [],
   "source": [
    "df[:10].to_csv('dataframe.csv', index=False)"
   ]
  },
  {
   "cell_type": "code",
   "execution_count": 164,
   "metadata": {},
   "outputs": [],
   "source": [
    "df1 = pd.read_csv('dataframe.csv')"
   ]
  },
  {
   "cell_type": "code",
   "execution_count": 165,
   "metadata": {},
   "outputs": [
    {
     "name": "stdout",
     "output_type": "stream",
     "text": [
      "[0.2623986]\n"
     ]
    }
   ],
   "source": [
    "# Convert the DataFrame to a DMatrix object\n",
    "dmatrix_data = xgb.DMatrix(df1[feat])\n",
    "\n",
    "# Make predictions using the DMatrix object\n",
    "predictions = scores.predict(dmatrix_data)\n",
    "\n",
    "# Print the predictions\n",
    "print(predictions)\n"
   ]
  },
  {
   "cell_type": "code",
   "execution_count": 167,
   "metadata": {},
   "outputs": [],
   "source": [
    "prediction = float(predictions)\n",
    "\n",
    "prediction={'high risk': round(prediction, 2),\n",
    "                        'safe': round(1 - prediction, 2),\n",
    "                        }"
   ]
  },
  {
   "cell_type": "code",
   "execution_count": 168,
   "metadata": {},
   "outputs": [
    {
     "name": "stdout",
     "output_type": "stream",
     "text": [
      "{'high risk': 0.26, 'safe': 0.74}\n"
     ]
    }
   ],
   "source": [
    "print(prediction)"
   ]
  },
  {
   "cell_type": "code",
   "execution_count": 9,
   "metadata": {},
   "outputs": [],
   "source": [
    "import ipysheet\n",
    "import ipywidgets"
   ]
  },
  {
   "cell_type": "code",
   "execution_count": 12,
   "metadata": {},
   "outputs": [
    {
     "data": {
      "application/vnd.jupyter.widget-view+json": {
       "model_id": "22a64baa1f42415f82be91e3e802a813",
       "version_major": 2,
       "version_minor": 0
      },
      "text/plain": [
       "Sheet(columns=9, layout=Layout(height='auto', width='auto'), rows=5)"
      ]
     },
     "metadata": {},
     "output_type": "display_data"
    }
   ],
   "source": [
    "sheet=ipysheet.sheet(columns=)\n",
    "sheet"
   ]
  },
  {
   "cell_type": "code",
   "execution_count": 14,
   "metadata": {},
   "outputs": [],
   "source": [
    "cell1=ipysheet.cell(row=1,column=1)"
   ]
  },
  {
   "cell_type": "code",
   "execution_count": 23,
   "metadata": {},
   "outputs": [],
   "source": [
    "def get_info():\n",
    "    info=[]\n",
    "    int_rate=input('int_rate=')\n",
    "    loan_amnt=input('loan_amnt')\n",
    "    term=input('')\n",
    "    fund_rate=input('')\n",
    "    bc_open_to_buy=input('')\n",
    "    total_il_high_credit_limit=input('')\n",
    "    dti=input('')\n",
    "    annual_inc=input('')\n",
    "    bc_util=input('')\n",
    "    info.append(int_rate)\n",
    "    info.append(loan_amnt)\n",
    "    info.append(term)\n",
    "    info.append(fund_rate)\n",
    "    info.append(bc_open_to_buy)\n",
    "    info.append(total_il_high_credit_limit)\n",
    "    info.append(dti)\n",
    "    info.append(annual_inc)\n",
    "    info.append(bc_util)\n",
    "    return info\n",
    "    "
   ]
  },
  {
   "cell_type": "code",
   "execution_count": 24,
   "metadata": {},
   "outputs": [
    {
     "name": "stdout",
     "output_type": "stream",
     "text": [
      "int_rate=1\n",
      "loan_amnt2\n",
      "3\n",
      "4\n",
      "5\n",
      "6\n",
      "7\n",
      "8\n",
      "9\n"
     ]
    }
   ],
   "source": [
    "info=get_info()\n",
    "print(info)"
   ]
  },
  {
   "cell_type": "code",
   "execution_count": 25,
   "metadata": {},
   "outputs": [
    {
     "data": {
      "text/plain": [
       "['1', '2', '3', '4', '5', '6', '7', '8', '9']"
      ]
     },
     "execution_count": 25,
     "metadata": {},
     "output_type": "execute_result"
    }
   ],
   "source": []
  },
  {
   "cell_type": "code",
   "execution_count": null,
   "metadata": {},
   "outputs": [],
   "source": []
  }
 ],
 "metadata": {
  "anaconda-cloud": {},
  "kernelspec": {
   "display_name": "Python 3 (ipykernel)",
   "language": "python",
   "name": "python3"
  },
  "language_info": {
   "codemirror_mode": {
    "name": "ipython",
    "version": 3
   },
   "file_extension": ".py",
   "mimetype": "text/x-python",
   "name": "python",
   "nbconvert_exporter": "python",
   "pygments_lexer": "ipython3",
   "version": "3.9.12"
  }
 },
 "nbformat": 4,
 "nbformat_minor": 1
}
